{
 "cells": [
  {
   "cell_type": "code",
   "execution_count": 5,
   "metadata": {
    "colab": {},
    "colab_type": "code",
    "id": "Y52MyP1fQZQd"
   },
   "outputs": [],
   "source": [
    "import pandas as pd\n",
    "import numpy as np\n",
    "import os"
   ]
  },
  {
   "cell_type": "markdown",
   "metadata": {
    "colab_type": "text",
    "id": "KJCn9Z4fxjhH"
   },
   "source": [
    "# Increase RAM size in Google Colab by creating an infinite loop"
   ]
  },
  {
   "cell_type": "code",
   "execution_count": 6,
   "metadata": {
    "colab": {},
    "colab_type": "code",
    "id": "M56phoDSQe6f"
   },
   "outputs": [],
   "source": [
    "# a = []\n",
    "# while(1):\n",
    "#     a.append('1')"
   ]
  },
  {
   "cell_type": "markdown",
   "metadata": {
    "colab_type": "text",
    "id": "jL8Qf2TGxjhK"
   },
   "source": [
    "# Read Past Safety incidents dataset"
   ]
  },
  {
   "cell_type": "code",
   "execution_count": 7,
   "metadata": {
    "colab": {
     "base_uri": "https://localhost:8080/",
     "height": 848
    },
    "colab_type": "code",
    "id": "D2sMDuBbQZQh",
    "outputId": "3766e2c7-db7b-434b-b9aa-770a6512f8bf"
   },
   "outputs": [
    {
     "data": {
      "text/html": [
       "<div>\n",
       "<style scoped>\n",
       "    .dataframe tbody tr th:only-of-type {\n",
       "        vertical-align: middle;\n",
       "    }\n",
       "\n",
       "    .dataframe tbody tr th {\n",
       "        vertical-align: top;\n",
       "    }\n",
       "\n",
       "    .dataframe thead th {\n",
       "        text-align: right;\n",
       "    }\n",
       "</style>\n",
       "<table border=\"1\" class=\"dataframe\">\n",
       "  <thead>\n",
       "    <tr style=\"text-align: right;\">\n",
       "      <th></th>\n",
       "      <th>Incident No.</th>\n",
       "      <th>Location</th>\n",
       "      <th>Date of Occurrence</th>\n",
       "      <th>Incident Description</th>\n",
       "      <th>Incident Level</th>\n",
       "      <th>Possible Serious Injury / Fatality</th>\n",
       "      <th>Near Miss?</th>\n",
       "      <th>Incident Type</th>\n",
       "      <th>Approving VP/Director</th>\n",
       "      <th>Assign for Investigation Assigned By</th>\n",
       "      <th>...</th>\n",
       "      <th>Vehicle - Driver's Name</th>\n",
       "      <th>Vehicle - Light Conditions</th>\n",
       "      <th>Vehicle - Number of Fatalities</th>\n",
       "      <th>Vehicle - Number of Injuries</th>\n",
       "      <th>Vehicle - Surface Type</th>\n",
       "      <th>Vehicle - Vehicle No.</th>\n",
       "      <th>Vehicle - Weather Condition</th>\n",
       "      <th>Vehicle - Were any vehicles towed as a result of this incident?</th>\n",
       "      <th>Vehicle - Were hazardous materials released, other than fuel spilled from the fuel tanks of motor vehicles involved in the accident?</th>\n",
       "      <th>Work Order #</th>\n",
       "    </tr>\n",
       "  </thead>\n",
       "  <tbody>\n",
       "    <tr>\n",
       "      <th>0</th>\n",
       "      <td>8645</td>\n",
       "      <td>Ada Service Center</td>\n",
       "      <td>2019-01-03 01:00:00</td>\n",
       "      <td>This is a First Aid incident.  While doing a 3...</td>\n",
       "      <td>Level 2</td>\n",
       "      <td>NaN</td>\n",
       "      <td>False</td>\n",
       "      <td>Member Injury</td>\n",
       "      <td>NaN</td>\n",
       "      <td>NaN</td>\n",
       "      <td>...</td>\n",
       "      <td>NaN</td>\n",
       "      <td>NaN</td>\n",
       "      <td>NaN</td>\n",
       "      <td>NaN</td>\n",
       "      <td>NaN</td>\n",
       "      <td>NaN</td>\n",
       "      <td>NaN</td>\n",
       "      <td>NaN</td>\n",
       "      <td>NaN</td>\n",
       "      <td>NaN</td>\n",
       "    </tr>\n",
       "    <tr>\n",
       "      <th>1</th>\n",
       "      <td>8646</td>\n",
       "      <td>South District Service Center</td>\n",
       "      <td>2019-01-03 15:00:00</td>\n",
       "      <td>Member was running extendo stick and felt a po...</td>\n",
       "      <td>Level 1</td>\n",
       "      <td>NaN</td>\n",
       "      <td>False</td>\n",
       "      <td>Member Injury</td>\n",
       "      <td>NaN</td>\n",
       "      <td>NaN</td>\n",
       "      <td>...</td>\n",
       "      <td>NaN</td>\n",
       "      <td>NaN</td>\n",
       "      <td>NaN</td>\n",
       "      <td>NaN</td>\n",
       "      <td>NaN</td>\n",
       "      <td>NaN</td>\n",
       "      <td>NaN</td>\n",
       "      <td>NaN</td>\n",
       "      <td>NaN</td>\n",
       "      <td>NaN</td>\n",
       "    </tr>\n",
       "    <tr>\n",
       "      <th>2</th>\n",
       "      <td>8647</td>\n",
       "      <td>Sooner Power Plant</td>\n",
       "      <td>2019-01-03 17:00:00</td>\n",
       "      <td>Contract members were working on sump in recla...</td>\n",
       "      <td>Level 1</td>\n",
       "      <td>NaN</td>\n",
       "      <td>True</td>\n",
       "      <td>Contractor</td>\n",
       "      <td>NaN</td>\n",
       "      <td>NaN</td>\n",
       "      <td>...</td>\n",
       "      <td>NaN</td>\n",
       "      <td>NaN</td>\n",
       "      <td>NaN</td>\n",
       "      <td>NaN</td>\n",
       "      <td>NaN</td>\n",
       "      <td>NaN</td>\n",
       "      <td>NaN</td>\n",
       "      <td>NaN</td>\n",
       "      <td>NaN</td>\n",
       "      <td>9576008</td>\n",
       "    </tr>\n",
       "    <tr>\n",
       "      <th>3</th>\n",
       "      <td>8648</td>\n",
       "      <td>Metro Service Center</td>\n",
       "      <td>2019-01-04 12:30:00</td>\n",
       "      <td>Contract Tree Worker tripped and/or slipped wh...</td>\n",
       "      <td>Level 2</td>\n",
       "      <td>NaN</td>\n",
       "      <td>False</td>\n",
       "      <td>Contractor</td>\n",
       "      <td>NaN</td>\n",
       "      <td>NaN</td>\n",
       "      <td>...</td>\n",
       "      <td>NaN</td>\n",
       "      <td>NaN</td>\n",
       "      <td>NaN</td>\n",
       "      <td>NaN</td>\n",
       "      <td>NaN</td>\n",
       "      <td>NaN</td>\n",
       "      <td>NaN</td>\n",
       "      <td>NaN</td>\n",
       "      <td>NaN</td>\n",
       "      <td>none</td>\n",
       "    </tr>\n",
       "    <tr>\n",
       "      <th>4</th>\n",
       "      <td>8648</td>\n",
       "      <td>Metro Service Center</td>\n",
       "      <td>2019-01-04 12:30:00</td>\n",
       "      <td>Contract Tree Worker tripped and/or slipped wh...</td>\n",
       "      <td>Level 2</td>\n",
       "      <td>NaN</td>\n",
       "      <td>False</td>\n",
       "      <td>Contractor</td>\n",
       "      <td>NaN</td>\n",
       "      <td>NaN</td>\n",
       "      <td>...</td>\n",
       "      <td>NaN</td>\n",
       "      <td>NaN</td>\n",
       "      <td>NaN</td>\n",
       "      <td>NaN</td>\n",
       "      <td>NaN</td>\n",
       "      <td>NaN</td>\n",
       "      <td>NaN</td>\n",
       "      <td>NaN</td>\n",
       "      <td>NaN</td>\n",
       "      <td>none</td>\n",
       "    </tr>\n",
       "  </tbody>\n",
       "</table>\n",
       "<p>5 rows × 171 columns</p>\n",
       "</div>"
      ],
      "text/plain": [
       "   Incident No.                       Location  Date of Occurrence  \\\n",
       "0          8645             Ada Service Center 2019-01-03 01:00:00   \n",
       "1          8646  South District Service Center 2019-01-03 15:00:00   \n",
       "2          8647             Sooner Power Plant 2019-01-03 17:00:00   \n",
       "3          8648           Metro Service Center 2019-01-04 12:30:00   \n",
       "4          8648           Metro Service Center 2019-01-04 12:30:00   \n",
       "\n",
       "                                Incident Description Incident Level  \\\n",
       "0  This is a First Aid incident.  While doing a 3...        Level 2   \n",
       "1  Member was running extendo stick and felt a po...        Level 1   \n",
       "2  Contract members were working on sump in recla...        Level 1   \n",
       "3  Contract Tree Worker tripped and/or slipped wh...        Level 2   \n",
       "4  Contract Tree Worker tripped and/or slipped wh...        Level 2   \n",
       "\n",
       "   Possible Serious Injury / Fatality  Near Miss?  Incident Type  \\\n",
       "0                                 NaN       False  Member Injury   \n",
       "1                                 NaN       False  Member Injury   \n",
       "2                                 NaN        True     Contractor   \n",
       "3                                 NaN       False     Contractor   \n",
       "4                                 NaN       False     Contractor   \n",
       "\n",
       "  Approving VP/Director Assign for Investigation Assigned By  ...  \\\n",
       "0                   NaN                                  NaN  ...   \n",
       "1                   NaN                                  NaN  ...   \n",
       "2                   NaN                                  NaN  ...   \n",
       "3                   NaN                                  NaN  ...   \n",
       "4                   NaN                                  NaN  ...   \n",
       "\n",
       "  Vehicle - Driver's Name Vehicle - Light Conditions  \\\n",
       "0                     NaN                        NaN   \n",
       "1                     NaN                        NaN   \n",
       "2                     NaN                        NaN   \n",
       "3                     NaN                        NaN   \n",
       "4                     NaN                        NaN   \n",
       "\n",
       "  Vehicle - Number of Fatalities Vehicle - Number of Injuries  \\\n",
       "0                            NaN                          NaN   \n",
       "1                            NaN                          NaN   \n",
       "2                            NaN                          NaN   \n",
       "3                            NaN                          NaN   \n",
       "4                            NaN                          NaN   \n",
       "\n",
       "  Vehicle - Surface Type Vehicle - Vehicle No. Vehicle - Weather Condition  \\\n",
       "0                    NaN                   NaN                         NaN   \n",
       "1                    NaN                   NaN                         NaN   \n",
       "2                    NaN                   NaN                         NaN   \n",
       "3                    NaN                   NaN                         NaN   \n",
       "4                    NaN                   NaN                         NaN   \n",
       "\n",
       "  Vehicle - Were any vehicles towed as a result of this incident?  \\\n",
       "0                                                NaN                \n",
       "1                                                NaN                \n",
       "2                                                NaN                \n",
       "3                                                NaN                \n",
       "4                                                NaN                \n",
       "\n",
       "  Vehicle - Were hazardous materials released, other than fuel spilled from the fuel tanks of motor vehicles involved in the accident?  \\\n",
       "0                                                NaN                                                                                     \n",
       "1                                                NaN                                                                                     \n",
       "2                                                NaN                                                                                     \n",
       "3                                                NaN                                                                                     \n",
       "4                                                NaN                                                                                     \n",
       "\n",
       "  Work Order #  \n",
       "0          NaN  \n",
       "1          NaN  \n",
       "2      9576008  \n",
       "3         none  \n",
       "4         none  \n",
       "\n",
       "[5 rows x 171 columns]"
      ]
     },
     "execution_count": 7,
     "metadata": {},
     "output_type": "execute_result"
    }
   ],
   "source": [
    "os.chdir(r'C:\\\\Users\\\\govindsg\\\\Google Drive\\\\Spring 2020 OGE\\\\OGE\\\\QoM2 Predict next safety incident')\n",
    "pastInc = pd.read_excel('IncidentManagementData_OGESafetyDataIncidentsCreatedinLastMonth_2020-03-01-02-02-57.xlsx',skiprows=2,skipfooter=3)\n",
    "pastInc.head()"
   ]
  },
  {
   "cell_type": "code",
   "execution_count": 8,
   "metadata": {
    "colab": {
     "base_uri": "https://localhost:8080/",
     "height": 119
    },
    "colab_type": "code",
    "id": "N3PxA_PMQZQl",
    "outputId": "509882f2-677b-4e9d-d7ae-4d5abf07b616"
   },
   "outputs": [
    {
     "data": {
      "text/plain": [
       "0    This is a First Aid incident.  While doing a 3...\n",
       "1    Member was running extendo stick and felt a po...\n",
       "2    Contract members were working on sump in recla...\n",
       "3    Contract Tree Worker tripped and/or slipped wh...\n",
       "4    Contract Tree Worker tripped and/or slipped wh...\n",
       "Name: Incident Description, dtype: object"
      ]
     },
     "execution_count": 8,
     "metadata": {},
     "output_type": "execute_result"
    }
   ],
   "source": [
    "pastInc['Incident Description'].head()"
   ]
  },
  {
   "cell_type": "markdown",
   "metadata": {
    "colab_type": "text",
    "id": "7MRgKrvqxjhU"
   },
   "source": [
    "# Unique number of text fields count"
   ]
  },
  {
   "cell_type": "code",
   "execution_count": 9,
   "metadata": {
    "colab": {
     "base_uri": "https://localhost:8080/",
     "height": 34
    },
    "colab_type": "code",
    "id": "QhY2_onGQZQn",
    "outputId": "0eee01b7-3ec5-459d-9670-12c1b27fe893"
   },
   "outputs": [
    {
     "data": {
      "text/plain": [
       "594"
      ]
     },
     "execution_count": 9,
     "metadata": {},
     "output_type": "execute_result"
    }
   ],
   "source": [
    "pastInc['Incident Description'].nunique()"
   ]
  },
  {
   "cell_type": "markdown",
   "metadata": {
    "colab_type": "text",
    "id": "2AvM2ZrQyDJW"
   },
   "source": [
    "# Are there any empty fields with no data ?"
   ]
  },
  {
   "cell_type": "code",
   "execution_count": 10,
   "metadata": {
    "colab": {
     "base_uri": "https://localhost:8080/",
     "height": 34
    },
    "colab_type": "code",
    "id": "xBD8bY6mQZQq",
    "outputId": "168bde97-e5e2-44a4-a4ee-88ebd7814d2f"
   },
   "outputs": [
    {
     "data": {
      "text/plain": [
       "0"
      ]
     },
     "execution_count": 10,
     "metadata": {},
     "output_type": "execute_result"
    }
   ],
   "source": [
    "pastInc['Incident Description'].isnull().sum()"
   ]
  },
  {
   "cell_type": "markdown",
   "metadata": {
    "colab_type": "text",
    "id": "vXrn0LV-xjhZ"
   },
   "source": [
    "# Remove Duplicate Observations"
   ]
  },
  {
   "cell_type": "code",
   "execution_count": 11,
   "metadata": {
    "colab": {
     "base_uri": "https://localhost:8080/",
     "height": 34
    },
    "colab_type": "code",
    "id": "AdeFL48HQZQt",
    "outputId": "2d802e46-8a7f-4aea-d256-779add5f99d8"
   },
   "outputs": [
    {
     "data": {
      "text/plain": [
       "(594, 1)"
      ]
     },
     "execution_count": 11,
     "metadata": {},
     "output_type": "execute_result"
    }
   ],
   "source": [
    "from pandas import DataFrame\n",
    "pastInc_onlyInc = DataFrame(pastInc,columns = ['Incident Description'])\n",
    "onlyInc_DupRemoved = DataFrame.drop_duplicates(pastInc_onlyInc)\n",
    "onlyInc_DupRemoved.shape"
   ]
  },
  {
   "cell_type": "markdown",
   "metadata": {
    "colab_type": "text",
    "id": "VwnGU-yTQZQv"
   },
   "source": [
    "# Count number of words in each text"
   ]
  },
  {
   "cell_type": "code",
   "execution_count": 12,
   "metadata": {
    "colab": {
     "base_uri": "https://localhost:8080/",
     "height": 306
    },
    "colab_type": "code",
    "id": "tjP7tZn4QZQw",
    "outputId": "2a82e255-7a83-4f05-fb79-44d4b5f80ced"
   },
   "outputs": [
    {
     "name": "stderr",
     "output_type": "stream",
     "text": [
      "C:\\ProgramData\\Anaconda3\\lib\\site-packages\\ipykernel_launcher.py:1: SettingWithCopyWarning: \n",
      "A value is trying to be set on a copy of a slice from a DataFrame.\n",
      "Try using .loc[row_indexer,col_indexer] = value instead\n",
      "\n",
      "See the caveats in the documentation: http://pandas.pydata.org/pandas-docs/stable/indexing.html#indexing-view-versus-copy\n",
      "  \"\"\"Entry point for launching an IPython kernel.\n"
     ]
    },
    {
     "data": {
      "text/html": [
       "<div>\n",
       "<style scoped>\n",
       "    .dataframe tbody tr th:only-of-type {\n",
       "        vertical-align: middle;\n",
       "    }\n",
       "\n",
       "    .dataframe tbody tr th {\n",
       "        vertical-align: top;\n",
       "    }\n",
       "\n",
       "    .dataframe thead th {\n",
       "        text-align: right;\n",
       "    }\n",
       "</style>\n",
       "<table border=\"1\" class=\"dataframe\">\n",
       "  <thead>\n",
       "    <tr style=\"text-align: right;\">\n",
       "      <th></th>\n",
       "      <th>Incident Description</th>\n",
       "      <th>wordCount</th>\n",
       "    </tr>\n",
       "  </thead>\n",
       "  <tbody>\n",
       "    <tr>\n",
       "      <th>0</th>\n",
       "      <td>This is a First Aid incident.  While doing a 3...</td>\n",
       "      <td>56</td>\n",
       "    </tr>\n",
       "    <tr>\n",
       "      <th>1</th>\n",
       "      <td>Member was running extendo stick and felt a po...</td>\n",
       "      <td>16</td>\n",
       "    </tr>\n",
       "    <tr>\n",
       "      <th>2</th>\n",
       "      <td>Contract members were working on sump in recla...</td>\n",
       "      <td>22</td>\n",
       "    </tr>\n",
       "    <tr>\n",
       "      <th>3</th>\n",
       "      <td>Contract Tree Worker tripped and/or slipped wh...</td>\n",
       "      <td>25</td>\n",
       "    </tr>\n",
       "    <tr>\n",
       "      <th>7</th>\n",
       "      <td>While inventorying grating material delivered ...</td>\n",
       "      <td>30</td>\n",
       "    </tr>\n",
       "  </tbody>\n",
       "</table>\n",
       "</div>"
      ],
      "text/plain": [
       "                                Incident Description  wordCount\n",
       "0  This is a First Aid incident.  While doing a 3...         56\n",
       "1  Member was running extendo stick and felt a po...         16\n",
       "2  Contract members were working on sump in recla...         22\n",
       "3  Contract Tree Worker tripped and/or slipped wh...         25\n",
       "7  While inventorying grating material delivered ...         30"
      ]
     },
     "execution_count": 12,
     "metadata": {},
     "output_type": "execute_result"
    }
   ],
   "source": [
    "onlyInc_DupRemoved['wordCount'] = onlyInc_DupRemoved['Incident Description'].apply(lambda x : len(str(x).split(' ')))\n",
    "onlyInc_DupRemoved.head()                                                                                  "
   ]
  },
  {
   "cell_type": "markdown",
   "metadata": {
    "colab_type": "text",
    "id": "mjDiKzjxQZQz"
   },
   "source": [
    "# Convert text to lower case and remove punctuation marks"
   ]
  },
  {
   "cell_type": "code",
   "execution_count": 13,
   "metadata": {
    "colab": {
     "base_uri": "https://localhost:8080/",
     "height": 221
    },
    "colab_type": "code",
    "id": "p4gRCPIWQZQ0",
    "outputId": "cffc64e9-bb72-4005-c167-368d2f8404c1"
   },
   "outputs": [
    {
     "name": "stderr",
     "output_type": "stream",
     "text": [
      "C:\\ProgramData\\Anaconda3\\lib\\site-packages\\ipykernel_launcher.py:2: SettingWithCopyWarning: \n",
      "A value is trying to be set on a copy of a slice from a DataFrame.\n",
      "Try using .loc[row_indexer,col_indexer] = value instead\n",
      "\n",
      "See the caveats in the documentation: http://pandas.pydata.org/pandas-docs/stable/indexing.html#indexing-view-versus-copy\n",
      "  \n"
     ]
    },
    {
     "data": {
      "text/plain": [
       "0    this is a first aid incident  while doing a 36...\n",
       "1    member was running extendo stick and felt a po...\n",
       "2    contract members were working on sump in recla...\n",
       "3    contract tree worker tripped and/or slipped wh...\n",
       "7    while inventorying grating material delivered ...\n",
       "Name: Incident Description, dtype: object"
      ]
     },
     "execution_count": 13,
     "metadata": {},
     "output_type": "execute_result"
    }
   ],
   "source": [
    "import re\n",
    "onlyInc_DupRemoved['Incident Description'] = onlyInc_DupRemoved['Incident Description'].apply(lambda x: str(x).lower()).apply(lambda x: re.sub('[,\\.!?]', '', x))\n",
    "onlyInc_DupRemoved['Incident Description'].head()"
   ]
  },
  {
   "cell_type": "markdown",
   "metadata": {
    "colab_type": "text",
    "id": "wMbYKwPjQZQ2"
   },
   "source": [
    "# Remove stop words using nltk package"
   ]
  },
  {
   "cell_type": "code",
   "execution_count": 14,
   "metadata": {
    "colab": {
     "base_uri": "https://localhost:8080/",
     "height": 68
    },
    "colab_type": "code",
    "id": "qiDBfDGwQZQ3",
    "outputId": "36686402-6a29-4e18-bd8a-22295b47ee60"
   },
   "outputs": [
    {
     "name": "stderr",
     "output_type": "stream",
     "text": [
      "[nltk_data] Downloading package stopwords to\n",
      "[nltk_data]     C:\\ProgramData\\Anaconda3\\lib\\nltk_data...\n",
      "[nltk_data]   Package stopwords is already up-to-date!\n"
     ]
    },
    {
     "data": {
      "text/plain": [
       "['i', 'me', 'my', 'myself', 'we', 'our', 'ours', 'ourselves', 'you', \"you're\"]"
      ]
     },
     "execution_count": 14,
     "metadata": {},
     "output_type": "execute_result"
    }
   ],
   "source": [
    "import nltk\n",
    "nltk.download('stopwords')\n",
    "from nltk.corpus import stopwords\n",
    "stop = stopwords.words('english')\n",
    "stop[:10]"
   ]
  },
  {
   "cell_type": "code",
   "execution_count": 15,
   "metadata": {
    "colab": {
     "base_uri": "https://localhost:8080/",
     "height": 221
    },
    "colab_type": "code",
    "id": "7Asq4VqZQZQ5",
    "outputId": "f5646be5-02d8-4581-b412-2f9b82ff75ba"
   },
   "outputs": [
    {
     "name": "stderr",
     "output_type": "stream",
     "text": [
      "C:\\ProgramData\\Anaconda3\\lib\\site-packages\\ipykernel_launcher.py:1: SettingWithCopyWarning: \n",
      "A value is trying to be set on a copy of a slice from a DataFrame.\n",
      "Try using .loc[row_indexer,col_indexer] = value instead\n",
      "\n",
      "See the caveats in the documentation: http://pandas.pydata.org/pandas-docs/stable/indexing.html#indexing-view-versus-copy\n",
      "  \"\"\"Entry point for launching an IPython kernel.\n"
     ]
    },
    {
     "data": {
      "text/plain": [
       "0    first aid incident  360 leaving home go troubl...\n",
       "1    member running extendo stick felt pop right sh...\n",
       "2    contract members working sump reclaim area  co...\n",
       "3    contract tree worker tripped and/or slipped pu...\n",
       "7    inventorying grating material delivered capita...\n",
       "Name: Incident Description, dtype: object"
      ]
     },
     "execution_count": 15,
     "metadata": {},
     "output_type": "execute_result"
    }
   ],
   "source": [
    "onlyInc_DupRemoved['Incident Description'] = onlyInc_DupRemoved['Incident Description'].apply(lambda x: \" \".join(x for x in str(x).split(' ') if x not in stop))\n",
    "onlyInc_DupRemoved['Incident Description'].head()"
   ]
  },
  {
   "cell_type": "markdown",
   "metadata": {
    "colab_type": "text",
    "id": "Wb8q3mSpQZQ9"
   },
   "source": [
    "# Remove Numerics "
   ]
  },
  {
   "cell_type": "code",
   "execution_count": 16,
   "metadata": {
    "colab": {
     "base_uri": "https://localhost:8080/",
     "height": 221
    },
    "colab_type": "code",
    "id": "ekTr5CoFQZQ9",
    "outputId": "1d10e813-678e-404d-968a-3ee96946257b"
   },
   "outputs": [
    {
     "name": "stderr",
     "output_type": "stream",
     "text": [
      "C:\\ProgramData\\Anaconda3\\lib\\site-packages\\ipykernel_launcher.py:1: SettingWithCopyWarning: \n",
      "A value is trying to be set on a copy of a slice from a DataFrame.\n",
      "Try using .loc[row_indexer,col_indexer] = value instead\n",
      "\n",
      "See the caveats in the documentation: http://pandas.pydata.org/pandas-docs/stable/indexing.html#indexing-view-versus-copy\n",
      "  \"\"\"Entry point for launching an IPython kernel.\n"
     ]
    },
    {
     "data": {
      "text/plain": [
       "0    first aid incident  leaving home go trouble ca...\n",
       "1    member running extendo stick felt pop right sh...\n",
       "2    contract members working sump reclaim area  co...\n",
       "3    contract tree worker tripped and/or slipped pu...\n",
       "7    inventorying grating material delivered capita...\n",
       "Name: Incident Description, dtype: object"
      ]
     },
     "execution_count": 16,
     "metadata": {},
     "output_type": "execute_result"
    }
   ],
   "source": [
    "onlyInc_DupRemoved['Incident Description'] = onlyInc_DupRemoved['Incident Description'].apply(lambda x : ' '.join(x for x in str(x).split(' ') if not x.isdigit()))\n",
    "onlyInc_DupRemoved['Incident Description'].head()"
   ]
  },
  {
   "cell_type": "markdown",
   "metadata": {
    "colab_type": "text",
    "id": "K3xJsBcYQZRB"
   },
   "source": [
    "# Correct Spellings using TextBlob package"
   ]
  },
  {
   "cell_type": "code",
   "execution_count": 17,
   "metadata": {
    "colab": {},
    "colab_type": "code",
    "id": "2XehyP-JQZRB"
   },
   "outputs": [],
   "source": [
    "from textblob import TextBlob"
   ]
  },
  {
   "cell_type": "code",
   "execution_count": 18,
   "metadata": {
    "colab": {
     "base_uri": "https://localhost:8080/",
     "height": 119
    },
    "colab_type": "code",
    "id": "WhDMAMQCQZRD",
    "outputId": "30523b5a-1b97-414d-dc9f-027ca5c486bb"
   },
   "outputs": [
    {
     "data": {
      "text/plain": [
       "0    first aid incident  leaving home go trouble ca...\n",
       "1    member running extendo stick felt pop right sh...\n",
       "2    contract members working sump reclaim area  co...\n",
       "3    contract tree worker tripped and/or slipped pu...\n",
       "7    inventorying grating material delivered capita...\n",
       "Name: Incident Description, dtype: object"
      ]
     },
     "execution_count": 18,
     "metadata": {},
     "output_type": "execute_result"
    }
   ],
   "source": [
    "onlyInc_DupRemoved['Incident Description'].apply(lambda x: str(TextBlob(x).correct()))\n",
    "onlyInc_DupRemoved['Incident Description'].head()"
   ]
  },
  {
   "cell_type": "markdown",
   "metadata": {
    "colab_type": "text",
    "id": "Q8_hDwFjQZRG"
   },
   "source": [
    "# Lemmatization to root word (removal of suffices, like “ly”, “s”, etc)"
   ]
  },
  {
   "cell_type": "code",
   "execution_count": 19,
   "metadata": {
    "colab": {
     "base_uri": "https://localhost:8080/",
     "height": 255
    },
    "colab_type": "code",
    "id": "aK-Pb_yiQZRG",
    "outputId": "948ec1ba-c776-46c4-99cc-c2c437f0254f"
   },
   "outputs": [
    {
     "name": "stderr",
     "output_type": "stream",
     "text": [
      "[nltk_data] Downloading package wordnet to\n",
      "[nltk_data]     C:\\ProgramData\\Anaconda3\\lib\\nltk_data...\n",
      "[nltk_data]   Package wordnet is already up-to-date!\n",
      "C:\\ProgramData\\Anaconda3\\lib\\site-packages\\ipykernel_launcher.py:4: SettingWithCopyWarning: \n",
      "A value is trying to be set on a copy of a slice from a DataFrame.\n",
      "Try using .loc[row_indexer,col_indexer] = value instead\n",
      "\n",
      "See the caveats in the documentation: http://pandas.pydata.org/pandas-docs/stable/indexing.html#indexing-view-versus-copy\n",
      "  after removing the cwd from sys.path.\n"
     ]
    },
    {
     "data": {
      "text/plain": [
       "0    first aid incident leaving home go trouble cal...\n",
       "1    member running extendo stick felt pop right sh...\n",
       "2    contract member working sump reclaim area cont...\n",
       "3    contract tree worker tripped and/or slipped pu...\n",
       "7    inventorying grating material delivered capita...\n",
       "Name: Incident Description, dtype: object"
      ]
     },
     "execution_count": 19,
     "metadata": {},
     "output_type": "execute_result"
    }
   ],
   "source": [
    "import nltk\n",
    "nltk.download('wordnet')\n",
    "from textblob import Word\n",
    "onlyInc_DupRemoved['Incident Description'] = onlyInc_DupRemoved['Incident Description'].apply(lambda x: \" \".join([Word(word).lemmatize() for word in x.split()]))\n",
    "onlyInc_DupRemoved['Incident Description'].head()"
   ]
  },
  {
   "cell_type": "markdown",
   "metadata": {
    "colab_type": "text",
    "id": "DMPimW85QZRI"
   },
   "source": [
    "# Most frequently Occured Words ? "
   ]
  },
  {
   "cell_type": "code",
   "execution_count": 20,
   "metadata": {
    "colab": {
     "base_uri": "https://localhost:8080/",
     "height": 544
    },
    "colab_type": "code",
    "id": "TzlYb_6oQZRJ",
    "outputId": "eb6e7c60-b39c-4aaf-b48d-e381001c0ec8"
   },
   "outputs": [
    {
     "data": {
      "text/plain": [
       "member        395\n",
       "vehicle       160\n",
       "contractor    138\n",
       "truck         108\n",
       "injury         80\n",
       "line           73\n",
       "fell           70\n",
       "damage         65\n",
       "side           64\n",
       "fire           63\n",
       "driver         60\n",
       "area           56\n",
       "struck         55\n",
       "causing        52\n",
       "ground         52\n",
       "back           51\n",
       "crew           50\n",
       "public         49\n",
       "door           48\n",
       "company        48\n",
       "work           46\n",
       "occurred       46\n",
       "operator       45\n",
       "left           44\n",
       "oge            44\n",
       "right          44\n",
       "contact        43\n",
       "tree           43\n",
       "service        41\n",
       "hit            39\n",
       "dtype: int64"
      ]
     },
     "execution_count": 20,
     "metadata": {},
     "output_type": "execute_result"
    }
   ],
   "source": [
    "freq = pd.Series(' '.join(onlyInc_DupRemoved['Incident Description']).split()).value_counts()[:30]\n",
    "freq"
   ]
  },
  {
   "cell_type": "markdown",
   "metadata": {
    "colab_type": "text",
    "id": "kwdhLA321PT2"
   },
   "source": [
    "# Remove words that don't add value to analysis. Example : 'Member', because it doesnt tell any information about injury itself"
   ]
  },
  {
   "cell_type": "code",
   "execution_count": 21,
   "metadata": {
    "colab": {
     "base_uri": "https://localhost:8080/",
     "height": 221
    },
    "colab_type": "code",
    "id": "SsN6cg1XQZRN",
    "outputId": "0386bef7-948a-4c8a-e72a-406f45225f29"
   },
   "outputs": [
    {
     "name": "stderr",
     "output_type": "stream",
     "text": [
      "C:\\ProgramData\\Anaconda3\\lib\\site-packages\\ipykernel_launcher.py:2: SettingWithCopyWarning: \n",
      "A value is trying to be set on a copy of a slice from a DataFrame.\n",
      "Try using .loc[row_indexer,col_indexer] = value instead\n",
      "\n",
      "See the caveats in the documentation: http://pandas.pydata.org/pandas-docs/stable/indexing.html#indexing-view-versus-copy\n",
      "  \n"
     ]
    },
    {
     "data": {
      "text/plain": [
       "0    first aid incident leaving home go trouble cal...\n",
       "1    running extendo stick felt pop shoulder result...\n",
       "2    contract working sump reclaim contract filled ...\n",
       "3    contract tree worker tripped and/or slipped pu...\n",
       "7    inventorying grating material delivered capita...\n",
       "Name: Incident Description, dtype: object"
      ]
     },
     "execution_count": 21,
     "metadata": {},
     "output_type": "execute_result"
    }
   ],
   "source": [
    "remove = ['member','injury','area','public','company','crew','right','left','contractor','causing','side','back','occurred','work']\n",
    "onlyInc_DupRemoved['Incident Description'] = onlyInc_DupRemoved['Incident Description'].apply(lambda x : ' '.join(x for x in str(x).split(' ') if x not in remove))\n",
    "onlyInc_DupRemoved['Incident Description'].head()\n"
   ]
  },
  {
   "cell_type": "markdown",
   "metadata": {
    "colab_type": "text",
    "id": "rvVaKpLDQZRQ"
   },
   "source": [
    "# Visualize Top 10 High frequency words"
   ]
  },
  {
   "cell_type": "code",
   "execution_count": 22,
   "metadata": {
    "colab": {
     "base_uri": "https://localhost:8080/",
     "height": 648
    },
    "colab_type": "code",
    "id": "v-ydpxweQZRR",
    "outputId": "441716ee-ecac-4590-fad2-f9f8f8f9cc13"
   },
   "outputs": [
    {
     "data": {
      "image/png": "[encoded data removed]",
      "text/plain": [
       "<Figure size 1080x667.491 with 1 Axes>"
      ]
     },
     "metadata": {
      "needs_background": "light"
     },
     "output_type": "display_data"
    }
   ],
   "source": [
    "# Load the library with the CountVectorizer method\n",
    "from sklearn.feature_extraction.text import CountVectorizer\n",
    "import numpy as np\n",
    "import matplotlib.pyplot as plt\n",
    "import seaborn as sns\n",
    "sns.set_style('whitegrid')\n",
    "%matplotlib inline\n",
    "# Helper function\n",
    "def plot_10_most_common_words(count_data, count_vectorizer):\n",
    "    import matplotlib.pyplot as plt\n",
    "    words = count_vectorizer.get_feature_names()\n",
    "    total_counts = np.zeros(len(words))\n",
    "    for t in count_data:\n",
    "        total_counts+=t.toarray()[0]\n",
    "    \n",
    "    count_dict = (zip(words, total_counts))\n",
    "    count_dict = sorted(count_dict, key=lambda x:x[1], reverse=True)[0:10]\n",
    "    words = [w[0] for w in count_dict]\n",
    "    counts = [w[1] for w in count_dict]\n",
    "    x_pos = np.arange(len(words)) \n",
    "    \n",
    "    plt.figure(2, figsize=(15, 15/1.6180))\n",
    "    plt.subplot(title='10 most common words')\n",
    "    sns.set_context(\"notebook\", font_scale=1.25, rc={\"lines.linewidth\": 2.5})\n",
    "    sns.barplot(x_pos, counts, palette='husl')\n",
    "    plt.xticks(x_pos, words, rotation=90) \n",
    "    plt.xlabel('words')\n",
    "    plt.ylabel('counts')\n",
    "    plt.show()\n",
    "# Initialise the count vectorizer with the English stop words\n",
    "count_vectorizer = CountVectorizer(stop_words='english')\n",
    "# Fit and transform the processed titles\n",
    "count_data = count_vectorizer.fit_transform(onlyInc_DupRemoved['Incident Description'])\n",
    "# Visualise the 10 most common words\n",
    "plot_10_most_common_words(count_data, count_vectorizer)"
   ]
  },
  {
   "cell_type": "markdown",
   "metadata": {
    "colab_type": "text",
    "id": "t_quaO6lQZRT"
   },
   "source": [
    "# Other High frequency words - Top 30 shown here"
   ]
  },
  {
   "cell_type": "code",
   "execution_count": 23,
   "metadata": {
    "colab": {
     "base_uri": "https://localhost:8080/",
     "height": 544
    },
    "colab_type": "code",
    "id": "BJavU-QPQZRT",
    "outputId": "812d1b2c-cded-4c48-8e62-a10271a36ed9"
   },
   "outputs": [
    {
     "data": {
      "text/plain": [
       "vehicle      160\n",
       "truck        108\n",
       "line          73\n",
       "fell          70\n",
       "damage        65\n",
       "fire          63\n",
       "driver        60\n",
       "struck        55\n",
       "ground        52\n",
       "door          48\n",
       "operator      45\n",
       "oge           44\n",
       "contact       43\n",
       "tree          43\n",
       "service       41\n",
       "hit           39\n",
       "pole          38\n",
       "rear          38\n",
       "control       37\n",
       "water         37\n",
       "found         36\n",
       "pump          36\n",
       "first         36\n",
       "wire          35\n",
       "light         35\n",
       "one           35\n",
       "foot          35\n",
       "valve         35\n",
       "open          34\n",
       "contacted     34\n",
       "dtype: int64"
      ]
     },
     "execution_count": 23,
     "metadata": {},
     "output_type": "execute_result"
    }
   ],
   "source": [
    "freq_updated = pd.Series(' '.join(onlyInc_DupRemoved['Incident Description']).split()).value_counts()[:30]\n",
    "freq_updated"
   ]
  },
  {
   "cell_type": "markdown",
   "metadata": {
    "colab_type": "text",
    "id": "p3Xwzk5-QZRV"
   },
   "source": [
    "# Tokenization of documents"
   ]
  },
  {
   "cell_type": "code",
   "execution_count": 24,
   "metadata": {
    "colab": {
     "base_uri": "https://localhost:8080/",
     "height": 153
    },
    "colab_type": "code",
    "id": "qSJBgpJHQZRV",
    "outputId": "b6b50bd3-6d29-42a2-b843-7c10898d6859"
   },
   "outputs": [
    {
     "name": "stderr",
     "output_type": "stream",
     "text": [
      "[nltk_data] Downloading package punkt to\n",
      "[nltk_data]     C:\\ProgramData\\Anaconda3\\lib\\nltk_data...\n",
      "[nltk_data]   Package punkt is already up-to-date!\n"
     ]
    },
    {
     "data": {
      "text/plain": [
       "0    [first, aid, incident, leaving, home, go, trou...\n",
       "1    [running, extendo, stick, felt, pop, shoulder,...\n",
       "2    [contract, working, sump, reclaim, contract, f...\n",
       "3    [contract, tree, worker, tripped, and/or, slip...\n",
       "7    [inventorying, grating, material, delivered, c...\n",
       "Name: Incident Description, dtype: object"
      ]
     },
     "execution_count": 24,
     "metadata": {},
     "output_type": "execute_result"
    }
   ],
   "source": [
    "import nltk\n",
    "nltk.download('punkt')\n",
    "tokens = onlyInc_DupRemoved['Incident Description'].apply(lambda x : TextBlob(x).words)\n",
    "tokens.head()"
   ]
  },
  {
   "cell_type": "markdown",
   "metadata": {
    "colab_type": "text",
    "id": "MWSlfhgIQZRX"
   },
   "source": [
    "# WORD CLOUD for the descriptions                                                                     (Visualizing text data in which the size of each word indicates its frequency or importance)¶"
   ]
  },
  {
   "cell_type": "code",
   "execution_count": 25,
   "metadata": {
    "colab": {},
    "colab_type": "code",
    "id": "diTAFBc-QZRY"
   },
   "outputs": [],
   "source": [
    "from wordcloud import WordCloud, STOPWORDS, ImageColorGenerator\n",
    "import matplotlib.pyplot as plt\n",
    "%matplotlib inline"
   ]
  },
  {
   "cell_type": "code",
   "execution_count": 26,
   "metadata": {
    "colab": {
     "base_uri": "https://localhost:8080/",
     "height": 607
    },
    "colab_type": "code",
    "id": "5xiKtIS9QZRa",
    "outputId": "ef822955-2a73-4521-fe49-de35c88f4c91"
   },
   "outputs": [
    {
     "data": {
      "image/png": "[encoded data removed]",
      "text/plain": [
       "<Figure size 576x576 with 1 Axes>"
      ]
     },
     "metadata": {
      "needs_background": "light"
     },
     "output_type": "display_data"
    }
   ],
   "source": [
    "full_text = \" \".join(review for review in onlyInc_DupRemoved['Incident Description'])\n",
    "\n",
    "my_cloud = WordCloud(width = 800, height = 800, \n",
    "                background_color ='white', \n",
    "                min_font_size = 10).generate(full_text) \n",
    "  \n",
    "# plot the WordCloud image                        \n",
    "plt.figure(figsize = (8, 8), facecolor = None) \n",
    "plt.imshow(my_cloud) \n",
    "plt.axis(\"off\") \n",
    "plt.tight_layout(pad = 0) \n",
    "plt.show()"
   ]
  },
  {
   "cell_type": "code",
   "execution_count": 27,
   "metadata": {
    "colab": {},
    "colab_type": "code",
    "id": "-oTAQWIVQZRe"
   },
   "outputs": [],
   "source": [
    "# from sklearn.feature_extraction.text import TfidfVectorizer\n",
    "# tfidf = TfidfVectorizer(max_features=1000, lowercase=True, analyzer='word',\n",
    "#  stop_words= 'english',ngram_range=(1,1))\n",
    "# train_vect = tfidf.fit_transform(onlyInc_DupRemoved['Incident Description'][:10])\n",
    "\n",
    "# train_vect"
   ]
  },
  {
   "cell_type": "code",
   "execution_count": 28,
   "metadata": {
    "colab": {},
    "colab_type": "code",
    "id": "4jIxeiinQZRh"
   },
   "outputs": [],
   "source": [
    "# print(train_vect.__str__())"
   ]
  },
  {
   "cell_type": "code",
   "execution_count": 29,
   "metadata": {
    "colab": {},
    "colab_type": "code",
    "id": "JqjBuyZUTl9P"
   },
   "outputs": [],
   "source": [
    "# Create Corpus\n",
    "# texts = tokens\n",
    "\n",
    "# # Term Document Frequency\n",
    "# corpus = [id2word.doc2bow(text) for text in texts]\n",
    "\n",
    "# # View\n",
    "# print(corpus[:1])"
   ]
  },
  {
   "cell_type": "code",
   "execution_count": 30,
   "metadata": {
    "colab": {},
    "colab_type": "code",
    "id": "k7my85dcXaRx"
   },
   "outputs": [],
   "source": [
    "# # Human readable format of corpus (term-frequency)\n",
    "# [[(id2word[id], freq) for id, freq in cp] for cp in corpus[:1]]"
   ]
  },
  {
   "cell_type": "code",
   "execution_count": 31,
   "metadata": {
    "colab": {},
    "colab_type": "code",
    "id": "7c8tVTE6XeJZ"
   },
   "outputs": [],
   "source": [
    "# import gensim\n",
    "# # Build LDA model\n",
    "# lda_model = gensim.models.ldamodel.LdaModel(corpus=corpus,\n",
    "#                                            id2word=id2word,\n",
    "#                                            num_topics=5, \n",
    "#                                            random_state=100,\n",
    "#                                            update_every=1,\n",
    "#                                            chunksize=100,\n",
    "#                                            passes=10,\n",
    "#                                            alpha='auto',\n",
    "#                                            per_word_topics=True)"
   ]
  },
  {
   "cell_type": "code",
   "execution_count": 32,
   "metadata": {
    "colab": {},
    "colab_type": "code",
    "id": "wmSfDnWLXtrj"
   },
   "outputs": [],
   "source": [
    "# # Print the Keyword in the 10 topics\n",
    "# print(lda_model.print_topics())\n",
    "# doc_lda = lda_model[corpus]"
   ]
  },
  {
   "cell_type": "code",
   "execution_count": 33,
   "metadata": {
    "colab": {},
    "colab_type": "code",
    "id": "JS5qqJD9YBNp"
   },
   "outputs": [],
   "source": [
    "# from gensim.models import CoherenceModel\n",
    "# # Compute Perplexity\n",
    "# print('\\nPerplexity: ', lda_model.log_perplexity(corpus))  # a measure of how good the model is. lower the better.\n",
    "\n",
    "# # Compute Coherence Score\n",
    "# coherence_model_lda = CoherenceModel(model=lda_model, texts=tokens, dictionary=id2word, coherence='c_v')\n",
    "# coherence_lda = coherence_model_lda.get_coherence()\n",
    "# print('\\nCoherence Score: ', coherence_lda)"
   ]
  },
  {
   "cell_type": "markdown",
   "metadata": {
    "colab_type": "text",
    "id": "W-QNNwvmQZRc"
   },
   "source": [
    "# Feature Extraction Techniques for Text Data\n",
    "\n",
    "# 1) Bag of words\n",
    "# 2) TF-IDF\n",
    "\n",
    "1) Bag of Words has been implemented for this usecase(More about it is followed)\n",
    "\n",
    "\n",
    "2) TF = (Number of times term T appears in the particular row) / (number of terms in that row)\n",
    "IDF = IDF = log(N/n), where, N is the total number of rows and n is the number of rows in which the word was present.\n",
    "TF*IDF is the multiplication of both. Higher this value, important is the word. "
   ]
  },
  {
   "cell_type": "markdown",
   "metadata": {
    "colab_type": "text",
    "id": "TrMWbFp171KG"
   },
   "source": [
    "# Install gensim package"
   ]
  },
  {
   "cell_type": "code",
   "execution_count": 34,
   "metadata": {
    "colab": {},
    "colab_type": "code",
    "id": "-3F6fQb57wGl"
   },
   "outputs": [],
   "source": [
    "#!pip install -U gensim"
   ]
  },
  {
   "cell_type": "markdown",
   "metadata": {
    "colab_type": "text",
    "id": "sgoNlkorxjib"
   },
   "source": [
    "# Bag of Words approach for Feature Extraction"
   ]
  },
  {
   "cell_type": "code",
   "execution_count": 35,
   "metadata": {
    "colab": {
     "base_uri": "https://localhost:8080/",
     "height": 187
    },
    "colab_type": "code",
    "id": "BorzrGjBj7u2",
    "outputId": "3b39bb29-200e-4404-ef7f-12d0ea3da951"
   },
   "outputs": [
    {
     "data": {
      "text/plain": [
       "[(3, 1),\n",
       " (103, 1),\n",
       " (104, 1),\n",
       " (105, 1),\n",
       " (106, 1),\n",
       " (107, 1),\n",
       " (108, 1),\n",
       " (109, 1),\n",
       " (110, 1),\n",
       " (111, 1)]"
      ]
     },
     "execution_count": 35,
     "metadata": {},
     "output_type": "execute_result"
    }
   ],
   "source": [
    "import gensim\n",
    "dictionary = gensim.corpora.Dictionary(tokens)\n",
    "bow_corpus = [dictionary.doc2bow(doc) for doc in tokens]\n",
    "bow_corpus[7]"
   ]
  },
  {
   "cell_type": "code",
   "execution_count": 36,
   "metadata": {
    "colab": {
     "base_uri": "https://localhost:8080/",
     "height": 187
    },
    "colab_type": "code",
    "id": "BxBooZnslnOI",
    "outputId": "c02f0871-a9a5-42a5-9b65-29fdcff3b93d"
   },
   "outputs": [
    {
     "name": "stdout",
     "output_type": "stream",
     "text": [
      "Word 3 (\"fell\") appears 1 time.\n",
      "Word 103 (\"employee\") appears 1 time.\n",
      "Word 104 (\"interstate\") appears 1 time.\n",
      "Word 105 (\"onto\") appears 1 time.\n",
      "Word 106 (\"ramp\") appears 1 time.\n",
      "Word 107 (\"southbound\") appears 1 time.\n",
      "Word 108 (\"spilled\") appears 1 time.\n",
      "Word 109 (\"trailer\") appears 1 time.\n",
      "Word 110 (\"transformer\") appears 1 time.\n",
      "Word 111 (\"turning\") appears 1 time.\n"
     ]
    }
   ],
   "source": [
    "bow_doc_7 = bow_corpus[7]\n",
    "for i in range(len(bow_doc_7)):\n",
    "    print(\"Word {} (\\\"{}\\\") appears {} time.\".format(bow_doc_7[i][0], \n",
    "                                               dictionary[bow_doc_7[i][0]], \n",
    "bow_doc_7[i][1]))"
   ]
  },
  {
   "cell_type": "markdown",
   "metadata": {
    "colab_type": "text",
    "id": "1Wxc_5tExjii"
   },
   "source": [
    "# Topic Modeling - Latent Dirichlet allocation"
   ]
  },
  {
   "cell_type": "code",
   "execution_count": 37,
   "metadata": {
    "colab": {},
    "colab_type": "code",
    "id": "TY5SHRKkn_ma"
   },
   "outputs": [],
   "source": [
    "lda_model_mine = gensim.models.LdaMulticore(bow_corpus, num_topics=5, id2word=dictionary, passes=2, workers=2)"
   ]
  },
  {
   "cell_type": "markdown",
   "metadata": {
    "colab_type": "text",
    "id": "3ZfOdEy84Gch"
   },
   "source": [
    "# What are the Topics created using LDA ?"
   ]
  },
  {
   "cell_type": "code",
   "execution_count": 27,
   "metadata": {
    "colab": {
     "base_uri": "https://localhost:8080/",
     "height": 187
    },
    "colab_type": "code",
    "id": "U3fD9iojoK6W",
    "outputId": "185c8c5f-98b7-46dc-c09d-64b5c57820a5"
   },
   "outputs": [
    {
     "name": "stdout",
     "output_type": "stream",
     "text": [
      "Topic: 0 \n",
      "Words: 0.010*\"vehicle\" + 0.008*\"truck\" + 0.008*\"driver\" + 0.007*\"fire\" + 0.007*\"fell\" + 0.007*\"line\" + 0.006*\"damage\" + 0.005*\"ground\" + 0.005*\"foot\" + 0.005*\"oge\"\n",
      "Topic: 1 \n",
      "Words: 0.009*\"line\" + 0.007*\"load\" + 0.006*\"phase\" + 0.006*\"cable\" + 0.006*\"hit\" + 0.005*\"circuit\" + 0.005*\"valve\" + 0.005*\"driver\" + 0.005*\"pump\" + 0.005*\"truck\"\n",
      "Topic: 2 \n",
      "Words: 0.019*\"truck\" + 0.011*\"tree\" + 0.010*\"vehicle\" + 0.006*\"door\" + 0.005*\"found\" + 0.005*\"line\" + 0.005*\"boom\" + 0.005*\"fire\" + 0.004*\"damaged\" + 0.004*\"water\"\n",
      "Topic: 3 \n",
      "Words: 0.032*\"vehicle\" + 0.012*\"struck\" + 0.010*\"damage\" + 0.006*\"fell\" + 0.006*\"light\" + 0.006*\"rear\" + 0.006*\"ground\" + 0.006*\"pipe\" + 0.006*\"gate\" + 0.006*\"driver\"\n",
      "Topic: 4 \n",
      "Words: 0.008*\"fire\" + 0.006*\"vehicle\" + 0.005*\"operator\" + 0.005*\"incident\" + 0.005*\"control\" + 0.005*\"performing\" + 0.004*\"service\" + 0.004*\"employee\" + 0.004*\"breaker\" + 0.004*\"pole\"\n"
     ]
    }
   ],
   "source": [
    "for idx, topic in lda_model_mine.print_topics(-1):\n",
    "    print('Topic: {} \\nWords: {}'.format(idx, topic))"
   ]
  },
  {
   "cell_type": "markdown",
   "metadata": {
    "colab_type": "text",
    "id": "G2YFJ3cA4WEw"
   },
   "source": [
    "# Evaluation Metrics of LDA Model\n",
    "# An ideal LDA model should have low perplexity and high coherence scores."
   ]
  },
  {
   "cell_type": "code",
   "execution_count": 0,
   "metadata": {
    "colab": {
     "base_uri": "https://localhost:8080/",
     "height": 85
    },
    "colab_type": "code",
    "id": "qTNRYNDjpTcz",
    "outputId": "39acfd1d-5ef8-4ec7-e355-bac2ddb47c73"
   },
   "outputs": [
    {
     "name": "stdout",
     "output_type": "stream",
     "text": [
      "\n",
      "Perplexity:  -7.790233528196843\n",
      "\n",
      "Coherence Score:  0.34364664060199374\n"
     ]
    }
   ],
   "source": [
    "from gensim.models import CoherenceModel\n",
    "# Compute Perplexity\n",
    "print('\\nPerplexity: ', lda_model_mine.log_perplexity(corpus))  # a measure of how good the model is. lower the better.\n",
    "\n",
    "# Compute Coherence Score\n",
    "coherence_model_lda = CoherenceModel(model=lda_model_mine, texts=tokens, dictionary=id2word, coherence='c_v')\n",
    "coherence_lda = coherence_model_lda.get_coherence()\n",
    "print('\\nCoherence Score: ', coherence_lda)"
   ]
  },
  {
   "cell_type": "markdown",
   "metadata": {
    "colab_type": "text",
    "id": "05LAh6ms3iOl"
   },
   "source": [
    "# Check the tokens of a random observation before LDA model"
   ]
  },
  {
   "cell_type": "code",
   "execution_count": 0,
   "metadata": {
    "colab": {
     "base_uri": "https://localhost:8080/",
     "height": 34
    },
    "colab_type": "code",
    "id": "OJtN9ryJoVxg",
    "outputId": "5bbd9f56-5032-4a39-8bfd-d0ab904b675e"
   },
   "outputs": [
    {
     "data": {
      "text/plain": [
       "WordList(['inventorying', 'grating', 'material', 'delivered', 'capital', 'project', 'tripped', 'piece', 'grating', 'extending', 'pallet', 'inventoried', 'fell', 'ground'])"
      ]
     },
     "execution_count": 42,
     "metadata": {
      "tags": []
     },
     "output_type": "execute_result"
    }
   ],
   "source": [
    "tokens[7]"
   ]
  },
  {
   "cell_type": "markdown",
   "metadata": {
    "colab_type": "text",
    "id": "INh8Cvjp3tLl"
   },
   "source": [
    "# For the same observation, heck the coherency scores assigned for each topic created by LDA model. For this observation, it primarily belongs to Topic 1 as it has the highest score"
   ]
  },
  {
   "cell_type": "code",
   "execution_count": 29,
   "metadata": {
    "colab": {
     "base_uri": "https://localhost:8080/",
     "height": 272
    },
    "colab_type": "code",
    "id": "KSKW-bmXjY45",
    "outputId": "19e3a50b-0a10-4753-c09d-f9f8344985e1"
   },
   "outputs": [
    {
     "name": "stdout",
     "output_type": "stream",
     "text": [
      "\n",
      "Score: 0.6360756158828735\t \n",
      "Topic: 0.010*\"vehicle\" + 0.008*\"truck\" + 0.008*\"driver\" + 0.007*\"fire\" + 0.007*\"fell\"\n",
      "\n",
      "Score: 0.30819398164749146\t \n",
      "Topic: 0.019*\"truck\" + 0.011*\"tree\" + 0.010*\"vehicle\" + 0.006*\"door\" + 0.005*\"found\"\n",
      "\n",
      "Score: 0.01863205060362816\t \n",
      "Topic: 0.009*\"line\" + 0.007*\"load\" + 0.006*\"phase\" + 0.006*\"cable\" + 0.006*\"hit\"\n",
      "\n",
      "Score: 0.01856720820069313\t \n",
      "Topic: 0.008*\"fire\" + 0.006*\"vehicle\" + 0.005*\"operator\" + 0.005*\"incident\" + 0.005*\"control\"\n",
      "\n",
      "Score: 0.018531154841184616\t \n",
      "Topic: 0.032*\"vehicle\" + 0.012*\"struck\" + 0.010*\"damage\" + 0.006*\"fell\" + 0.006*\"light\"\n"
     ]
    }
   ],
   "source": [
    "for index, score in sorted(lda_model_mine[bow_corpus[7]], key=lambda tup: -1*tup[1]):\n",
    "    print(\"\\nScore: {}\\t \\nTopic: {}\".format(score, lda_model_mine.print_topic(index, 5)))"
   ]
  },
  {
   "cell_type": "markdown",
   "metadata": {
    "colab_type": "text",
    "id": "A1G6HAaP6Abw"
   },
   "source": [
    "# Visualize LDA model created, using pyLDAvis package"
   ]
  },
  {
   "cell_type": "code",
   "execution_count": 0,
   "metadata": {
    "colab": {},
    "colab_type": "code",
    "id": "AC6LwC6mAGVx"
   },
   "outputs": [],
   "source": [
    "#!pip install pyLDAvis"
   ]
  },
  {
   "cell_type": "markdown",
   "metadata": {
    "colab_type": "text",
    "id": "RQXrL6iPfssY"
   },
   "source": [
    "Each bubble on the left-hand side plot represents a topic. The larger the bubble, the more prevalent is that topic.\n",
    "\n",
    "A good topic model will have fairly big, non-overlapping bubbles scattered throughout the chart instead of being clustered in one quadrant.\n",
    "\n",
    "A model with too many topics, will typically have many overlaps, small sized bubbles clustered in one region of the chart.\n",
    "\n",
    "If you move the cursor over one of the bubbles, the words and bars on the right-hand side will update. These words are the salient keywords that form the selected topic."
   ]
  },
  {
   "cell_type": "code",
   "execution_count": 38,
   "metadata": {
    "colab": {
     "base_uri": "https://localhost:8080/",
     "height": 861
    },
    "colab_type": "code",
    "id": "HAiuexoOppqA",
    "outputId": "9daf9213-1ba7-46ea-a2aa-37f23345de47"
   },
   "outputs": [
    {
     "name": "stderr",
     "output_type": "stream",
     "text": [
      "C:\\ProgramData\\Anaconda3\\lib\\site-packages\\pyLDAvis\\_prepare.py:257: FutureWarning: Sorting because non-concatenation axis is not aligned. A future version\n",
      "of pandas will change to not sort by default.\n",
      "\n",
      "To accept the future behavior, pass 'sort=False'.\n",
      "\n",
      "To retain the current behavior and silence the warning, pass 'sort=True'.\n",
      "\n",
      "  return pd.concat([default_term_info] + list(topic_dfs))\n"
     ]
    },
    {
     "data": {
      "text/html": [
       "\n",
       "<link rel=\"stylesheet\" type=\"text/css\" href=\"https://cdn.rawgit.com/bmabey/pyLDAvis/files/ldavis.v1.0.0.css\">\n",
       "\n",
       "\n",
       "<div id=\"ldavis_el159722200722872024340541033\"></div>\n",
       "<script type=\"text/javascript\">\n",
       "\n",
       "var ldavis_el159722200722872024340541033_data = {\"mdsDat\": {\"x\": [0.010015872187412095, 0.06400585323035697, -0.05190701335819482, -0.07628129436195395, 0.05416658230237973], \"y\": [0.06430081161451007, -0.08255444872100497, 0.003586830222547917, -0.030906367837086827, 0.045573174721033755], \"topics\": [1, 2, 3, 4, 5], \"cluster\": [1, 1, 1, 1, 1], \"Freq\": [22.414871215820312, 21.647958755493164, 20.364896774291992, 18.13222885131836, 17.44003677368164]}, \"tinfo\": {\"Category\": [\"Default\", \"Default\", \"Default\", \"Default\", \"Default\", \"Default\", \"Default\", \"Default\", \"Default\", \"Default\", \"Default\", \"Default\", \"Default\", \"Default\", \"Default\", \"Default\", \"Default\", \"Default\", \"Default\", \"Default\", \"Default\", \"Default\", \"Default\", \"Default\", \"Default\", \"Default\", \"Default\", \"Default\", \"Default\", \"Default\", \"Topic1\", \"Topic1\", \"Topic1\", \"Topic1\", \"Topic1\", \"Topic1\", \"Topic1\", \"Topic1\", \"Topic1\", \"Topic1\", \"Topic1\", \"Topic1\", \"Topic1\", \"Topic1\", \"Topic1\", \"Topic1\", \"Topic1\", \"Topic1\", \"Topic1\", \"Topic1\", \"Topic1\", \"Topic1\", \"Topic1\", \"Topic1\", \"Topic1\", \"Topic1\", \"Topic1\", \"Topic1\", \"Topic1\", \"Topic1\", \"Topic1\", \"Topic1\", \"Topic1\", \"Topic1\", \"Topic1\", \"Topic1\", \"Topic1\", \"Topic1\", \"Topic1\", \"Topic1\", \"Topic1\", \"Topic1\", \"Topic1\", \"Topic1\", \"Topic1\", \"Topic1\", \"Topic1\", \"Topic1\", \"Topic1\", \"Topic1\", \"Topic1\", \"Topic1\", \"Topic1\", \"Topic1\", \"Topic1\", \"Topic1\", \"Topic1\", \"Topic1\", \"Topic1\", \"Topic1\", \"Topic1\", \"Topic1\", \"Topic1\", \"Topic1\", \"Topic1\", \"Topic1\", \"Topic1\", \"Topic1\", \"Topic1\", \"Topic1\", \"Topic1\", \"Topic1\", \"Topic2\", \"Topic2\", \"Topic2\", \"Topic2\", \"Topic2\", \"Topic2\", \"Topic2\", \"Topic2\", \"Topic2\", \"Topic2\", \"Topic2\", \"Topic2\", \"Topic2\", \"Topic2\", \"Topic2\", \"Topic2\", \"Topic2\", \"Topic2\", \"Topic2\", \"Topic2\", \"Topic2\", \"Topic2\", \"Topic2\", \"Topic2\", \"Topic2\", \"Topic2\", \"Topic2\", \"Topic2\", \"Topic2\", \"Topic2\", \"Topic2\", \"Topic2\", \"Topic2\", \"Topic2\", \"Topic2\", \"Topic2\", \"Topic2\", \"Topic2\", \"Topic2\", \"Topic2\", \"Topic2\", \"Topic2\", \"Topic2\", \"Topic2\", \"Topic2\", \"Topic2\", \"Topic2\", \"Topic2\", \"Topic2\", \"Topic2\", \"Topic2\", \"Topic2\", \"Topic2\", \"Topic2\", \"Topic2\", \"Topic2\", \"Topic2\", \"Topic2\", \"Topic2\", \"Topic2\", \"Topic2\", \"Topic2\", \"Topic2\", \"Topic2\", \"Topic2\", \"Topic2\", \"Topic2\", \"Topic2\", \"Topic2\", \"Topic2\", \"Topic2\", \"Topic2\", \"Topic2\", \"Topic2\", \"Topic2\", \"Topic3\", \"Topic3\", \"Topic3\", \"Topic3\", \"Topic3\", \"Topic3\", \"Topic3\", \"Topic3\", \"Topic3\", \"Topic3\", \"Topic3\", \"Topic3\", \"Topic3\", \"Topic3\", \"Topic3\", \"Topic3\", \"Topic3\", \"Topic3\", \"Topic3\", \"Topic3\", \"Topic3\", \"Topic3\", \"Topic3\", \"Topic3\", \"Topic3\", \"Topic3\", \"Topic3\", \"Topic3\", \"Topic3\", \"Topic3\", \"Topic3\", \"Topic3\", \"Topic3\", \"Topic3\", \"Topic3\", \"Topic3\", \"Topic3\", \"Topic3\", \"Topic3\", \"Topic3\", \"Topic3\", \"Topic3\", \"Topic3\", \"Topic3\", \"Topic3\", \"Topic3\", \"Topic3\", \"Topic3\", \"Topic3\", \"Topic3\", \"Topic3\", \"Topic3\", \"Topic3\", \"Topic3\", \"Topic3\", \"Topic3\", \"Topic3\", \"Topic3\", \"Topic3\", \"Topic3\", \"Topic3\", \"Topic3\", \"Topic3\", \"Topic3\", \"Topic3\", \"Topic3\", \"Topic3\", \"Topic3\", \"Topic3\", \"Topic3\", \"Topic3\", \"Topic4\", \"Topic4\", \"Topic4\", \"Topic4\", \"Topic4\", \"Topic4\", \"Topic4\", \"Topic4\", \"Topic4\", \"Topic4\", \"Topic4\", \"Topic4\", \"Topic4\", \"Topic4\", \"Topic4\", \"Topic4\", \"Topic4\", \"Topic4\", \"Topic4\", \"Topic4\", \"Topic4\", \"Topic4\", \"Topic4\", \"Topic4\", \"Topic4\", \"Topic4\", \"Topic4\", \"Topic4\", \"Topic4\", \"Topic4\", \"Topic4\", \"Topic4\", \"Topic4\", \"Topic4\", \"Topic4\", \"Topic4\", \"Topic4\", \"Topic4\", \"Topic4\", \"Topic4\", \"Topic4\", \"Topic4\", \"Topic4\", \"Topic4\", \"Topic4\", \"Topic4\", \"Topic4\", \"Topic4\", \"Topic4\", \"Topic4\", \"Topic4\", \"Topic4\", \"Topic4\", \"Topic4\", \"Topic4\", \"Topic4\", \"Topic4\", \"Topic4\", \"Topic4\", \"Topic4\", \"Topic4\", \"Topic4\", \"Topic4\", \"Topic4\", \"Topic4\", \"Topic4\", \"Topic4\", \"Topic4\", \"Topic4\", \"Topic4\", \"Topic4\", \"Topic4\", \"Topic5\", \"Topic5\", \"Topic5\", \"Topic5\", \"Topic5\", \"Topic5\", \"Topic5\", \"Topic5\", \"Topic5\", \"Topic5\", \"Topic5\", \"Topic5\", \"Topic5\", \"Topic5\", \"Topic5\", \"Topic5\", \"Topic5\", \"Topic5\", \"Topic5\", \"Topic5\", \"Topic5\", \"Topic5\", \"Topic5\", \"Topic5\", \"Topic5\", \"Topic5\", \"Topic5\", \"Topic5\", \"Topic5\", \"Topic5\", \"Topic5\", \"Topic5\", \"Topic5\", \"Topic5\", \"Topic5\", \"Topic5\", \"Topic5\", \"Topic5\", \"Topic5\", \"Topic5\", \"Topic5\", \"Topic5\", \"Topic5\", \"Topic5\", \"Topic5\", \"Topic5\", \"Topic5\", \"Topic5\", \"Topic5\", \"Topic5\", \"Topic5\", \"Topic5\", \"Topic5\", \"Topic5\", \"Topic5\", \"Topic5\", \"Topic5\", \"Topic5\", \"Topic5\", \"Topic5\", \"Topic5\", \"Topic5\", \"Topic5\", \"Topic5\", \"Topic5\", \"Topic5\", \"Topic5\", \"Topic5\", \"Topic5\", \"Topic5\", \"Topic5\"], \"Freq\": [37.0, 39.0, 18.0, 31.0, 23.0, 21.0, 30.0, 20.0, 23.0, 27.0, 29.0, 51.0, 30.0, 14.0, 19.0, 43.0, 11.0, 16.0, 14.0, 36.0, 11.0, 89.0, 24.0, 7.0, 14.0, 12.0, 28.0, 16.0, 15.0, 131.0, 4.030853271484375, 4.015585899353027, 2.6033518314361572, 2.602825403213501, 2.602360486984253, 2.6022439002990723, 3.242720365524292, 3.132948637008667, 2.495434522628784, 3.0450446605682373, 2.431555986404419, 9.076780319213867, 9.025398254394531, 4.228579044342041, 2.3918755054473877, 1.7897220849990845, 1.7896298170089722, 1.7895991802215576, 1.7895864248275757, 1.7894748449325562, 1.7893610000610352, 1.7893071174621582, 1.7892372608184814, 2.3867969512939453, 1.7891398668289185, 1.7890005111694336, 1.788785457611084, 1.7883340120315552, 1.7825839519500732, 1.7745964527130127, 2.9432973861694336, 13.135456085205078, 8.287565231323242, 2.3497519493103027, 18.2823486328125, 3.4192566871643066, 2.338920831680298, 6.753343105316162, 3.3737869262695312, 3.8542604446411133, 4.22206449508667, 10.398069381713867, 10.320294380187988, 14.80156421661377, 4.135592937469482, 7.210447788238525, 18.295852661132812, 9.062113761901855, 7.506166934967041, 6.748768329620361, 19.431676864624023, 8.418219566345215, 15.673789024353027, 9.044953346252441, 7.625074863433838, 15.68506908416748, 4.872454643249512, 8.261033058166504, 13.909536361694336, 9.672819137573242, 22.268213272094727, 7.870891094207764, 10.059784889221191, 9.079716682434082, 8.102291107177734, 9.905777931213379, 10.807085990905762, 12.164320945739746, 9.795753479003906, 7.9588494300842285, 7.844427108764648, 7.859768867492676, 6.622332572937012, 5.646141052246094, 3.519174098968506, 3.452070474624634, 2.68742299079895, 2.659295082092285, 5.266749382019043, 3.2739486694335938, 2.534065008163452, 5.648368835449219, 3.096773386001587, 1.8474979400634766, 1.8473447561264038, 1.8473141193389893, 1.8469057083129883, 1.8468629121780396, 1.8465406894683838, 1.841105341911316, 1.8280936479568481, 1.8260453939437866, 1.8167489767074585, 1.8090733289718628, 1.808131456375122, 1.8023710250854492, 1.7978765964508057, 4.215153217315674, 1.7845591306686401, 2.371659278869629, 1.7805744409561157, 1.7777636051177979, 26.195924758911133, 6.274200916290283, 3.4427456855773926, 10.046677589416504, 5.506959438323975, 11.959053039550781, 4.3926310539245605, 3.3447439670562744, 18.948833465576172, 3.7976791858673096, 8.487903594970703, 3.3242604732513428, 3.2934341430664062, 8.86308479309082, 17.117267608642578, 11.021425247192383, 5.309724807739258, 13.9581937789917, 45.19748306274414, 9.872343063354492, 8.534769058227539, 11.30840015411377, 6.099276542663574, 8.344266891479492, 7.005858421325684, 11.672379493713379, 5.081600189208984, 21.61127471923828, 12.673188209533691, 11.417887687683105, 7.240283489227295, 9.851568222045898, 6.726029396057129, 12.259390830993652, 11.843690872192383, 9.246140480041504, 7.011455535888672, 6.92419958114624, 7.512065887451172, 8.704400062561035, 7.841101169586182, 8.049083709716797, 7.407792091369629, 7.202749252319336, 7.329469203948975, 4.0944929122924805, 3.3068253993988037, 3.30564022064209, 2.5197250843048096, 2.5196433067321777, 3.128965377807617, 3.7054505348205566, 3.6806399822235107, 2.3687994480133057, 2.36991548538208, 2.3598358631134033, 2.9111714363098145, 2.905832290649414, 2.3074514865875244, 1.7323482036590576, 1.7323309183120728, 1.7322982549667358, 1.7321598529815674, 1.732146978378296, 1.7321339845657349, 1.7320464849472046, 1.7319815158843994, 1.7319681644439697, 1.7318651676177979, 1.7316190004348755, 1.722806453704834, 1.72023344039917, 1.7102222442626953, 2.834648847579956, 1.6910854578018188, 9.177978515625, 9.956701278686523, 16.90043067932129, 3.663081169128418, 5.927157878875732, 3.1954963207244873, 3.112870693206787, 2.664348840713501, 6.921650409698486, 32.63398742675781, 5.637619495391846, 9.699750900268555, 9.730537414550781, 10.591775894165039, 6.636359214782715, 18.589242935180664, 10.667414665222168, 18.235248565673828, 6.910651683807373, 6.533268451690674, 6.774430274963379, 6.418728828430176, 9.497991561889648, 10.672113418579102, 6.401968955993652, 4.0803751945495605, 6.73935079574585, 12.333056449890137, 17.471036911010742, 8.073943138122559, 7.996244430541992, 5.412201404571533, 8.19921588897705, 9.144344329833984, 6.620471000671387, 7.389609336853027, 7.366095542907715, 7.083555221557617, 7.304037094116211, 6.62087869644165, 6.576502323150635, 3.2694318294525146, 2.511265277862549, 2.5110602378845215, 2.510599136352539, 3.103100299835205, 2.9971280097961426, 4.1710429191589355, 2.3733296394348145, 1.7266064882278442, 1.7265578508377075, 1.7263330221176147, 1.726301670074463, 1.726293921470642, 1.7258243560791016, 1.7250301837921143, 1.7236002683639526, 2.30397629737854, 1.7217967510223389, 2.2830097675323486, 2.2699484825134277, 2.8136250972747803, 2.2363381385803223, 1.6512680053710938, 1.6355654001235962, 1.6278244256973267, 1.5951999425888062, 4.2246503829956055, 3.14281964302063, 1.5773029327392578, 1.5689516067504883, 4.13724946975708, 12.771139144897461, 8.683294296264648, 4.413049697875977, 5.938902854919434, 5.519909381866455, 4.565625190734863, 3.7801918983459473, 6.171532154083252, 2.990351676940918, 5.137514114379883, 9.119064331054688, 7.258143424987793, 7.2694091796875, 8.904102325439453, 11.454879760742188, 17.32781982421875, 8.183999061584473, 6.428045272827148, 4.791486740112305, 22.79817771911621, 8.717680931091309, 7.883879661560059, 7.874138355255127, 4.148655414581299, 8.242462158203125, 14.220151901245117, 9.957862854003906, 5.570476055145264, 6.253968238830566, 6.584514617919922, 6.669773578643799, 6.6113691329956055, 7.668140411376953, 7.331793308258057, 5.2892746925354, 5.329918384552002, 6.800526142120361, 5.442210674285889, 5.895033836364746, 5.722323894500732, 5.780211925506592, 2.491406202316284, 2.4911410808563232, 3.059021234512329, 4.860602378845215, 2.4113705158233643, 2.9480350017547607, 2.9108378887176514, 1.7130502462387085, 1.7127326726913452, 1.7126564979553223, 1.7126089334487915, 1.7124897241592407, 1.7124576568603516, 1.7121981382369995, 1.7034735679626465, 3.3717281818389893, 1.6660573482513428, 3.817401647567749, 7.588109016418457, 1.6239418983459473, 2.1281769275665283, 2.126965045928955, 1.5859705209732056, 1.581753134727478, 7.273715019226074, 3.6327552795410156, 2.0568113327026367, 1.5327084064483643, 1.5163060426712036, 1.513028621673584, 3.5186166763305664, 2.4919779300689697, 2.4917855262756348, 9.561779022216797, 5.793209552764893, 11.739082336425781, 13.875664710998535, 5.1522979736328125, 5.109195709228516, 3.9881324768066406, 11.504408836364746, 12.249882698059082, 6.085075378417969, 13.918827056884766, 5.761537551879883, 2.4917943477630615, 5.429448127746582, 4.046304225921631, 8.3764009475708, 9.853007316589355, 4.648970127105713, 8.847291946411133, 23.833959579467773, 12.115732192993164, 7.3307204246521, 11.136459350585938, 6.093181133270264, 7.9162726402282715, 5.612854957580566, 10.78719711303711, 10.647527694702148, 5.746895790100098, 9.866405487060547, 7.386216163635254, 8.417088508605957, 9.169465065002441, 6.777235984802246, 6.020297050476074, 6.273477554321289, 5.801817417144775, 5.779667854309082], \"Term\": [\"oge\", \"door\", \"phase\", \"pole\", \"aid\", \"level\", \"water\", \"hand\", \"switch\", \"bucket\", \"pump\", \"fire\", \"first\", \"insulation\", \"overhead\", \"ground\", \"car\", \"substation\", \"forklift\", \"tree\", \"fence\", \"truck\", \"breaker\", \"damper\", \"boom\", \"ladder\", \"light\", \"contract\", \"hose\", \"vehicle\", \"hydrant\", \"fuse\", \"iron\", \"clamp\", \"backhoe\", \"exciter\", \"allowing\", \"tryon\", \"lanyard\", \"discharge\", \"cavity\", \"ladder\", \"barricaded\", \"reader\", \"shaft\", \"retaining\", \"plier\", \"crate\", \"within\", \"freeze\", \"tightening\", \"collided\", \"rung\", \"rebuild\", \"quickly\", \"saver\", \"incorrect\", \"hooking\", \"alley\", \"carrier\", \"coupling\", \"phase\", \"stick\", \"span\", \"pump\", \"sweeper\", \"siemen\", \"nut\", \"ramp\", \"grass\", \"platform\", \"plant\", \"transformer\", \"contacted\", \"stair\", \"arm\", \"ground\", \"motor\", \"leg\", \"used\", \"line\", \"circuit\", \"fire\", \"employee\", \"red\", \"fell\", \"window\", \"broke\", \"damage\", \"one\", \"vehicle\", \"reported\", \"contact\", \"foot\", \"damaged\", \"door\", \"driver\", \"truck\", \"struck\", \"trailer\", \"noticed\", \"wire\", \"damper\", \"drive\", \"rescue\", \"mobile\", \"utv\", \"f10/f28-271\", \"basket\", \"69kv\", \"elevator\", \"i-35\", \"threading\", \"stub\", \"duty\", \"st\", \"coil\", \"paper\", \"se\", \"dummy\", \"prevents\", \"attempt\", \"chair\", \"regulator\", \"barber\", \"avoided\", \"completing\", \"sign\", \"isolated\", \"inspector\", \"capacitor\", \"spraying\", \"oge\", \"clearance\", \"train\", \"north\", \"private\", \"overhead\", \"exiting\", \"hydraulic\", \"tree\", \"lowering\", \"going\", \"switchman\", \"oncoming\", \"failed\", \"operator\", \"cut\", \"strap\", \"valve\", \"vehicle\", \"gate\", \"'s\", \"bucket\", \"limb\", \"gas\", \"lane\", \"hit\", \"mechanic\", \"truck\", \"door\", \"service\", \"yard\", \"control\", \"boom\", \"driver\", \"damage\", \"first\", \"lower\", \"traveling\", \"felt\", \"struck\", \"rear\", \"ground\", \"foot\", \"loto\", \"fell\", \"bundle\", \"dumpster\", \"boring\", \"band\", \"mixer\", \"sitting\", \"became\", \"scraper\", \"inclined\", \"ruptured\", \"id\", \"module\", \"blower\", \"backyard\", \"tornado\", \"analyzer\", \"shelter\", \"chamber\", \"hurt\", \"pulverizer\", \"cracked\", \"week\", \"restriction\", \"trash\", \"zachary\", \"tip\", \"shock\", \"dewatering\", \"wet\", \"april\", \"forklift\", \"contract\", \"water\", \"underground\", \"security\", \"rail\", \"bar\", \"tail\", \"wheel\", \"truck\", \"bent\", \"hand\", \"load\", \"switch\", \"coal\", \"fire\", \"cable\", \"line\", \"hose\", \"box\", \"power\", \"boom\", \"light\", \"contact\", \"floor\", \"highway\", \"top\", \"damage\", \"vehicle\", \"one\", \"found\", \"concrete\", \"service\", \"driver\", \"caused\", \"foot\", \"hit\", \"rear\", \"struck\", \"made\", \"noticed\", \"white\", \"joseph\", \"ballard\", \"trolley\", \"brace\", \"said\", \"washer\", \"offload\", \"grease\", \"server\", \"preheater\", \"helping\", \"shattered\", \"stood\", \"plank\", \"torch\", \"unplug\", \"ct\", \"grabbed\", \"forehead\", \"compressor\", \"cone\", \"main\", \"berm\", \"spray\", \"offloading\", \"lid\", \"dust\", \"homeowner\", \"hydrated\", \"stud\", \"level\", \"insulation\", \"cooler\", \"smoke\", \"ran\", \"deer\", \"tank\", \"backed\", \"laceration\", \"bin\", \"air\", \"oil\", \"turbine\", \"grating\", \"control\", \"fell\", \"stop\", \"scaffold\", \"object\", \"vehicle\", \"bucket\", \"breaker\", \"working\", \"sample\", \"found\", \"truck\", \"fire\", \"hose\", \"pipe\", \"performing\", \"front\", \"noticed\", \"struck\", \"damage\", \"end\", \"two\", \"driver\", \"around\", \"service\", \"one\", \"line\", \"conex\", \"requested\", \"releasing\", \"auger\", \"bjs\", \"sharp\", \"draper\", \"midway\", \"scope\", \"toolbox\", \"acid\", \"stringing\", \"bone\", \"diverter\", \"axle\", \"quarter\", \"bulletin\", \"heavy\", \"car\", \"pov\", \"inadvertently\", \"instead\", \"quality\", \"harness\", \"fence\", \"rental\", \"looking\", \"sight\", \"lightning\", \"communication\", \"pcb\", \"reel\", \"lake\", \"substation\", \"step\", \"aid\", \"pole\", \"hole\", \"process\", \"cart\", \"open\", \"first\", \"making\", \"door\", \"knee\", \"container\", \"call\", \"wrong\", \"switching\", \"light\", \"get\", \"breaker\", \"vehicle\", \"struck\", \"hand\", \"ground\", \"turn\", \"front\", \"equipment\", \"driver\", \"fell\", \"piece\", \"line\", \"rear\", \"damage\", \"truck\", \"wire\", \"fall\", \"operator\", \"tree\", \"contact\"], \"Total\": [37.0, 39.0, 18.0, 31.0, 23.0, 21.0, 30.0, 20.0, 23.0, 27.0, 29.0, 51.0, 30.0, 14.0, 19.0, 43.0, 11.0, 16.0, 14.0, 36.0, 11.0, 89.0, 24.0, 7.0, 14.0, 12.0, 28.0, 16.0, 15.0, 131.0, 4.875986099243164, 4.861448764801025, 3.2421653270721436, 3.242155075073242, 3.242149591445923, 3.2421350479125977, 4.055008888244629, 4.043686866760254, 3.238365888595581, 4.050753593444824, 3.236098289489746, 12.112156867980957, 12.141371726989746, 5.7095723152160645, 3.2353813648223877, 2.4284489154815674, 2.4284441471099854, 2.4284448623657227, 2.4284415245056152, 2.42844295501709, 2.4284393787384033, 2.428438663482666, 2.4284393787384033, 3.239607095718384, 2.4284205436706543, 2.4284303188323975, 2.428435802459717, 2.428391456604004, 2.428220748901367, 2.427802324295044, 4.040683269500732, 18.56733512878418, 12.187600135803223, 3.2440922260284424, 29.811038970947266, 4.895768165588379, 3.2506654262542725, 10.49162769317627, 4.897294521331787, 5.7157111167907715, 6.448557376861572, 18.474498748779297, 18.42519760131836, 28.35820960998535, 6.450429916381836, 12.803221702575684, 43.48072052001953, 17.69261932373047, 14.549290657043457, 12.823412895202637, 59.13871383666992, 18.371431350708008, 51.17314147949219, 22.400915145874023, 17.750593185424805, 56.701141357421875, 8.832901954650879, 21.624481201171875, 53.835166931152344, 28.85626983642578, 131.56887817382812, 21.797258377075195, 35.1930046081543, 29.076091766357422, 23.472949981689453, 39.53499221801758, 49.798545837402344, 89.79920196533203, 45.58805847167969, 24.816808700561523, 26.473146438598633, 28.8831787109375, 7.509718418121338, 6.662861347198486, 4.160642623901367, 4.158488750457764, 3.321164131164551, 3.3192381858825684, 6.64440393447876, 4.153283596038818, 3.311589002609253, 7.439549446105957, 4.147724151611328, 2.4811086654663086, 2.4811012744903564, 2.4810984134674072, 2.481074333190918, 2.4810712337493896, 2.4810447692871094, 2.4806578159332275, 2.4804859161376953, 2.4797706604003906, 2.4801342487335205, 2.4785196781158447, 2.4798531532287598, 2.4778192043304443, 2.4778411388397217, 5.8101630210876465, 2.4780092239379883, 3.298144817352295, 2.4790194034576416, 2.4770898818969727, 37.196353912353516, 9.053689956665039, 4.969552040100098, 15.624545097351074, 8.20898723602295, 19.7351131439209, 6.568721294403076, 4.927826404571533, 36.707637786865234, 5.777696132659912, 14.73283863067627, 4.949472904205322, 4.9595866203308105, 16.414968490600586, 37.36151123046875, 21.972869873046875, 9.087120056152344, 30.112262725830078, 131.56887817382812, 21.10433006286621, 17.927053451538086, 27.46881866455078, 11.412642478942871, 18.744876861572266, 14.608375549316406, 32.31797790527344, 8.977678298950195, 89.79920196533203, 39.53499221801758, 35.42424011230469, 16.200557708740234, 30.543556213378906, 14.601694107055664, 49.798545837402344, 53.835166931152344, 30.42980194091797, 16.161827087402344, 16.191247940063477, 21.815277099609375, 45.58805847167969, 31.258678436279297, 43.48072052001953, 29.076091766357422, 24.946544647216797, 56.701141357421875, 4.739065170288086, 3.9514639377593994, 3.9514918327331543, 3.163848876953125, 3.163851261138916, 3.949509620666504, 4.764963626861572, 4.766101360321045, 3.162257671356201, 3.166198968887329, 3.1650919914245605, 3.9645614624023438, 3.964075803756714, 3.1614832878112793, 2.3762383460998535, 2.37623929977417, 2.376239776611328, 2.3762409687042236, 2.376241683959961, 2.376244068145752, 2.376246452331543, 2.376243829727173, 2.376244068145752, 2.3762519359588623, 2.376250982284546, 2.376868724822998, 2.3762049674987793, 2.375990390777588, 3.9494564533233643, 2.375861406326294, 14.221298217773438, 16.592315673828125, 30.265914916992188, 5.530398845672607, 9.603139877319336, 4.765917778015137, 4.729784965515137, 3.952930450439453, 12.735940933227539, 89.79920196533203, 10.348990440368652, 20.44414520263672, 20.809385299682617, 23.799575805664062, 13.420862197875977, 51.17314147949219, 26.372278213500977, 59.13871383666992, 15.056282043457031, 14.253170013427734, 15.182631492614746, 14.601694107055664, 28.450973510742188, 35.1930046081543, 15.070696830749512, 7.149585247039795, 17.63665008544922, 53.835166931152344, 131.56887817382812, 28.85626983642578, 29.52623176574707, 12.663773536682129, 35.42424011230469, 49.798545837402344, 21.469932556152344, 29.076091766357422, 32.31797790527344, 31.258678436279297, 45.58805847167969, 24.12224769592285, 26.473146438598633, 3.941660165786743, 3.1557679176330566, 3.1557745933532715, 3.1557836532592773, 3.9400744438171387, 3.9492974281311035, 5.536001205444336, 3.1606955528259277, 2.3708486557006836, 2.3708505630493164, 2.370859384536743, 2.3708553314208984, 2.3708574771881104, 2.3708693981170654, 2.3708934783935547, 2.370870590209961, 3.1703152656555176, 2.370816469192505, 3.156491756439209, 3.164187431335449, 3.960052013397217, 3.1657636165618896, 2.3761239051818848, 2.374083995819092, 2.3766674995422363, 2.375563621520996, 6.321807861328125, 4.728743076324463, 2.378021717071533, 2.3819189071655273, 6.37271785736084, 21.40614128112793, 14.982939720153809, 7.192127704620361, 10.215415000915527, 9.554325103759766, 8.012502670288086, 6.363753318786621, 11.843249320983887, 4.736893653869629, 9.465292930603027, 19.902484893798828, 15.174165725708008, 15.221269607543945, 19.838455200195312, 30.543556213378906, 56.701141357421875, 20.12812042236328, 14.208393096923828, 9.569290161132812, 131.56887817382812, 27.46881866455078, 24.63552474975586, 24.6401309967041, 7.911948204040527, 29.52623176574707, 89.79920196533203, 51.17314147949219, 15.056282043457031, 20.923078536987305, 24.020381927490234, 25.464950561523438, 26.473146438598633, 45.58805847167969, 53.835166931152344, 14.475250244140625, 15.338661193847656, 49.798545837402344, 17.711048126220703, 35.42424011230469, 28.85626983642578, 59.13871383666992, 3.137437105178833, 3.1374428272247314, 3.9307990074157715, 6.264261245727539, 3.138061046600342, 3.9364287853240967, 3.9234232902526855, 2.3586223125457764, 2.3586337566375732, 2.358635425567627, 2.3586347103118896, 2.358642578125, 2.358644962310791, 2.3586506843566895, 2.3587348461151123, 4.702789306640625, 2.3590009212493896, 5.485208034515381, 11.02117919921875, 2.359649658203125, 3.147719621658325, 3.153773069381714, 2.36431622505188, 2.3688998222351074, 11.042478561401367, 5.5332841873168945, 3.1485772132873535, 2.3727874755859375, 2.3608551025390625, 2.3698890209198, 5.532514572143555, 3.9250524044036865, 3.924952983856201, 16.59372329711914, 10.290240287780762, 23.903995513916016, 31.118526458740234, 9.4794340133667, 9.541179656982422, 7.064334869384766, 27.78099822998047, 30.42980194091797, 12.816190719604492, 39.53499221801758, 12.798559188842773, 3.9753425121307373, 11.9334135055542, 7.89729642868042, 22.413040161132812, 28.450973510742188, 9.646856307983398, 24.63552474975586, 131.56887817382812, 45.58805847167969, 20.44414520263672, 43.48072052001953, 15.286846160888672, 25.464950561523438, 13.547586441040039, 49.798545837402344, 56.701141357421875, 15.959406852722168, 59.13871383666992, 31.258678436279297, 53.835166931152344, 89.79920196533203, 28.8831787109375, 22.33053207397461, 37.36151123046875, 36.707637786865234, 35.1930046081543], \"loglift\": [30.0, 29.0, 28.0, 27.0, 26.0, 25.0, 24.0, 23.0, 22.0, 21.0, 20.0, 19.0, 18.0, 17.0, 16.0, 15.0, 14.0, 13.0, 12.0, 11.0, 10.0, 9.0, 8.0, 7.0, 6.0, 5.0, 4.0, 3.0, 2.0, 1.0, 1.3050999641418457, 1.3042999505996704, 1.2760000228881836, 1.2757999897003174, 1.2755999565124512, 1.2755999565124512, 1.2719000577926636, 1.2403000593185425, 1.2347999811172485, 1.2101000547409058, 1.2095999717712402, 1.2070000171661377, 1.1988999843597412, 1.195199966430664, 1.1934000253677368, 1.1902999877929688, 1.1901999711990356, 1.1901999711990356, 1.1901999711990356, 1.1900999546051025, 1.1900999546051025, 1.190000057220459, 1.190000057220459, 1.1899000406265259, 1.1899000406265259, 1.1899000406265259, 1.1897000074386597, 1.1894999742507935, 1.186400055885315, 1.1820000410079956, 1.1785999536514282, 1.149399995803833, 1.1097999811172485, 1.1728999614715576, 1.006500005722046, 1.1365000009536743, 1.1663000583648682, 1.054900050163269, 1.1227999925613403, 1.1014000177383423, 1.0719000101089478, 0.9207000136375427, 0.9157999753952026, 0.845300018787384, 1.0508999824523926, 0.9212999939918518, 0.629800021648407, 0.8263999819755554, 0.8335999846458435, 0.8535000085830688, 0.3824999928474426, 0.7149999737739563, 0.31220000982284546, 0.5885999798774719, 0.6504999995231628, 0.21040000021457672, 0.900600016117096, 0.5332000255584717, 0.1421000063419342, 0.4023999869823456, -0.2809000015258789, 0.47679999470710754, 0.24310000240802765, 0.33160001039505005, 0.4316999912261963, 0.11140000075101852, -0.03229999914765358, -0.503600001335144, -0.04230000078678131, 0.3582000136375427, 0.2791000008583069, 0.193900004029274, 1.4045000076293945, 1.3646999597549438, 1.3628000020980835, 1.344099998474121, 1.31850004196167, 1.3085999488830566, 1.2978999614715576, 1.2924000024795532, 1.2626999616622925, 1.2547999620437622, 1.2381000518798828, 1.2353999614715576, 1.2352999448776245, 1.2352999448776245, 1.2351000308990479, 1.2351000308990479, 1.2348999977111816, 1.232100009918213, 1.225100040435791, 1.2242000102996826, 1.218999981880188, 1.215399980545044, 1.214400053024292, 1.2120000123977661, 1.2094999551773071, 1.2093000411987305, 1.2020000219345093, 1.2005000114440918, 1.1993000507354736, 1.1985000371932983, 1.1797000169754028, 1.1634999513626099, 1.1632000207901, 1.0887000560760498, 1.13100004196167, 1.0292999744415283, 1.1279000043869019, 1.142799973487854, 0.8690000176429749, 1.1105999946594238, 0.9787999987602234, 1.132200002670288, 1.12090003490448, 0.9139999747276306, 0.7497000098228455, 0.8403000235557556, 0.992900013923645, 0.7613999843597412, 0.4618000090122223, 0.7705000042915344, 0.788100004196167, 0.642799973487854, 0.9036999940872192, 0.7208999991416931, 0.7954000234603882, 0.511900007724762, 0.9610999822616577, 0.10589999705553055, 0.39259999990463257, 0.39800000190734863, 0.7249000072479248, 0.3986999988555908, 0.7551000118255615, 0.12860000133514404, 0.016100000590085983, 0.33899998664855957, 0.6952000260353088, 0.6808000206947327, 0.4641999900341034, -0.12559999525547028, 0.14730000495910645, -0.15649999678134918, 0.16290000081062317, 0.2879999876022339, -0.5156000256538391, 1.445199966430664, 1.4133000373840332, 1.4128999710083008, 1.363700032234192, 1.363700032234192, 1.3585000038146973, 1.339900016784668, 1.332900047302246, 1.3025000095367432, 1.3016999959945679, 1.2977999448776245, 1.2825000286102295, 1.2807999849319458, 1.2764999866485596, 1.2753000259399414, 1.2753000259399414, 1.2753000259399414, 1.2752000093460083, 1.2752000093460083, 1.2752000093460083, 1.2750999927520752, 1.2750999927520752, 1.2750999927520752, 1.274999976158142, 1.274899959564209, 1.2695000171661377, 1.2683000564575195, 1.2625999450683594, 1.2596999406814575, 1.2513999938964844, 1.15339994430542, 1.0807000398635864, 1.0087000131607056, 1.1793999671936035, 1.1088000535964966, 1.19159996509552, 1.1729999780654907, 1.1969000101089478, 0.9815999865531921, 0.5791000127792358, 0.9839000105857849, 0.84579998254776, 0.8312000036239624, 0.7817999720573425, 0.8870999813079834, 0.5787000060081482, 0.6862000226974487, 0.4147999882698059, 0.8126000165939331, 0.8112999796867371, 0.7843999862670898, 0.7694000005722046, 0.4943000078201294, 0.39809998869895935, 0.7351999878883362, 1.030500054359436, 0.6292999982833862, 0.1177000030875206, -0.4275999963283539, 0.31769999861717224, 0.2851000130176544, 0.7412999868392944, 0.12800000607967377, -0.10350000113248825, 0.414900004863739, 0.2214999943971634, 0.11259999871253967, 0.10679999738931656, -0.23989999294281006, 0.2985000014305115, 0.19869999587535858, 1.5204999446868896, 1.4789999723434448, 1.4789999723434448, 1.4788000583648682, 1.4687000513076782, 1.4315999746322632, 1.424399971961975, 1.4210000038146973, 1.3904000520706177, 1.3904000520706177, 1.3902000188827515, 1.3902000188827515, 1.3902000188827515, 1.3898999691009521, 1.3895000219345093, 1.3885999917984009, 1.3882999420166016, 1.3875999450683594, 1.3834999799728394, 1.3753000497817993, 1.3657000064849854, 1.3598999977111816, 1.3436000347137451, 1.3349000215530396, 1.3289999961853027, 1.3092000484466553, 1.3043999671936035, 1.2989000082015991, 1.2969000339508057, 1.2899999618530273, 1.2755000591278076, 1.190999984741211, 1.1619999408721924, 1.219099998474121, 1.1650999784469604, 1.1588000059127808, 1.1449999809265137, 1.1865999698638916, 1.0556999444961548, 1.247499942779541, 1.0964000225067139, 0.9269999861717224, 0.9700000286102295, 0.968500018119812, 0.9064000248908997, 0.7267000079154968, 0.5220000147819519, 0.8075000047683716, 0.9143000245094299, 1.0157999992370605, -0.04540000110864639, 0.5598000288009644, 0.5680999755859375, 0.5666999816894531, 1.061900019645691, 0.43149998784065247, -0.13539999723434448, 0.0706000030040741, 0.7131999731063843, 0.4997999966144562, 0.4133000075817108, 0.3677999973297119, 0.32010000944137573, -0.07509999722242355, -0.28619998693466187, 0.7006999850273132, 0.6503999829292297, -0.28349998593330383, 0.5274999737739563, -0.08579999953508377, 0.08950000256299973, -0.6179999709129333, 1.5157999992370605, 1.5156999826431274, 1.4957000017166138, 1.4926999807357788, 1.4830000400543213, 1.4572999477386475, 1.4479000568389893, 1.4265999794006348, 1.4263999462127686, 1.4263999462127686, 1.426300048828125, 1.426300048828125, 1.426200032234192, 1.4261000156402588, 1.4208999872207642, 1.413699984550476, 1.3985999822616577, 1.3839000463485718, 1.3732000589370728, 1.3726999759674072, 1.3550000190734863, 1.3524999618530273, 1.347100019454956, 1.3424999713897705, 1.3288999795913696, 1.325600028038025, 1.3206000328063965, 1.309399962425232, 1.3036999702453613, 1.297700047492981, 1.2937999963760376, 1.292099952697754, 1.2920000553131104, 1.195199966430664, 1.1719000339508057, 1.0353000164031982, 0.9387000203132629, 1.1367000341415405, 1.1217999458312988, 1.1747000217437744, 0.864799976348877, 0.8364999890327454, 1.0015000104904175, 0.7024999856948853, 0.9483000040054321, 1.2792999744415283, 0.958899974822998, 1.0777000188827515, 0.7621999979019165, 0.6859999895095825, 1.0163999795913696, 0.7222999930381775, 0.03799999877810478, 0.4212999939918518, 0.72079998254776, 0.38429999351501465, 0.8266000151634216, 0.578000009059906, 0.8652999997138977, 0.2168000042438507, 0.0738999992609024, 0.7250000238418579, -0.04430000111460686, 0.3037000000476837, -0.10930000245571136, -0.5353000164031982, 0.29670000076293945, 0.43560001254081726, -0.03790000081062317, -0.09839999675750732, -0.060100000351667404], \"logprob\": [30.0, 29.0, 28.0, 27.0, 26.0, 25.0, 24.0, 23.0, 22.0, 21.0, 20.0, 19.0, 18.0, 17.0, 16.0, 15.0, 14.0, 13.0, 12.0, 11.0, 10.0, 9.0, 8.0, 7.0, 6.0, 5.0, 4.0, 3.0, 2.0, 1.0, -6.4394001960754395, -6.44320011138916, -6.8765997886657715, -6.876800060272217, -6.876999855041504, -6.876999855041504, -6.6570000648498535, -6.691400051116943, -6.918900012969971, -6.719900131225586, -6.944900035858154, -5.627699851989746, -5.633299827575684, -6.391499996185303, -6.961299896240234, -7.251299858093262, -7.251399993896484, -7.251399993896484, -7.251399993896484, -7.251500129699707, -7.251500129699707, -7.2515997886657715, -7.2515997886657715, -6.963399887084961, -7.251699924468994, -7.251699924468994, -7.2519001960754395, -7.252099990844727, -7.255300045013428, -7.259799957275391, -6.753900051116943, -5.2581000328063965, -5.718599796295166, -6.979100227355957, -4.927499771118164, -6.604000091552734, -6.983699798583984, -5.923399925231934, -6.617400169372559, -6.4842000007629395, -6.393099784851074, -5.491799831390381, -5.499300003051758, -5.138700008392334, -6.41379976272583, -5.857900142669678, -4.926700115203857, -5.629300117492676, -5.817699909210205, -5.923999786376953, -4.866499900817871, -5.703000068664551, -5.081399917602539, -5.631199836730957, -5.8018999099731445, -5.080699920654297, -6.249800205230713, -5.721799850463867, -5.200799942016602, -5.5640997886657715, -4.730199813842773, -5.770199775695801, -5.524799823760986, -5.627299785614014, -5.741199970245361, -5.540299892425537, -5.453199863433838, -5.33489990234375, -5.551400184631348, -5.759099960327148, -5.773600101470947, -5.771599769592285, -5.908100128173828, -6.067599773406982, -6.540299892425537, -6.559599876403809, -6.809999942779541, -6.820499897003174, -6.137199878692627, -6.612599849700928, -6.868800163269043, -6.067200183868408, -6.6682000160217285, -7.184700012207031, -7.184800148010254, -7.184800148010254, -7.185100078582764, -7.185100078582764, -7.185299873352051, -7.188199996948242, -7.195300102233887, -7.196400165557861, -7.201499938964844, -7.2058000564575195, -7.206299781799316, -7.209499835968018, -7.211999893188477, -6.359899997711182, -7.219399929046631, -6.934999942779541, -7.22160005569458, -7.223199844360352, -4.5329999923706055, -5.962100028991699, -6.562300205230713, -5.491300106048584, -6.092599868774414, -5.3171000480651855, -6.318600177764893, -6.59119987487793, -4.856800079345703, -6.464200019836426, -5.659900188446045, -6.597300052642822, -6.606599807739258, -5.616700172424316, -4.958499908447266, -5.39870023727417, -6.129000186920166, -5.162499904632568, -3.987499952316284, -5.508800029754639, -5.654399871826172, -5.373000144958496, -5.9903998374938965, -5.677000045776367, -5.851799964904785, -5.341400146484375, -6.172900199890137, -4.725399971008301, -5.259099960327148, -5.363399982452393, -5.818900108337402, -5.510900020599365, -5.892600059509277, -5.292300224304199, -5.3267998695373535, -5.574399948120117, -5.85099983215332, -5.86359977722168, -5.782100200653076, -5.634699821472168, -5.739200115203857, -5.7129998207092285, -5.796000003814697, -5.824100017547607, -5.806700229644775, -6.3277997970581055, -6.541500091552734, -6.541800022125244, -6.813300132751465, -6.813399791717529, -6.596799850463867, -6.427700042724609, -6.4344000816345215, -6.875100135803223, -6.874599933624268, -6.878900051116943, -6.668900012969971, -6.67080020904541, -6.901299953460693, -7.188000202178955, -7.188000202178955, -7.188000202178955, -7.1880998611450195, -7.1880998611450195, -7.1880998611450195, -7.188199996948242, -7.188199996948242, -7.188199996948242, -7.188300132751465, -7.188399791717529, -7.19350004196167, -7.195000171661377, -7.200900077819824, -6.6956000328063965, -7.212100028991699, -5.520699977874756, -5.439199924468994, -4.910099983215332, -6.439199924468994, -5.957900047302246, -6.575699806213379, -6.601900100708008, -6.757500171661377, -5.802800178527832, -4.252099990844727, -6.007999897003174, -5.465400218963623, -5.462200164794922, -5.377399921417236, -5.844900131225586, -4.814899921417236, -5.370299816131592, -4.834099769592285, -5.8043999671936035, -5.860599994659424, -5.8242998123168945, -5.878300189971924, -5.486400127410889, -5.369800090789795, -5.880899906158447, -6.331299781799316, -5.829500198364258, -5.225200176239014, -4.8769001960754395, -5.648799896240234, -5.6585001945495605, -6.048799991607666, -5.633399963378906, -5.5243000984191895, -5.847300052642822, -5.737400054931641, -5.740600109100342, -5.779699802398682, -5.749000072479248, -5.8471999168396, -5.854000091552734, -6.436699867248535, -6.7006001472473145, -6.7006001472473145, -6.700799942016602, -6.488999843597412, -6.52370023727417, -6.19320011138916, -6.7571001052856445, -7.075200080871582, -7.075200080871582, -7.075399875640869, -7.075399875640869, -7.075399875640869, -7.0756001472473145, -7.076099872589111, -7.076900005340576, -6.7866997718811035, -7.078000068664551, -6.795899868011475, -6.801599979400635, -6.586900234222412, -6.816500186920166, -7.119800090789795, -7.12939977645874, -7.134099960327148, -7.154399871826172, -6.1803998947143555, -6.476200103759766, -7.165599822998047, -7.170899868011475, -6.201300144195557, -5.07420015335083, -5.460000038146973, -6.1367998123168945, -5.839799880981445, -5.913000106811523, -6.102799892425537, -6.291600227355957, -5.801400184631348, -6.526000022888184, -5.984799861907959, -5.410999774932861, -5.639200210571289, -5.637700080871582, -5.434800148010254, -5.1828999519348145, -4.769000053405762, -5.519199848175049, -5.760700225830078, -6.054500102996826, -4.494699954986572, -5.455999851226807, -5.55649995803833, -5.557799816131592, -6.198599815368652, -5.5121002197265625, -4.966700077056885, -5.322999954223633, -5.903900146484375, -5.788099765777588, -5.736599922180176, -5.723800182342529, -5.732600212097168, -5.5843000411987305, -5.6290998458862305, -5.955699920654297, -5.947999954223633, -5.704400062561035, -5.927199840545654, -5.8471999168396, -5.876999855041504, -5.8668999671936035, -6.669600009918213, -6.6697001457214355, -6.464300155639648, -6.001299858093262, -6.702199935913086, -6.501299858093262, -6.513999938964844, -7.0441999435424805, -7.044300079345703, -7.044400215148926, -7.044400215148926, -7.04449987411499, -7.04449987411499, -7.0447001457214355, -7.049799919128418, -6.367000102996826, -7.072000026702881, -6.2428998947143555, -5.555799961090088, -7.097599983215332, -6.827199935913086, -6.827700138092041, -7.121200084686279, -7.123899936676025, -5.598199844360352, -6.292399883270264, -6.861299991607666, -7.155399799346924, -7.166200160980225, -7.168300151824951, -6.324399948120117, -6.669400215148926, -6.669400215148926, -5.324699878692627, -5.825699806213379, -5.119500160217285, -4.952300071716309, -5.942999839782715, -5.951399803161621, -6.199100017547607, -5.139699935913086, -5.076900005340576, -5.776599884033203, -4.94920015335083, -5.831200122833252, -6.669400215148926, -5.890600204467773, -6.184599876403809, -5.456999778747559, -5.2947001457214355, -6.04580020904541, -5.402299880981445, -4.411300182342529, -5.087900161743164, -5.590400218963623, -5.1722002029418945, -5.775300025939941, -5.513500213623047, -5.857399940490723, -5.204100131988525, -5.217100143432617, -5.833799839019775, -5.293300151824951, -5.582799911499023, -5.452199935913086, -5.366600036621094, -5.668900012969971, -5.787300109863281, -5.746099948883057, -5.8242998123168945, -5.828100204467773]}, \"token.table\": {\"Topic\": [1, 2, 3, 4, 5, 2, 5, 2, 3, 4, 5, 1, 2, 3, 4, 5, 1, 1, 3, 3, 1, 4, 5, 1, 2, 3, 4, 5, 2, 3, 5, 2, 5, 1, 3, 4, 5, 1, 3, 4, 3, 3, 5, 2, 1, 2, 3, 4, 5, 1, 2, 2, 3, 2, 3, 4, 4, 2, 3, 4, 5, 5, 1, 3, 5, 2, 3, 4, 3, 1, 3, 4, 5, 4, 1, 2, 3, 4, 5, 1, 2, 3, 4, 5, 1, 2, 3, 4, 5, 5, 3, 1, 2, 3, 4, 5, 1, 2, 3, 4, 5, 2, 2, 3, 4, 5, 1, 1, 4, 5, 1, 2, 3, 4, 5, 1, 2, 3, 1, 3, 4, 5, 1, 2, 3, 4, 1, 2, 3, 4, 5, 2, 1, 5, 2, 4, 1, 3, 4, 5, 4, 5, 1, 2, 3, 4, 5, 1, 2, 3, 4, 5, 2, 5, 1, 2, 3, 4, 5, 1, 2, 3, 4, 5, 1, 2, 4, 1, 3, 3, 1, 4, 1, 2, 3, 4, 5, 1, 2, 3, 4, 5, 1, 2, 3, 4, 5, 2, 2, 3, 4, 3, 1, 5, 1, 2, 4, 5, 5, 2, 1, 2, 3, 4, 5, 2, 3, 3, 4, 2, 2, 1, 2, 3, 4, 5, 1, 2, 4, 5, 1, 2, 3, 4, 5, 1, 2, 3, 5, 2, 1, 2, 3, 4, 5, 1, 2, 3, 4, 5, 1, 2, 3, 4, 5, 1, 2, 3, 4, 5, 1, 2, 3, 5, 1, 2, 3, 4, 5, 1, 2, 3, 4, 5, 1, 2, 3, 4, 5, 1, 2, 3, 4, 5, 4, 1, 3, 5, 1, 2, 3, 4, 5, 1, 1, 2, 3, 4, 5, 1, 1, 2, 3, 4, 1, 2, 3, 4, 5, 1, 2, 5, 1, 2, 3, 4, 5, 4, 1, 2, 1, 2, 3, 4, 5, 4, 1, 2, 3, 4, 5, 1, 3, 4, 5, 5, 3, 5, 4, 1, 3, 4, 1, 2, 3, 4, 5, 1, 2, 4, 5, 4, 1, 1, 2, 3, 4, 3, 1, 4, 2, 5, 2, 5, 3, 5, 3, 1, 2, 1, 5, 1, 2, 3, 4, 5, 1, 2, 4, 1, 2, 3, 5, 3, 4, 1, 3, 4, 5, 3, 5, 1, 2, 3, 4, 5, 1, 1, 2, 3, 4, 1, 2, 3, 4, 5, 2, 4, 5, 1, 2, 3, 4, 5, 5, 1, 2, 4, 5, 1, 2, 3, 4, 5, 1, 2, 3, 4, 5, 5, 1, 2, 3, 4, 5, 2, 3, 4, 5, 1, 2, 1, 2, 3, 4, 5, 4, 2, 3, 4, 5, 2, 4, 5, 3, 2, 1, 3, 1, 2, 3, 4, 5, 1, 2, 3, 4, 5, 1, 2, 3, 4, 5, 1, 2, 3, 4, 2, 3, 4, 4, 4, 1, 2, 3, 4, 5, 1, 2, 3, 4, 5, 1, 2, 1, 2, 3, 4, 5, 1, 2, 3, 4, 5, 1, 2, 3, 4, 5, 1, 2, 3, 5, 2, 1, 5, 1, 2, 3, 4, 5, 1, 2, 3, 1, 2, 3, 4, 5, 1, 2, 3, 4, 5, 4, 1, 2, 3, 4, 5, 1, 3, 5, 1, 1, 2, 3, 5, 5, 1, 2, 3, 4, 5, 4, 2, 2, 5, 1, 2, 3, 4, 5, 3, 1, 2, 3, 4, 5, 5, 4, 5, 1, 1, 3, 1, 2, 2, 3, 4, 5, 1, 2, 1, 2, 3, 4, 5, 1, 1, 2, 3, 4, 5, 3, 5, 2, 5, 1, 5, 1, 2, 3, 4, 5, 5, 2, 3, 1, 1, 3, 4, 1, 3, 4, 1, 1, 3, 4, 5, 5, 2, 3, 2, 2, 3, 4, 4, 1, 2, 3, 4, 5, 1, 5, 4, 3, 3, 1, 5, 1, 2, 3, 3, 4, 5, 1, 4, 2, 2, 1, 3, 4, 1, 3, 5, 1, 2, 4, 5, 4, 1, 2, 3, 4, 5, 1, 2, 3, 5, 1, 2, 3, 4, 5, 2, 1, 2, 4, 1, 2, 3, 4, 5, 1, 2, 1, 3, 4, 5, 1, 2, 3, 4, 5, 1, 2, 3, 1, 4, 1, 2, 1, 3, 5, 1, 2, 3, 4, 5, 4, 3, 1, 2, 3, 4, 5, 1, 2, 1, 3, 4, 5, 3, 1, 2, 3, 4, 5, 1, 2, 3, 4, 5, 4, 1, 2, 3, 4, 5, 1, 1, 2, 3, 4, 1, 2, 3, 4, 5, 1, 2, 3, 4, 5, 3, 4, 5, 4, 1, 3, 4, 2, 1, 2, 3, 4, 5, 1, 2, 3, 4, 5, 1, 4, 1, 2, 3, 4, 5, 3, 3, 5, 1, 2, 3, 5, 4, 1, 3, 4, 5, 1, 2, 3, 4, 5, 1, 1, 2, 3, 4, 5, 2, 4, 5, 1, 2, 3, 4, 5, 3], \"Freq\": [0.1673448532819748, 0.5020345449447632, 0.055781614035367966, 0.1673448532819748, 0.11156322807073593, 0.722320020198822, 0.8479481935501099, 0.25100407004356384, 0.12550203502178192, 0.08366802334785461, 0.5020081400871277, 0.10048996657133102, 0.15073494613170624, 0.15073494613170624, 0.4522048532962799, 0.10048996657133102, 0.8236483335494995, 0.7398257255554199, 0.8416661024093628, 0.8417999148368835, 0.5467373728752136, 0.15621067583560944, 0.31242135167121887, 0.2258477360010147, 0.2823096513748169, 0.05646193400025368, 0.2823096513748169, 0.16938579082489014, 0.8065261840820312, 0.1596357375383377, 0.7981787323951721, 0.8071613907814026, 0.8479121923446655, 0.16887257993221283, 0.08443628996610641, 0.5066177248954773, 0.16887257993221283, 0.9253120422363281, 0.6326144337654114, 0.9506382346153259, 0.9482121467590332, 0.6342782974243164, 0.21142610907554626, 0.8064993619918823, 0.7412671446800232, 0.08236301690340042, 0.08236301690340042, 0.08236301690340042, 0.08236301690340042, 0.15050259232521057, 0.7525129318237305, 0.20986519753932953, 0.8394607901573181, 0.19325555860996246, 0.5797666907310486, 0.19325555860996246, 0.8424301743507385, 0.10564913600683212, 0.21129827201366425, 0.5282456874847412, 0.10564913600683212, 0.637336254119873, 0.252265602350235, 0.7567968368530273, 0.8479444980621338, 0.47939643263816833, 0.4109112322330475, 0.06848520040512085, 0.7592069506645203, 0.2104794979095459, 0.49111881852149963, 0.14031966030597687, 0.2104794979095459, 0.7614069581031799, 0.08118357509374619, 0.16236715018749237, 0.04059178754687309, 0.32473430037498474, 0.3653261065483093, 0.369951069355011, 0.09248776733875275, 0.27746331691741943, 0.04624388366937637, 0.1849755346775055, 0.036404915153980255, 0.4004540741443634, 0.21842949092388153, 0.3276442289352417, 0.036404915153980255, 0.847816526889801, 0.8440483212471008, 0.11375581473112106, 0.22751162946224213, 0.41710466146469116, 0.18959303200244904, 0.11375581473112106, 0.08379831910133362, 0.16759663820266724, 0.08379831910133362, 0.16759663820266724, 0.4189915955066681, 0.8067706227302551, 0.09073439240455627, 0.09073439240455627, 0.09073439240455627, 0.7258751392364502, 0.8237903118133545, 0.14155614376068115, 0.2831122875213623, 0.5662245750427246, 0.2794605791568756, 0.046576764434576035, 0.32603734731674194, 0.1397302895784378, 0.18630705773830414, 0.6180282235145569, 0.8064079880714417, 0.841665506362915, 0.4354587197303772, 0.27216169238090515, 0.16329702734947205, 0.1088646799325943, 0.9253104329109192, 0.6627132296562195, 0.11045220494270325, 0.11045220494270325, 0.074510857462883, 0.074510857462883, 0.5215760469436646, 0.074510857462883, 0.298043429851532, 0.8061023950576782, 0.823574423789978, 0.8439213633537292, 0.8071542382240295, 0.7575657963752747, 0.23689621686935425, 0.3948270082473755, 0.15793080627918243, 0.23689621686935425, 0.6317591071128845, 0.6374629735946655, 0.28414738178253174, 0.14207369089126587, 0.31256210803985596, 0.11365894973278046, 0.17048843204975128, 0.5289473533630371, 0.21157893538475037, 0.10578946769237518, 0.10578946769237518, 0.07052631676197052, 0.2515506446361542, 0.5031012892723083, 0.060268864035606384, 0.060268864035606384, 0.6026886105537415, 0.12053772807121277, 0.12053772807121277, 0.06548026204109192, 0.3274013102054596, 0.13096052408218384, 0.36014142632484436, 0.09822039306163788, 0.13904091715812683, 0.13904091715812683, 0.5561636686325073, 0.7424486875534058, 0.24748289585113525, 0.8416635394096375, 0.8235723376274109, 0.8435912132263184, 0.0455106683075428, 0.5006173849105835, 0.2275533378124237, 0.1365320086479187, 0.0455106683075428, 0.2600530683994293, 0.22290262579917908, 0.22290262579917908, 0.13002653419971466, 0.14860175549983978, 0.3408178389072418, 0.2982155978679657, 0.08520445972681046, 0.08520445972681046, 0.21301114559173584, 0.9321255087852478, 0.24960990250110626, 0.12480495125055313, 0.6240247488021851, 0.8417542576789856, 0.7406029105186462, 0.8479424118995667, 0.25294047594070435, 0.32882261276245117, 0.07588214427232742, 0.35411667823791504, 0.764638364315033, 0.9005140066146851, 0.22088998556137085, 0.2409708946943283, 0.18072816729545593, 0.14056634902954102, 0.22088998556137085, 0.8062377572059631, 0.75921231508255, 0.21147269010543823, 0.6344180703163147, 0.8060936331748962, 0.905909538269043, 0.4017693102359772, 0.0892820656299591, 0.13392309844493866, 0.1785641312599182, 0.22320516407489777, 0.4145005941390991, 0.1381668746471405, 0.34541717171669006, 0.06908343732357025, 0.22144165635108948, 0.14762777090072632, 0.14762777090072632, 0.07381388545036316, 0.44288331270217896, 0.9253161549568176, 0.6089465022087097, 0.15223662555217743, 0.15223662555217743, 0.9038218259811401, 0.24368003010749817, 0.5482800602912903, 0.12184001505374908, 0.06092000752687454, 0.06092000752687454, 0.26869040727615356, 0.13434520363807678, 0.13434520363807678, 0.2239086776971817, 0.26869040727615356, 0.2821812629699707, 0.12345430254936218, 0.10581797361373901, 0.29981759190559387, 0.19399961829185486, 0.18335774540901184, 0.3667154908180237, 0.18335774540901184, 0.04583943635225296, 0.2291971743106842, 0.09055937826633453, 0.09055937826633453, 0.18111875653266907, 0.6339156627655029, 0.3126640319824219, 0.09770750254392624, 0.3712885081768036, 0.19541500508785248, 0.039083003997802734, 0.06572504341602325, 0.29576268792152405, 0.16431260108947754, 0.06572504341602325, 0.3943502604961395, 0.1327078640460968, 0.0663539320230484, 0.3981235921382904, 0.3317696750164032, 0.0663539320230484, 0.30953267216682434, 0.2407476305961609, 0.2407476305961609, 0.10317755490541458, 0.06878503412008286, 0.6320738196372986, 0.14063413441181183, 0.632853627204895, 0.14063413441181183, 0.20320913195610046, 0.13547275960445404, 0.2709455192089081, 0.2709455192089081, 0.10160456597805023, 0.8235729932785034, 0.19634830951690674, 0.15707865357398987, 0.1178089827299118, 0.2748876214027405, 0.31415730714797974, 0.8227999806404114, 0.21339163184165955, 0.4267832636833191, 0.10669581592082977, 0.21339163184165955, 0.047383639961481094, 0.47383642196655273, 0.28430184721946716, 0.14215092360973358, 0.047383639961481094, 0.1036607101559639, 0.3109821379184723, 0.5183035731315613, 0.06787557899951935, 0.5430046319961548, 0.20362675189971924, 0.06787557899951935, 0.06787557899951935, 0.6336148381233215, 0.6998254060745239, 0.17495635151863098, 0.2520357668399811, 0.05040714889764786, 0.05040714889764786, 0.4536643624305725, 0.20162859559059143, 0.8435797691345215, 0.4139765799045563, 0.18398958444595337, 0.04599739611148834, 0.09199479222297668, 0.2529856860637665, 0.048913758248090744, 0.48913758993148804, 0.09782751649618149, 0.3423963189125061, 0.8442738056182861, 0.18230849504470825, 0.729233980178833, 0.8435773849487305, 0.13986825942993164, 0.5594730377197266, 0.13986825942993164, 0.15471264719963074, 0.37131035327911377, 0.21659770607948303, 0.15471264719963074, 0.12377011775970459, 0.1054915338754654, 0.1054915338754654, 0.2109830677509308, 0.5274576544761658, 0.8410351872444153, 0.8235904574394226, 0.06641745567321777, 0.06641745567321777, 0.4649222195148468, 0.39850476384162903, 0.8416652083396912, 0.8203468918800354, 0.8396591544151306, 0.6087876558303833, 0.20292922854423523, 0.8065004348754883, 0.13441674411296844, 0.6318931579589844, 0.6353806257247925, 0.6324595212936401, 0.8235753774642944, 0.6064015030860901, 0.3170805275440216, 0.6341610550880432, 0.06674257665872574, 0.06674257665872574, 0.26697030663490295, 0.6006832122802734, 0.06674257665872574, 0.9253075122833252, 0.8070995211601257, 0.9506402611732483, 0.15626758337020874, 0.2344013899564743, 0.07813379168510437, 0.4688027799129486, 0.21110881865024567, 0.6333264708518982, 0.7430551052093506, 0.0825616791844368, 0.0825616791844368, 0.0825616791844368, 0.254780113697052, 0.509560227394104, 0.06845387816429138, 0.47917717695236206, 0.13690775632858276, 0.13690775632858276, 0.20536164939403534, 0.6175954341888428, 0.5498549938201904, 0.1374637484550476, 0.2061956226825714, 0.1374637484550476, 0.14014670252799988, 0.09343113005161285, 0.04671556502580643, 0.6073023676872253, 0.14014670252799988, 0.15818260610103607, 0.6327304244041443, 0.15818260610103607, 0.1054445430636406, 0.07029636204242706, 0.3163336515426636, 0.14059272408485413, 0.3514818251132965, 0.8471506834030151, 0.08762212842702866, 0.5257327556610107, 0.26286637783050537, 0.08762212842702866, 0.32127854228019714, 0.10145638138055801, 0.30436915159225464, 0.10145638138055801, 0.16909396648406982, 0.09611047804355621, 0.24027620255947113, 0.48055240511894226, 0.09611047804355621, 0.09611047804355621, 0.6352075338363647, 0.16034284234046936, 0.280599981546402, 0.2004285603761673, 0.16034284234046936, 0.16034284234046936, 0.43311935663223267, 0.24749676883220673, 0.18562257289886475, 0.12374838441610336, 0.17307937145233154, 0.6923174858093262, 0.16582202911376953, 0.2901885509490967, 0.2901885509490967, 0.04145550727844238, 0.2487330436706543, 0.8417069315910339, 0.3121052086353302, 0.07802630215883255, 0.07802630215883255, 0.4681578278541565, 0.5569368600845337, 0.3341621160507202, 0.8479526042938232, 0.9482114315032959, 0.7214159369468689, 0.25223469734191895, 0.7567041516304016, 0.5086867213249207, 0.056520745158195496, 0.2826037108898163, 0.056520745158195496, 0.056520745158195496, 0.12800373136997223, 0.6400186419487, 0.06400186568498611, 0.06400186568498611, 0.12800373136997223, 0.3021930158138275, 0.15109650790691376, 0.26441890001296997, 0.26441890001296997, 0.03777412697672844, 0.667198657989502, 0.09531409293413162, 0.19062818586826324, 0.09531409293413162, 0.20900191366672516, 0.20900191366672516, 0.5225048065185547, 0.6327720880508423, 0.8419054746627808, 0.13442178070545197, 0.6989932656288147, 0.08065306395292282, 0.026884354650974274, 0.05376870930194855, 0.19770444929599762, 0.13180296123027802, 0.06590148061513901, 0.46131035685539246, 0.06590148061513901, 0.20162971317768097, 0.6048890948295593, 0.34654513001441956, 0.13861805200576782, 0.27723610401153564, 0.20792707800865173, 0.06930902600288391, 0.14398330450057983, 0.14398330450057983, 0.21597495675086975, 0.10798747837543488, 0.4319499135017395, 0.1338275671005249, 0.4550137221813202, 0.10706204921007156, 0.1338275671005249, 0.16059307754039764, 0.2026844173669815, 0.6080532670021057, 0.05067110434174538, 0.15201331675052643, 0.8061034083366394, 0.36149927973747253, 0.7229985594749451, 0.3330504894256592, 0.1665252447128296, 0.0416313111782074, 0.2914191782474518, 0.208156555891037, 0.7001543045043945, 0.05385802686214447, 0.21543210744857788, 0.25063589215278625, 0.12531794607639313, 0.12531794607639313, 0.06265897303819656, 0.3759538233280182, 0.14338234066963196, 0.2867646813392639, 0.2389705628156662, 0.2867646813392639, 0.04779411479830742, 0.8435638546943665, 0.5412866473197937, 0.05412866920232773, 0.2165146768093109, 0.10825733840465546, 0.05412866920232773, 0.6202937960624695, 0.15507344901561737, 0.15507344901561737, 0.82357257604599, 0.1606759876012802, 0.22494637966156006, 0.19281119108200073, 0.4498927593231201, 0.8475834727287292, 0.13172946870326996, 0.19759421050548553, 0.46105313301086426, 0.13172946870326996, 0.06586473435163498, 0.8435759544372559, 0.8062936067581177, 0.7309062480926514, 0.2436354160308838, 0.10480884462594986, 0.20961768925189972, 0.10480884462594986, 0.10480884462594986, 0.5240442156791687, 0.8416643738746643, 0.6038031578063965, 0.06708924472332001, 0.10063385963439941, 0.13417848944664001, 0.10063385963439941, 0.8459105491638184, 0.21263976395130157, 0.6379193067550659, 0.8235805630683899, 0.20982317626476288, 0.6294695138931274, 0.6125831007957458, 0.20419438183307648, 0.2093292772769928, 0.1046646386384964, 0.6279878616333008, 0.1046646386384964, 0.7005778551101685, 0.17514446377754211, 0.15995557606220245, 0.2559289336204529, 0.22393780946731567, 0.12796446681022644, 0.22393780946731567, 0.6173588037490845, 0.4506891667842865, 0.16900843381881714, 0.16900843381881714, 0.11267229169607162, 0.11267229169607162, 0.25477367639541626, 0.5095473527908325, 0.8069332838058472, 0.7632036209106445, 0.18072450160980225, 0.722898006439209, 0.3670186400413513, 0.22938664257526398, 0.09175466001033783, 0.18350932002067566, 0.13763198256492615, 0.6374618411064148, 0.96138995885849, 0.8416643738746643, 0.823570966720581, 0.8235741853713989, 0.6316722631454468, 0.7596287727355957, 0.12639112770557404, 0.25278225541114807, 0.5055645108222961, 0.8235772848129272, 0.1407618671655655, 0.281523734331131, 0.42228561639785767, 0.1407618671655655, 0.8479484915733337, 0.2098150998353958, 0.8392603993415833, 0.8061119914054871, 0.20826521515846252, 0.62479567527771, 0.10413260757923126, 0.843579113483429, 0.11291702836751938, 0.31052184104919434, 0.22583405673503876, 0.16937553882598877, 0.16937553882598877, 0.618165135383606, 0.7621120810508728, 0.8435766696929932, 0.8416659235954285, 0.841678261756897, 0.6152586340904236, 0.8428905010223389, 0.17211221158504486, 0.6884488463401794, 0.7595879435539246, 0.19578255712985992, 0.5873476266860962, 0.19578255712985992, 0.6165052652359009, 0.8415144085884094, 0.8073990345001221, 0.8060945868492126, 0.620113730430603, 0.15502843260765076, 0.15502843260765076, 0.29153838753700256, 0.09717945754528046, 0.5830767750740051, 0.6564048528671265, 0.16410121321678162, 0.08205060660839081, 0.08205060660839081, 0.8435723781585693, 0.1490452140569687, 0.2980904281139374, 0.09936347603797913, 0.3974539041519165, 0.04968173801898956, 0.33013761043548584, 0.5502293109893799, 0.11004586517810822, 0.8479453325271606, 0.21935568749904633, 0.1974201202392578, 0.1535489857196808, 0.1754845529794693, 0.26322683691978455, 0.8060912489891052, 0.15691891312599182, 0.15691891312599182, 0.6276756525039673, 0.18079125881195068, 0.060263749212026596, 0.060263749212026596, 0.12052749842405319, 0.602637529373169, 0.612774133682251, 0.2042580395936966, 0.2941228747367859, 0.462193101644516, 0.042017556726932526, 0.21008777618408203, 0.26770129799842834, 0.1784675270318985, 0.08923376351594925, 0.044616881757974625, 0.356935054063797, 0.20204171538352966, 0.6061251759529114, 0.7589306235313416, 0.3142799437046051, 0.6285598874092102, 0.24109606444835663, 0.7232882380485535, 0.8235741853713989, 0.8414431810379028, 0.847947895526886, 0.17010033130645752, 0.22680044174194336, 0.3969007730484009, 0.17010033130645752, 0.05670011043548584, 0.8435719609260559, 0.8416664004325867, 0.32236215472221375, 0.12088581174612045, 0.2417716234922409, 0.08059053868055344, 0.2014763504266739, 0.2012253850698471, 0.6036761403083801, 0.5427350401878357, 0.05427350103855133, 0.21709400415420532, 0.10854700207710266, 0.8416615724563599, 0.0617617629468441, 0.4323323369026184, 0.3088088035583496, 0.185285285115242, 0.0617617629468441, 0.13621143996715546, 0.5176034569740295, 0.13621143996715546, 0.054484572261571884, 0.16345372796058655, 0.9506354928016663, 0.13363148272037506, 0.24499103426933289, 0.3674865663051605, 0.1559033840894699, 0.100223608314991, 0.7418972253799438, 0.19709262251853943, 0.19709262251853943, 0.13139508664608002, 0.45988279581069946, 0.13083143532276154, 0.3924942910671234, 0.06541571766138077, 0.06541571766138077, 0.3924942910671234, 0.1303894817829132, 0.39116841554641724, 0.1303894817829132, 0.3259736895561218, 0.0651947408914566, 0.7232751250267029, 0.18081878125667572, 0.18081878125667572, 0.6308521032333374, 0.5458765029907227, 0.23394708335399628, 0.23394708335399628, 0.9032977223396301, 0.16604530811309814, 0.4649268686771393, 0.03320906311273575, 0.16604530811309814, 0.16604530811309814, 0.16721279919147491, 0.3420261740684509, 0.12920989096164703, 0.174813374876976, 0.1824139654636383, 0.18063579499721527, 0.7225431799888611, 0.19824281334877014, 0.09912140667438507, 0.5616879463195801, 0.13216187059879303, 0.03304046764969826, 0.8416644930839539, 0.7595981955528259, 0.25319939851760864, 0.23555386066436768, 0.07851795107126236, 0.5496256351470947, 0.15703590214252472, 0.7611006498336792, 0.5660653710365295, 0.2264261543750763, 0.11321307718753815, 0.11321307718753815, 0.2769778370857239, 0.2077333629131317, 0.13848891854286194, 0.13848891854286194, 0.2423555999994278, 0.8235734701156616, 0.20292100310325623, 0.08116839826107025, 0.24350519478321075, 0.324673593044281, 0.12175259739160538, 0.12662561237812042, 0.25325122475624084, 0.5065024495124817, 0.061726268380880356, 0.4320839047431946, 0.3703576326370239, 0.061726268380880356, 0.12345253676176071, 0.8416619300842285], \"Term\": [\"'s\", \"'s\", \"'s\", \"'s\", \"'s\", \"69kv\", \"acid\", \"aid\", \"aid\", \"aid\", \"aid\", \"air\", \"air\", \"air\", \"air\", \"air\", \"alley\", \"allowing\", \"analyzer\", \"april\", \"arm\", \"arm\", \"arm\", \"around\", \"around\", \"around\", \"around\", \"around\", \"attempt\", \"auger\", \"auger\", \"avoided\", \"axle\", \"backed\", \"backed\", \"backed\", \"backed\", \"backhoe\", \"backyard\", \"ballard\", \"band\", \"bar\", \"bar\", \"barber\", \"barricaded\", \"barricaded\", \"barricaded\", \"barricaded\", \"barricaded\", \"basket\", \"basket\", \"became\", \"became\", \"bent\", \"bent\", \"bent\", \"berm\", \"bin\", \"bin\", \"bin\", \"bin\", \"bjs\", \"blower\", \"blower\", \"bone\", \"boom\", \"boom\", \"boom\", \"boring\", \"box\", \"box\", \"box\", \"box\", \"brace\", \"breaker\", \"breaker\", \"breaker\", \"breaker\", \"breaker\", \"broke\", \"broke\", \"broke\", \"broke\", \"broke\", \"bucket\", \"bucket\", \"bucket\", \"bucket\", \"bucket\", \"bulletin\", \"bundle\", \"cable\", \"cable\", \"cable\", \"cable\", \"cable\", \"call\", \"call\", \"call\", \"call\", \"call\", \"capacitor\", \"car\", \"car\", \"car\", \"car\", \"carrier\", \"cart\", \"cart\", \"cart\", \"caused\", \"caused\", \"caused\", \"caused\", \"caused\", \"cavity\", \"chair\", \"chamber\", \"circuit\", \"circuit\", \"circuit\", \"circuit\", \"clamp\", \"clearance\", \"clearance\", \"clearance\", \"coal\", \"coal\", \"coal\", \"coal\", \"coal\", \"coil\", \"collided\", \"communication\", \"completing\", \"compressor\", \"concrete\", \"concrete\", \"concrete\", \"concrete\", \"cone\", \"conex\", \"contact\", \"contact\", \"contact\", \"contact\", \"contact\", \"contacted\", \"contacted\", \"contacted\", \"contacted\", \"contacted\", \"container\", \"container\", \"contract\", \"contract\", \"contract\", \"contract\", \"contract\", \"control\", \"control\", \"control\", \"control\", \"control\", \"cooler\", \"cooler\", \"cooler\", \"coupling\", \"coupling\", \"cracked\", \"crate\", \"ct\", \"cut\", \"cut\", \"cut\", \"cut\", \"cut\", \"damage\", \"damage\", \"damage\", \"damage\", \"damage\", \"damaged\", \"damaged\", \"damaged\", \"damaged\", \"damaged\", \"damper\", \"deer\", \"deer\", \"deer\", \"dewatering\", \"discharge\", \"diverter\", \"door\", \"door\", \"door\", \"door\", \"draper\", \"drive\", \"driver\", \"driver\", \"driver\", \"driver\", \"driver\", \"dummy\", \"dumpster\", \"dust\", \"dust\", \"duty\", \"elevator\", \"employee\", \"employee\", \"employee\", \"employee\", \"employee\", \"end\", \"end\", \"end\", \"end\", \"equipment\", \"equipment\", \"equipment\", \"equipment\", \"equipment\", \"exciter\", \"exiting\", \"exiting\", \"exiting\", \"f10/f28-271\", \"failed\", \"failed\", \"failed\", \"failed\", \"failed\", \"fall\", \"fall\", \"fall\", \"fall\", \"fall\", \"fell\", \"fell\", \"fell\", \"fell\", \"fell\", \"felt\", \"felt\", \"felt\", \"felt\", \"felt\", \"fence\", \"fence\", \"fence\", \"fence\", \"fire\", \"fire\", \"fire\", \"fire\", \"fire\", \"first\", \"first\", \"first\", \"first\", \"first\", \"floor\", \"floor\", \"floor\", \"floor\", \"floor\", \"foot\", \"foot\", \"foot\", \"foot\", \"foot\", \"forehead\", \"forklift\", \"forklift\", \"forklift\", \"found\", \"found\", \"found\", \"found\", \"found\", \"freeze\", \"front\", \"front\", \"front\", \"front\", \"front\", \"fuse\", \"gas\", \"gas\", \"gas\", \"gas\", \"gate\", \"gate\", \"gate\", \"gate\", \"gate\", \"get\", \"get\", \"get\", \"going\", \"going\", \"going\", \"going\", \"going\", \"grabbed\", \"grass\", \"grass\", \"grating\", \"grating\", \"grating\", \"grating\", \"grating\", \"grease\", \"ground\", \"ground\", \"ground\", \"ground\", \"ground\", \"hand\", \"hand\", \"hand\", \"hand\", \"harness\", \"heavy\", \"heavy\", \"helping\", \"highway\", \"highway\", \"highway\", \"hit\", \"hit\", \"hit\", \"hit\", \"hit\", \"hole\", \"hole\", \"hole\", \"hole\", \"homeowner\", \"hooking\", \"hose\", \"hose\", \"hose\", \"hose\", \"hurt\", \"hydrant\", \"hydrated\", \"hydraulic\", \"hydraulic\", \"i-35\", \"i-35\", \"id\", \"inadvertently\", \"inclined\", \"incorrect\", \"inspector\", \"instead\", \"instead\", \"insulation\", \"insulation\", \"insulation\", \"insulation\", \"insulation\", \"iron\", \"isolated\", \"joseph\", \"knee\", \"knee\", \"knee\", \"knee\", \"laceration\", \"laceration\", \"ladder\", \"ladder\", \"ladder\", \"ladder\", \"lake\", \"lake\", \"lane\", \"lane\", \"lane\", \"lane\", \"lane\", \"lanyard\", \"leg\", \"leg\", \"leg\", \"leg\", \"level\", \"level\", \"level\", \"level\", \"level\", \"lid\", \"lid\", \"lid\", \"light\", \"light\", \"light\", \"light\", \"light\", \"lightning\", \"limb\", \"limb\", \"limb\", \"limb\", \"line\", \"line\", \"line\", \"line\", \"line\", \"load\", \"load\", \"load\", \"load\", \"load\", \"looking\", \"loto\", \"loto\", \"loto\", \"loto\", \"loto\", \"lower\", \"lower\", \"lower\", \"lower\", \"lowering\", \"lowering\", \"made\", \"made\", \"made\", \"made\", \"made\", \"main\", \"making\", \"making\", \"making\", \"making\", \"mechanic\", \"mechanic\", \"midway\", \"mixer\", \"mobile\", \"module\", \"module\", \"motor\", \"motor\", \"motor\", \"motor\", \"motor\", \"north\", \"north\", \"north\", \"north\", \"north\", \"noticed\", \"noticed\", \"noticed\", \"noticed\", \"noticed\", \"nut\", \"nut\", \"nut\", \"nut\", \"object\", \"object\", \"object\", \"offload\", \"offloading\", \"oge\", \"oge\", \"oge\", \"oge\", \"oge\", \"oil\", \"oil\", \"oil\", \"oil\", \"oil\", \"oncoming\", \"oncoming\", \"one\", \"one\", \"one\", \"one\", \"one\", \"open\", \"open\", \"open\", \"open\", \"open\", \"operator\", \"operator\", \"operator\", \"operator\", \"operator\", \"overhead\", \"overhead\", \"overhead\", \"overhead\", \"paper\", \"pcb\", \"pcb\", \"performing\", \"performing\", \"performing\", \"performing\", \"performing\", \"phase\", \"phase\", \"phase\", \"piece\", \"piece\", \"piece\", \"piece\", \"piece\", \"pipe\", \"pipe\", \"pipe\", \"pipe\", \"pipe\", \"plank\", \"plant\", \"plant\", \"plant\", \"plant\", \"plant\", \"platform\", \"platform\", \"platform\", \"plier\", \"pole\", \"pole\", \"pole\", \"pole\", \"pov\", \"power\", \"power\", \"power\", \"power\", \"power\", \"preheater\", \"prevents\", \"private\", \"private\", \"process\", \"process\", \"process\", \"process\", \"process\", \"pulverizer\", \"pump\", \"pump\", \"pump\", \"pump\", \"pump\", \"quality\", \"quarter\", \"quarter\", \"quickly\", \"rail\", \"rail\", \"ramp\", \"ramp\", \"ran\", \"ran\", \"ran\", \"ran\", \"reader\", \"reader\", \"rear\", \"rear\", \"rear\", \"rear\", \"rear\", \"rebuild\", \"red\", \"red\", \"red\", \"red\", \"red\", \"reel\", \"reel\", \"regulator\", \"releasing\", \"rental\", \"rental\", \"reported\", \"reported\", \"reported\", \"reported\", \"reported\", \"requested\", \"rescue\", \"restriction\", \"retaining\", \"rung\", \"ruptured\", \"said\", \"sample\", \"sample\", \"sample\", \"saver\", \"scaffold\", \"scaffold\", \"scaffold\", \"scaffold\", \"scope\", \"scraper\", \"scraper\", \"se\", \"security\", \"security\", \"security\", \"server\", \"service\", \"service\", \"service\", \"service\", \"service\", \"shaft\", \"sharp\", \"shattered\", \"shelter\", \"shock\", \"siemen\", \"sight\", \"sign\", \"sign\", \"sitting\", \"smoke\", \"smoke\", \"smoke\", \"span\", \"spray\", \"spraying\", \"st\", \"stair\", \"stair\", \"stair\", \"step\", \"step\", \"step\", \"stick\", \"stick\", \"stick\", \"stick\", \"stood\", \"stop\", \"stop\", \"stop\", \"stop\", \"stop\", \"strap\", \"strap\", \"strap\", \"stringing\", \"struck\", \"struck\", \"struck\", \"struck\", \"struck\", \"stub\", \"stud\", \"stud\", \"stud\", \"substation\", \"substation\", \"substation\", \"substation\", \"substation\", \"sweeper\", \"sweeper\", \"switch\", \"switch\", \"switch\", \"switch\", \"switching\", \"switching\", \"switching\", \"switching\", \"switching\", \"switchman\", \"switchman\", \"tail\", \"tank\", \"tank\", \"threading\", \"threading\", \"tightening\", \"tip\", \"toolbox\", \"top\", \"top\", \"top\", \"top\", \"top\", \"torch\", \"tornado\", \"trailer\", \"trailer\", \"trailer\", \"trailer\", \"trailer\", \"train\", \"train\", \"transformer\", \"transformer\", \"transformer\", \"transformer\", \"trash\", \"traveling\", \"traveling\", \"traveling\", \"traveling\", \"traveling\", \"tree\", \"tree\", \"tree\", \"tree\", \"tree\", \"trolley\", \"truck\", \"truck\", \"truck\", \"truck\", \"truck\", \"tryon\", \"turbine\", \"turbine\", \"turbine\", \"turbine\", \"turn\", \"turn\", \"turn\", \"turn\", \"turn\", \"two\", \"two\", \"two\", \"two\", \"two\", \"underground\", \"underground\", \"underground\", \"unplug\", \"used\", \"used\", \"used\", \"utv\", \"valve\", \"valve\", \"valve\", \"valve\", \"valve\", \"vehicle\", \"vehicle\", \"vehicle\", \"vehicle\", \"vehicle\", \"washer\", \"washer\", \"water\", \"water\", \"water\", \"water\", \"water\", \"week\", \"wet\", \"wet\", \"wheel\", \"wheel\", \"wheel\", \"wheel\", \"white\", \"window\", \"window\", \"window\", \"window\", \"wire\", \"wire\", \"wire\", \"wire\", \"wire\", \"within\", \"working\", \"working\", \"working\", \"working\", \"working\", \"wrong\", \"wrong\", \"wrong\", \"yard\", \"yard\", \"yard\", \"yard\", \"yard\", \"zachary\"]}, \"R\": 30, \"lambda.step\": 0.01, \"plot.opts\": {\"xlab\": \"PC1\", \"ylab\": \"PC2\"}, \"topic.order\": [5, 4, 2, 1, 3]};\n",
       "\n",
       "function LDAvis_load_lib(url, callback){\n",
       "  var s = document.createElement('script');\n",
       "  s.src = url;\n",
       "  s.async = true;\n",
       "  s.onreadystatechange = s.onload = callback;\n",
       "  s.onerror = function(){console.warn(\"failed to load library \" + url);};\n",
       "  document.getElementsByTagName(\"head\")[0].appendChild(s);\n",
       "}\n",
       "\n",
       "if(typeof(LDAvis) !== \"undefined\"){\n",
       "   // already loaded: just create the visualization\n",
       "   !function(LDAvis){\n",
       "       new LDAvis(\"#\" + \"ldavis_el159722200722872024340541033\", ldavis_el159722200722872024340541033_data);\n",
       "   }(LDAvis);\n",
       "}else if(typeof define === \"function\" && define.amd){\n",
       "   // require.js is available: use it to load d3/LDAvis\n",
       "   require.config({paths: {d3: \"https://cdnjs.cloudflare.com/ajax/libs/d3/3.5.5/d3.min\"}});\n",
       "   require([\"d3\"], function(d3){\n",
       "      window.d3 = d3;\n",
       "      LDAvis_load_lib(\"https://cdn.rawgit.com/bmabey/pyLDAvis/files/ldavis.v1.0.0.js\", function(){\n",
       "        new LDAvis(\"#\" + \"ldavis_el159722200722872024340541033\", ldavis_el159722200722872024340541033_data);\n",
       "      });\n",
       "    });\n",
       "}else{\n",
       "    // require.js not available: dynamically load d3 & LDAvis\n",
       "    LDAvis_load_lib(\"https://cdnjs.cloudflare.com/ajax/libs/d3/3.5.5/d3.min.js\", function(){\n",
       "         LDAvis_load_lib(\"https://cdn.rawgit.com/bmabey/pyLDAvis/files/ldavis.v1.0.0.js\", function(){\n",
       "                 new LDAvis(\"#\" + \"ldavis_el159722200722872024340541033\", ldavis_el159722200722872024340541033_data);\n",
       "            })\n",
       "         });\n",
       "}\n",
       "</script>"
      ],
      "text/plain": [
       "<IPython.core.display.HTML object>"
      ]
     },
     "execution_count": 38,
     "metadata": {},
     "output_type": "execute_result"
    }
   ],
   "source": [
    "import pyLDAvis\n",
    "import pyLDAvis.gensim \n",
    "# Visualize the topics\n",
    "pd.options.display.max_colwidth = 5000\n",
    "pyLDAvis.enable_notebook()\n",
    "vis = pyLDAvis.gensim.prepare(lda_model_mine, bow_corpus, dictionary)\n",
    "pyLDAvis.display(vis)"
   ]
  },
  {
   "cell_type": "markdown",
   "metadata": {
    "colab_type": "text",
    "id": "MWTgua--9OWY"
   },
   "source": [
    "# Apply this model on test data set (Hazards or potential safety incidents recorded by Safety team) to see which hazard has highest similarity to a past occurred safety incident. Action can be taken to avoid the recurrence."
   ]
  },
  {
   "cell_type": "code",
   "execution_count": 38,
   "metadata": {
    "colab": {
     "base_uri": "https://localhost:8080/",
     "height": 717
    },
    "colab_type": "code",
    "id": "u-INvlaPBweB",
    "outputId": "6e4633e2-77a5-4a5f-81c7-690eb6278c73"
   },
   "outputs": [
    {
     "data": {
      "text/html": [
       "<div>\n",
       "<style scoped>\n",
       "    .dataframe tbody tr th:only-of-type {\n",
       "        vertical-align: middle;\n",
       "    }\n",
       "\n",
       "    .dataframe tbody tr th {\n",
       "        vertical-align: top;\n",
       "    }\n",
       "\n",
       "    .dataframe thead th {\n",
       "        text-align: right;\n",
       "    }\n",
       "</style>\n",
       "<table border=\"1\" class=\"dataframe\">\n",
       "  <thead>\n",
       "    <tr style=\"text-align: right;\">\n",
       "      <th></th>\n",
       "      <th>Record No.</th>\n",
       "      <th>Date Created</th>\n",
       "      <th>Created By</th>\n",
       "      <th>Date Of Observation</th>\n",
       "      <th>Business Unit</th>\n",
       "      <th>Location</th>\n",
       "      <th>Department</th>\n",
       "      <th>Member Observation</th>\n",
       "      <th>Contractors</th>\n",
       "      <th>Contractor Company Name</th>\n",
       "      <th>Plant Contact/Project Manager</th>\n",
       "      <th>Description of Work</th>\n",
       "      <th>SWP/Tailboard Completed?</th>\n",
       "      <th>Adequate Planning/Preparation</th>\n",
       "      <th>Chemical Use</th>\n",
       "      <th>Corrective Action</th>\n",
       "      <th>Engaged in Task</th>\n",
       "      <th>Fall from Heights</th>\n",
       "      <th>Following Policies/Procedures</th>\n",
       "      <th>Housekeeping</th>\n",
       "      <th>Identifying Hazards</th>\n",
       "      <th>Line of Fire</th>\n",
       "      <th>Manual Lifting</th>\n",
       "      <th>Proper Tool for the Job</th>\n",
       "      <th>Proper Operation</th>\n",
       "      <th>Proper PPE</th>\n",
       "      <th>Comments (PPE)</th>\n",
       "      <th>Risks adequately mitigated</th>\n",
       "      <th>Self/Team induced productivity pressures</th>\n",
       "      <th>Slips Trips and Falls</th>\n",
       "      <th>Struck Against/By</th>\n",
       "      <th>Tool Condition</th>\n",
       "      <th>Explain At Risk Items marked above</th>\n",
       "      <th>Did you have a conversation with the member(s) observed?</th>\n",
       "      <th>Observer</th>\n",
       "      <th>Second Observer</th>\n",
       "      <th>Safety Professional</th>\n",
       "      <th>Mobile?</th>\n",
       "    </tr>\n",
       "  </thead>\n",
       "  <tbody>\n",
       "    <tr>\n",
       "      <th>0</th>\n",
       "      <td>1144</td>\n",
       "      <td>2020-01-09</td>\n",
       "      <td>Tanner Brady</td>\n",
       "      <td>2020-01-09 10:13:10</td>\n",
       "      <td>Power Supply</td>\n",
       "      <td>McClain Power Plant</td>\n",
       "      <td>NaN</td>\n",
       "      <td>0.0</td>\n",
       "      <td>1.0</td>\n",
       "      <td>Northwest Crane</td>\n",
       "      <td>NaN</td>\n",
       "      <td>Lifting pump and moving over to staging area.</td>\n",
       "      <td>1.0</td>\n",
       "      <td>Safe</td>\n",
       "      <td>NaN</td>\n",
       "      <td>0.0</td>\n",
       "      <td>Safe</td>\n",
       "      <td>NaN</td>\n",
       "      <td>Safe</td>\n",
       "      <td>Safe</td>\n",
       "      <td>Safe</td>\n",
       "      <td>Safe</td>\n",
       "      <td>Safe</td>\n",
       "      <td>Safe</td>\n",
       "      <td>Safe</td>\n",
       "      <td>1.0</td>\n",
       "      <td>NaN</td>\n",
       "      <td>Safe</td>\n",
       "      <td>NaN</td>\n",
       "      <td>Safe</td>\n",
       "      <td>Safe</td>\n",
       "      <td>Safe</td>\n",
       "      <td>NaN</td>\n",
       "      <td>1.0</td>\n",
       "      <td>Tanner Brady</td>\n",
       "      <td>NaN</td>\n",
       "      <td>NaN</td>\n",
       "      <td>True</td>\n",
       "    </tr>\n",
       "    <tr>\n",
       "      <th>1</th>\n",
       "      <td>1159</td>\n",
       "      <td>2020-01-13</td>\n",
       "      <td>Guillermo Sarmiento</td>\n",
       "      <td>2020-01-12 10:45:00</td>\n",
       "      <td>Power Supply</td>\n",
       "      <td>Horseshoe Lake Power Plant</td>\n",
       "      <td>Other</td>\n",
       "      <td>0.0</td>\n",
       "      <td>0.0</td>\n",
       "      <td>NaN</td>\n",
       "      <td>NaN</td>\n",
       "      <td>360 on vehicle</td>\n",
       "      <td>0.0</td>\n",
       "      <td>Safe</td>\n",
       "      <td>NaN</td>\n",
       "      <td>1.0</td>\n",
       "      <td>Safe</td>\n",
       "      <td>NaN</td>\n",
       "      <td>Safe</td>\n",
       "      <td>NaN</td>\n",
       "      <td>Safe</td>\n",
       "      <td>Safe</td>\n",
       "      <td>NaN</td>\n",
       "      <td>NaN</td>\n",
       "      <td>At Risk</td>\n",
       "      <td>1.0</td>\n",
       "      <td>NaN</td>\n",
       "      <td>Safe</td>\n",
       "      <td>NaN</td>\n",
       "      <td>NaN</td>\n",
       "      <td>NaN</td>\n",
       "      <td>NaN</td>\n",
       "      <td>While performing 360 inspection on vehicle, fr...</td>\n",
       "      <td>1.0</td>\n",
       "      <td>Guillermo Sarmiento</td>\n",
       "      <td>NaN</td>\n",
       "      <td>Guillermo Sarmiento</td>\n",
       "      <td>True</td>\n",
       "    </tr>\n",
       "    <tr>\n",
       "      <th>2</th>\n",
       "      <td>1160</td>\n",
       "      <td>2020-01-13</td>\n",
       "      <td>Brent Perdue</td>\n",
       "      <td>2020-01-13 10:30:00</td>\n",
       "      <td>Power Delivery</td>\n",
       "      <td>Metro Service Center</td>\n",
       "      <td>PD Operations Services</td>\n",
       "      <td>1.0</td>\n",
       "      <td>0.0</td>\n",
       "      <td>NaN</td>\n",
       "      <td>NaN</td>\n",
       "      <td>Trouble shooting a capacitor stations communic...</td>\n",
       "      <td>0.0</td>\n",
       "      <td>Safe</td>\n",
       "      <td>Safe</td>\n",
       "      <td>1.0</td>\n",
       "      <td>Safe</td>\n",
       "      <td>Safe</td>\n",
       "      <td>Safe</td>\n",
       "      <td>Safe</td>\n",
       "      <td>Safe</td>\n",
       "      <td>Safe</td>\n",
       "      <td>Safe</td>\n",
       "      <td>Safe</td>\n",
       "      <td>Safe</td>\n",
       "      <td>0.0</td>\n",
       "      <td>Member has to wear reading glasses outside of ...</td>\n",
       "      <td>Safe</td>\n",
       "      <td>Safe</td>\n",
       "      <td>Safe</td>\n",
       "      <td>Safe</td>\n",
       "      <td>Safe</td>\n",
       "      <td>NaN</td>\n",
       "      <td>1.0</td>\n",
       "      <td>Brent Perdue</td>\n",
       "      <td>NaN</td>\n",
       "      <td>Brent Perdue</td>\n",
       "      <td>False</td>\n",
       "    </tr>\n",
       "    <tr>\n",
       "      <th>3</th>\n",
       "      <td>1162</td>\n",
       "      <td>2020-01-14</td>\n",
       "      <td>Guillermo Sarmiento</td>\n",
       "      <td>2020-01-14 10:43:31</td>\n",
       "      <td>Power Supply</td>\n",
       "      <td>Frontier Power Plant</td>\n",
       "      <td>Other</td>\n",
       "      <td>0.0</td>\n",
       "      <td>0.0</td>\n",
       "      <td>NaN</td>\n",
       "      <td>NaN</td>\n",
       "      <td>Site walk of plant</td>\n",
       "      <td>0.0</td>\n",
       "      <td>Safe</td>\n",
       "      <td>Safe</td>\n",
       "      <td>1.0</td>\n",
       "      <td>Safe</td>\n",
       "      <td>Safe</td>\n",
       "      <td>Safe</td>\n",
       "      <td>Safe</td>\n",
       "      <td>At Risk</td>\n",
       "      <td>Safe</td>\n",
       "      <td>Safe</td>\n",
       "      <td>At Risk</td>\n",
       "      <td>NaN</td>\n",
       "      <td>1.0</td>\n",
       "      <td>NaN</td>\n",
       "      <td>Safe</td>\n",
       "      <td>Safe</td>\n",
       "      <td>Safe</td>\n",
       "      <td>Safe</td>\n",
       "      <td>At Risk</td>\n",
       "      <td>Replace old rope with new rope.  Or replace w ...</td>\n",
       "      <td>1.0</td>\n",
       "      <td>Guillermo Sarmiento</td>\n",
       "      <td>Tanner Brady</td>\n",
       "      <td>Tanner Brady</td>\n",
       "      <td>True</td>\n",
       "    </tr>\n",
       "    <tr>\n",
       "      <th>4</th>\n",
       "      <td>1172</td>\n",
       "      <td>2020-01-14</td>\n",
       "      <td>Cody Magby</td>\n",
       "      <td>2020-01-14 15:43:10</td>\n",
       "      <td>Power Delivery</td>\n",
       "      <td>South District Service Center</td>\n",
       "      <td>Construction Services</td>\n",
       "      <td>1.0</td>\n",
       "      <td>0.0</td>\n",
       "      <td>NaN</td>\n",
       "      <td>NaN</td>\n",
       "      <td>7 pole extension with 3 pot banks</td>\n",
       "      <td>1.0</td>\n",
       "      <td>Safe</td>\n",
       "      <td>NaN</td>\n",
       "      <td>0.0</td>\n",
       "      <td>Safe</td>\n",
       "      <td>Safe</td>\n",
       "      <td>Safe</td>\n",
       "      <td>Safe</td>\n",
       "      <td>Safe</td>\n",
       "      <td>Safe</td>\n",
       "      <td>Safe</td>\n",
       "      <td>Safe</td>\n",
       "      <td>Safe</td>\n",
       "      <td>1.0</td>\n",
       "      <td>ppe looked great, reflective vest in use.</td>\n",
       "      <td>Safe</td>\n",
       "      <td>Safe</td>\n",
       "      <td>Safe</td>\n",
       "      <td>Safe</td>\n",
       "      <td>Safe</td>\n",
       "      <td>NaN</td>\n",
       "      <td>1.0</td>\n",
       "      <td>Cody Magby</td>\n",
       "      <td>Gary Parks</td>\n",
       "      <td>Cody Magby</td>\n",
       "      <td>True</td>\n",
       "    </tr>\n",
       "  </tbody>\n",
       "</table>\n",
       "</div>"
      ],
      "text/plain": [
       "   Record No. Date Created  ...  Safety Professional Mobile?\n",
       "0        1144   2020-01-09  ...                  NaN    True\n",
       "1        1159   2020-01-13  ...  Guillermo Sarmiento    True\n",
       "2        1160   2020-01-13  ...         Brent Perdue   False\n",
       "3        1162   2020-01-14  ...         Tanner Brady    True\n",
       "4        1172   2020-01-14  ...           Cody Magby    True\n",
       "\n",
       "[5 rows x 38 columns]"
      ]
     },
     "execution_count": 38,
     "metadata": {
      "tags": []
     },
     "output_type": "execute_result"
    }
   ],
   "source": [
    "#os.chdir(r'C:\\\\Users\\\\govindsg\\\\Google Drive\\\\Spring 2020 OGE\\\\OGE\\\\Lacerations text analytics\\\\2nd phase\\\\')\n",
    "inc = pd.read_excel('/content/Potential_Incidents.xlsx',skiprows=2,skipfooter=3)\n",
    "inc.head()"
   ]
  },
  {
   "cell_type": "markdown",
   "metadata": {
    "colab_type": "text",
    "id": "CCw0SksA-jal"
   },
   "source": [
    "#Cleaning Text data just like the training dataset mentioned earlier -\n",
    "#Removing Punctuation, stop words, irrelevant words, numerics, correcting spellings, stemming to root words"
   ]
  },
  {
   "cell_type": "code",
   "execution_count": 0,
   "metadata": {
    "colab": {},
    "colab_type": "code",
    "id": "nnN1AsiRDY-P"
   },
   "outputs": [],
   "source": [
    "inc['Description of Work'] = inc['Description of Work'].apply(lambda x : x.lower()).replace('[^\\w\\s]','')"
   ]
  },
  {
   "cell_type": "code",
   "execution_count": 0,
   "metadata": {
    "colab": {},
    "colab_type": "code",
    "id": "bCyXbDNiDpDF"
   },
   "outputs": [],
   "source": [
    "from nltk.corpus import stopwords\n",
    "stop = stopwords.words('english')"
   ]
  },
  {
   "cell_type": "code",
   "execution_count": 0,
   "metadata": {
    "colab": {},
    "colab_type": "code",
    "id": "qb2aKR6kDstF"
   },
   "outputs": [],
   "source": [
    "inc['Description of Work'] = inc['Description of Work'].apply(lambda x : \" \".join(x for x in str(x).split(' ') if x not in stop))"
   ]
  },
  {
   "cell_type": "code",
   "execution_count": 0,
   "metadata": {
    "colab": {},
    "colab_type": "code",
    "id": "jq849ImhD2vw"
   },
   "outputs": [],
   "source": [
    "remove = ['ug','member','pts.','kva','three','equipment']\n",
    "inc['Description of Work'] = inc['Description of Work'].apply(lambda x : ' '.join(x for x in str(x).split(' ') if not x.isdigit()))\n",
    "inc['Description of Work'] = inc['Description of Work'].apply(lambda x : ' '.join(x for x in str(x).split(' ') if x not in remove))"
   ]
  },
  {
   "cell_type": "code",
   "execution_count": 0,
   "metadata": {
    "colab": {},
    "colab_type": "code",
    "id": "_KeYfDLSEGKp"
   },
   "outputs": [],
   "source": [
    "from textblob import TextBlob"
   ]
  },
  {
   "cell_type": "code",
   "execution_count": 0,
   "metadata": {
    "colab": {},
    "colab_type": "code",
    "id": "2carYWhREIAg"
   },
   "outputs": [],
   "source": [
    "inc['Description of Work'].apply(lambda x: str(TextBlob(x).correct()))"
   ]
  },
  {
   "cell_type": "code",
   "execution_count": 45,
   "metadata": {
    "colab": {
     "base_uri": "https://localhost:8080/",
     "height": 119
    },
    "colab_type": "code",
    "id": "2ek60yELFDDd",
    "outputId": "807489bc-75f2-470f-ddac-6aabffdec363"
   },
   "outputs": [
    {
     "data": {
      "text/plain": [
       "0                    lifting pump moving staging area.\n",
       "1                                              vehicle\n",
       "2    trouble shooting capacitor station communicati...\n",
       "3                                      site walk plant\n",
       "4                              pole extension pot bank\n",
       "Name: Description of Work, dtype: object"
      ]
     },
     "execution_count": 45,
     "metadata": {
      "tags": []
     },
     "output_type": "execute_result"
    }
   ],
   "source": [
    "from textblob import Word\n",
    "inc['Description of Work'] = inc['Description of Work'].apply(lambda x: \" \".join([Word(word).lemmatize() for word in x.split()]))\n",
    "inc['Description of Work'].head()"
   ]
  },
  {
   "cell_type": "markdown",
   "metadata": {
    "colab_type": "text",
    "id": "FVtquQ9SEYAa"
   },
   "source": [
    "# **Building N-grams** : An N-gram is an N-token sequence of words\n",
    "\n",
    "# Idea is to extract group of words together, like verb followed by a noun in this scenario. This could tell us what are the common situations in which a potential safety incident is being recorded. For example, a safety incident was recorded when installing a led lightbulb. We would not have known the context if we looked at only high frequency 'single' words. Example : 'Installing' would not help us much even if its a high frequency word with out the word that's followed i.e. light bulb.\n",
    "\n",
    "# Showing only top 10 records here in the interest of space"
   ]
  },
  {
   "cell_type": "code",
   "execution_count": 62,
   "metadata": {
    "colab": {
     "base_uri": "https://localhost:8080/",
     "height": 187
    },
    "colab_type": "code",
    "id": "wlCO2EBODNLF",
    "outputId": "8969d05d-b875-475d-afcf-6483959a3e52"
   },
   "outputs": [
    {
     "name": "stdout",
     "output_type": "stream",
     "text": [
      "lifting\n",
      "pump\n",
      "moving\n",
      "staging\n",
      "area.\n",
      "vehicle\n",
      "trouble\n",
      "shooting\n",
      "capacitor\n",
      "station\n"
     ]
    }
   ],
   "source": [
    "combined_text = inc['Description of Work'].str.cat(sep=' ')\n",
    "split_words = combined_text.split(' ')\n",
    "for word in split_words[:10]:\n",
    "    print(word)"
   ]
  },
  {
   "cell_type": "code",
   "execution_count": 0,
   "metadata": {
    "colab": {},
    "colab_type": "code",
    "id": "37HjZw61DXKt"
   },
   "outputs": [],
   "source": [
    "from nltk.collocations import BigramCollocationFinder\n",
    "from nltk.metrics import BigramAssocMeasures\n",
    "from nltk.corpus import webtext"
   ]
  },
  {
   "cell_type": "code",
   "execution_count": 0,
   "metadata": {
    "colab": {},
    "colab_type": "code",
    "id": "NvRkDUdCDbka"
   },
   "outputs": [],
   "source": [
    "finder = BigramCollocationFinder.from_words(split_words)"
   ]
  },
  {
   "cell_type": "markdown",
   "metadata": {
    "colab_type": "text",
    "id": "uBweKvV8DfiA"
   },
   "source": [
    "# Top 10 Bigrams sorted based on likelihood ratio"
   ]
  },
  {
   "cell_type": "code",
   "execution_count": 60,
   "metadata": {
    "colab": {
     "base_uri": "https://localhost:8080/",
     "height": 187
    },
    "colab_type": "code",
    "id": "vLWUW-kiDg9q",
    "outputId": "76d34caa-fb7e-4a27-d76f-a2dfcb5c7992"
   },
   "outputs": [
    {
     "data": {
      "text/plain": [
       "[('pot', 'bank'),\n",
       " ('single', 'phase'),\n",
       " ('road', 'widening'),\n",
       " ('trouble', 'shooting'),\n",
       " ('turbine', 'deck'),\n",
       " ('led', 'light'),\n",
       " ('dead', 'end'),\n",
       " ('slack', 'span'),\n",
       " ('control', 'room'),\n",
       " ('dust', 'collector')]"
      ]
     },
     "execution_count": 60,
     "metadata": {
      "tags": []
     },
     "output_type": "execute_result"
    }
   ],
   "source": [
    "finder.nbest(BigramAssocMeasures.likelihood_ratio,10)"
   ]
  },
  {
   "cell_type": "markdown",
   "metadata": {
    "colab_type": "text",
    "id": "LnubhMQJEBEf"
   },
   "source": [
    "# Top 10 Trigrams sorted based on likelihood ratio"
   ]
  },
  {
   "cell_type": "code",
   "execution_count": 61,
   "metadata": {
    "colab": {
     "base_uri": "https://localhost:8080/",
     "height": 187
    },
    "colab_type": "code",
    "id": "Fgi0QDfXDrek",
    "outputId": "710429b3-0674-4248-c008-1e048c2c6e1b"
   },
   "outputs": [
    {
     "data": {
      "text/plain": [
       "[('pot', 'bank', 'de'),\n",
       " ('build', 'pot', 'bank'),\n",
       " ('building', 'pot', 'bank'),\n",
       " ('pot', 'bank', 'accepting'),\n",
       " ('pot', 'bank', 'eai'),\n",
       " ('pot', 'bank', 'inch'),\n",
       " ('replacing', 'pot', 'bank'),\n",
       " ('pole', 'pot', 'bank'),\n",
       " ('pot', 'bank', 'service'),\n",
       " ('pot', 'bank', 'transporting')]"
      ]
     },
     "execution_count": 61,
     "metadata": {
      "tags": []
     },
     "output_type": "execute_result"
    }
   ],
   "source": [
    "from nltk.collocations import TrigramCollocationFinder\n",
    "from nltk.metrics import TrigramAssocMeasures\n",
    "from nltk.corpus import webtext\n",
    "Tri_finder = TrigramCollocationFinder.from_words(split_words)\n",
    "Tri_finder.nbest(TrigramAssocMeasures.likelihood_ratio,10)"
   ]
  },
  {
   "cell_type": "markdown",
   "metadata": {
    "colab_type": "text",
    "id": "rnLEVIgB-u7Q"
   },
   "source": [
    "# Convert to Tokens"
   ]
  },
  {
   "cell_type": "code",
   "execution_count": 46,
   "metadata": {
    "colab": {
     "base_uri": "https://localhost:8080/",
     "height": 119
    },
    "colab_type": "code",
    "id": "PWtc5L8PGXAQ",
    "outputId": "17be8e8c-aadf-4fb0-d3b3-48e61f1c1786"
   },
   "outputs": [
    {
     "data": {
      "text/plain": [
       "0               [lifting, pump, moving, staging, area]\n",
       "1                                            [vehicle]\n",
       "2    [trouble, shooting, capacitor, station, commun...\n",
       "3                                  [site, walk, plant]\n",
       "4                         [pole, extension, pot, bank]\n",
       "Name: Description of Work, dtype: object"
      ]
     },
     "execution_count": 46,
     "metadata": {
      "tags": []
     },
     "output_type": "execute_result"
    }
   ],
   "source": [
    "tokens_testdata = inc['Description of Work'] .apply(lambda x : TextBlob(x).words)\n",
    "tokens_testdata.head()"
   ]
  },
  {
   "cell_type": "markdown",
   "metadata": {
    "colab_type": "text",
    "id": "pgNaSJLi-zkz"
   },
   "source": [
    "#Bag of Words for test data"
   ]
  },
  {
   "cell_type": "code",
   "execution_count": 47,
   "metadata": {
    "colab": {
     "base_uri": "https://localhost:8080/",
     "height": 34
    },
    "colab_type": "code",
    "id": "ViC8qXlVGjbJ",
    "outputId": "915cb455-7744-4654-c101-95352a16d7a2"
   },
   "outputs": [
    {
     "data": {
      "text/plain": [
       "[(0, 1), (1, 1), (2, 1), (3, 1), (4, 1)]"
      ]
     },
     "execution_count": 47,
     "metadata": {
      "tags": []
     },
     "output_type": "execute_result"
    }
   ],
   "source": [
    "dictionary_test = gensim.corpora.Dictionary(tokens_testdata)\n",
    "bow_corpus_test = [dictionary_test.doc2bow(doc) for doc in tokens_testdata]\n",
    "bow_corpus_test[0]"
   ]
  },
  {
   "cell_type": "markdown",
   "metadata": {
    "colab_type": "text",
    "id": "8dAWdilBADQm"
   },
   "source": [
    "# Apply LDA model created on first observation from test data set. Check for Topics create and respective coherency scores. "
   ]
  },
  {
   "cell_type": "code",
   "execution_count": 48,
   "metadata": {
    "colab": {
     "base_uri": "https://localhost:8080/",
     "height": 102
    },
    "colab_type": "code",
    "id": "thZovBK-V8N1",
    "outputId": "6f615451-1c2d-4d4b-c37a-c7650c2b808c"
   },
   "outputs": [
    {
     "name": "stdout",
     "output_type": "stream",
     "text": [
      "Score: 0.5072685480117798\t Topic: 0.032*\"vehicle\" + 0.012*\"struck\" + 0.010*\"damage\" + 0.006*\"fell\" + 0.006*\"light\"\n",
      "Score: 0.371041864156723\t Topic: 0.009*\"line\" + 0.007*\"load\" + 0.006*\"phase\" + 0.006*\"cable\" + 0.006*\"hit\"\n",
      "Score: 0.040611542761325836\t Topic: 0.010*\"vehicle\" + 0.008*\"truck\" + 0.008*\"driver\" + 0.007*\"fire\" + 0.007*\"fell\"\n",
      "Score: 0.04056527465581894\t Topic: 0.019*\"truck\" + 0.011*\"tree\" + 0.010*\"vehicle\" + 0.006*\"door\" + 0.005*\"found\"\n",
      "Score: 0.04051275551319122\t Topic: 0.008*\"fire\" + 0.006*\"vehicle\" + 0.005*\"operator\" + 0.005*\"incident\" + 0.005*\"control\"\n"
     ]
    }
   ],
   "source": [
    "bow_vector = dictionary.doc2bow(tokens_testdata[0])\n",
    "for index, score in sorted(lda_model_mine[bow_vector], key=lambda tup: -1*tup[1]):\n",
    "    print(\"Score: {}\\t Topic: {}\".format(score, lda_model_mine.print_topic(index, 5)))"
   ]
  },
  {
   "cell_type": "markdown",
   "metadata": {
    "colab_type": "text",
    "id": "1QmZiPQLAcQr"
   },
   "source": [
    "# Apply LDA model on all observations from Test data. For all observations, create a dictionary of actual observation number and respective coherency scores"
   ]
  },
  {
   "cell_type": "code",
   "execution_count": 0,
   "metadata": {
    "colab": {},
    "colab_type": "code",
    "id": "NXzPPxjmG2Hn"
   },
   "outputs": [],
   "source": [
    "bow_vector = dictionary.doc2bow(tokens_testdata[0])\n",
    "rownumberAndScore = {}\n",
    "for i in bow_corpus_test:\n",
    " for index, score in sorted(lda_model_mine[i], key=lambda tup: -1*tup[1]):\n",
    "    print(\"Score: {}\\t Topic: {}\".format(score, lda_model_mine.print_topic(index, 5)))\n",
    "    #print(\"rowNo: {}\\t Score: {}\".format(bow_corpus_test.index(i), score))\n",
    "    rownumberAndScore.update( {bow_corpus_test.index(i) : score} )"
   ]
  },
  {
   "cell_type": "code",
   "execution_count": 0,
   "metadata": {
    "colab": {},
    "colab_type": "code",
    "id": "M8twoTi6IMTo"
   },
   "outputs": [],
   "source": [
    "rownumberAndScore"
   ]
  },
  {
   "cell_type": "markdown",
   "metadata": {
    "colab_type": "text",
    "id": "c7d9e4-cBI2h"
   },
   "source": [
    "# Get the observation number with maximum coherency score. The idea is to fetch the observation from test data which has maximum similarity to the topics extracted from training data"
   ]
  },
  {
   "cell_type": "code",
   "execution_count": 0,
   "metadata": {
    "colab": {},
    "colab_type": "code",
    "id": "wV-gx4A6W95_"
   },
   "outputs": [],
   "source": [
    "max(rownumberAndScore, key=rownumberAndScore.get)"
   ]
  },
  {
   "cell_type": "code",
   "execution_count": 0,
   "metadata": {
    "colab": {},
    "colab_type": "code",
    "id": "SWHbslFbXP1Q"
   },
   "outputs": [],
   "source": [
    "236/5   # Each observation has 5 rows (topics) in this dictionary. Hence dividing by 5 to get observation no from actual test data set"
   ]
  },
  {
   "cell_type": "code",
   "execution_count": 52,
   "metadata": {
    "colab": {
     "base_uri": "https://localhost:8080/",
     "height": 34
    },
    "colab_type": "code",
    "id": "hPLSmcvuXT2a",
    "outputId": "49a9ba8a-4b8f-4833-fdff-8051bc064a90"
   },
   "outputs": [
    {
     "data": {
      "text/plain": [
       "'contractor sucking manhole'"
      ]
     },
     "execution_count": 52,
     "metadata": {
      "tags": []
     },
     "output_type": "execute_result"
    }
   ],
   "source": [
    "inc.iloc[47]['Description of Work']"
   ]
  },
  {
   "cell_type": "markdown",
   "metadata": {
    "colab_type": "text",
    "id": "HuNGl8GbBwfO"
   },
   "source": [
    "# This analysis helps realize areas which are seeing more safety incidents, thereby calling action to take necessary precautions and avoid future accidents."
   ]
  }
 ],
 "metadata": {
  "accelerator": "GPU",
  "colab": {
   "collapsed_sections": [],
   "machine_shape": "hm",
   "name": "PredictNextSafetyInc_colab_final1.ipynb",
   "provenance": [],
   "toc_visible": true
  },
  "kernelspec": {
   "display_name": "Python 3",
   "language": "python",
   "name": "python3"
  },
  "language_info": {
   "codemirror_mode": {
    "name": "ipython",
    "version": 3
   },
   "file_extension": ".py",
   "mimetype": "text/x-python",
   "name": "python",
   "nbconvert_exporter": "python",
   "pygments_lexer": "ipython3",
   "version": "3.7.3"
  }
 },
 "nbformat": 4,
 "nbformat_minor": 1
}
