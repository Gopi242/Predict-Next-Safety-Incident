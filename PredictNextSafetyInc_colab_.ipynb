{
  "nbformat": 4,
  "nbformat_minor": 0,
  "metadata": {
    "accelerator": "GPU",
    "colab": {
      "name": "PredictNextSafetyInc_colab_final1.ipynb",
      "provenance": [],
      "collapsed_sections": [],
      "toc_visible": true,
      "machine_shape": "hm",
      "include_colab_link": true
    },
    "kernelspec": {
      "display_name": "Python 3",
      "language": "python",
      "name": "python3"
    },
    "language_info": {
      "codemirror_mode": {
        "name": "ipython",
        "version": 3
      },
      "file_extension": ".py",
      "mimetype": "text/x-python",
      "name": "python",
      "nbconvert_exporter": "python",
      "pygments_lexer": "ipython3",
      "version": "3.7.3"
    }
  },
  "cells": [
    {
      "cell_type": "markdown",
      "metadata": {
        "id": "view-in-github",
        "colab_type": "text"
      },
      "source": [
        "<a href=\"https://colab.research.google.com/github/Gopi242/Predict-Next-Safety-Incident/blob/master/PredictNextSafetyInc_colab_.ipynb\" target=\"_parent\"><img src=\"https://colab.research.google.com/assets/colab-badge.svg\" alt=\"Open In Colab\"/></a>"
      ]
    },
    {
      "cell_type": "code",
      "metadata": {
        "colab_type": "code",
        "id": "Y52MyP1fQZQd",
        "colab": {}
      },
      "source": [
        "import pandas as pd\n",
        "import numpy as np\n",
        "import os"
      ],
      "execution_count": 0,
      "outputs": []
    },
    {
      "cell_type": "markdown",
      "metadata": {
        "id": "KJCn9Z4fxjhH",
        "colab_type": "text"
      },
      "source": [
        "# Increase RAM size in Google Colab by creating an infinite loop"
      ]
    },
    {
      "cell_type": "code",
      "metadata": {
        "colab_type": "code",
        "id": "M56phoDSQe6f",
        "colab": {}
      },
      "source": [
        "# a = []\n",
        "# while(1):\n",
        "#     a.append('1')"
      ],
      "execution_count": 0,
      "outputs": []
    },
    {
      "cell_type": "markdown",
      "metadata": {
        "id": "jL8Qf2TGxjhK",
        "colab_type": "text"
      },
      "source": [
        "# Read Past Safety incidents dataset"
      ]
    },
    {
      "cell_type": "code",
      "metadata": {
        "colab_type": "code",
        "id": "D2sMDuBbQZQh",
        "outputId": "3766e2c7-db7b-434b-b9aa-770a6512f8bf",
        "colab": {
          "base_uri": "https://localhost:8080/",
          "height": 848
        }
      },
      "source": [
        "#os.chdir(r'C:\\\\Users\\\\govindsg\\\\Google Drive\\\\Spring 2020 OGE\\\\OGE\\\\QoM2 Predict next safety incident')\n",
        "pastInc = pd.read_excel('/content/IncidentManagementData_OGESafetyDataIncidentsCreatedinLastMonth_2020-03-01-02-02-57.xlsx',skiprows=2,skipfooter=3)\n",
        "pastInc.head()"
      ],
      "execution_count": 4,
      "outputs": [
        {
          "output_type": "execute_result",
          "data": {
            "text/html": [
              "<div>\n",
              "<style scoped>\n",
              "    .dataframe tbody tr th:only-of-type {\n",
              "        vertical-align: middle;\n",
              "    }\n",
              "\n",
              "    .dataframe tbody tr th {\n",
              "        vertical-align: top;\n",
              "    }\n",
              "\n",
              "    .dataframe thead th {\n",
              "        text-align: right;\n",
              "    }\n",
              "</style>\n",
              "<table border=\"1\" class=\"dataframe\">\n",
              "  <thead>\n",
              "    <tr style=\"text-align: right;\">\n",
              "      <th></th>\n",
              "      <th>Incident No.</th>\n",
              "      <th>Location</th>\n",
              "      <th>Date of Occurrence</th>\n",
              "      <th>Incident Description</th>\n",
              "      <th>Incident Level</th>\n",
              "      <th>Possible Serious Injury / Fatality</th>\n",
              "      <th>Near Miss?</th>\n",
              "      <th>Incident Type</th>\n",
              "      <th>Approving VP/Director</th>\n",
              "      <th>Assign for Investigation Assigned By</th>\n",
              "      <th>Assign for Investigation Comment</th>\n",
              "      <th>Assign for Investigation Date Assigned</th>\n",
              "      <th>Business Unit</th>\n",
              "      <th>Created By</th>\n",
              "      <th>Date Closed</th>\n",
              "      <th>Date Created</th>\n",
              "      <th>Date First Report Sent</th>\n",
              "      <th>Date Investigated</th>\n",
              "      <th>Date Investigation Due</th>\n",
              "      <th>Date Reported</th>\n",
              "      <th>Date Reviewed</th>\n",
              "      <th>Date Safety Mgr Reviewed</th>\n",
              "      <th>Date Safety Professional Reviewed</th>\n",
              "      <th>Describe Location</th>\n",
              "      <th>EMS Called</th>\n",
              "      <th>EMS Arrived</th>\n",
              "      <th>Final Approval Approved By</th>\n",
              "      <th>Final Approval Comment</th>\n",
              "      <th>Functional Area</th>\n",
              "      <th>Immediate Corrective Action Taken</th>\n",
              "      <th>Incident Level.1</th>\n",
              "      <th>Incident Type.1</th>\n",
              "      <th>Incident Type Clearance LOTO</th>\n",
              "      <th>Incident Type Contractor</th>\n",
              "      <th>Incident Type Member Injury</th>\n",
              "      <th>Incident Type Property Damage</th>\n",
              "      <th>Incident Type Switching</th>\n",
              "      <th>Incident Type System Operation</th>\n",
              "      <th>Incident Type Vehicle</th>\n",
              "      <th>Investigated By</th>\n",
              "      <th>...</th>\n",
              "      <th>Injury - Position (Hidden)</th>\n",
              "      <th>Injury - Primary Body Part Injured</th>\n",
              "      <th>Injury - Select 'Injury' or choose Illness Type (M)</th>\n",
              "      <th>Injury - Side of Body</th>\n",
              "      <th>Injury - Southeast Electric Exchange (SEE)</th>\n",
              "      <th>Injury - Supervisor</th>\n",
              "      <th>Injury - Team$hare</th>\n",
              "      <th>Injury - Team$hare Year</th>\n",
              "      <th>Injury - Time Began Work (Text)</th>\n",
              "      <th>Injury - Time on job</th>\n",
              "      <th>Injury - Treatment given away from worksite?</th>\n",
              "      <th>Injury - Was member hospitalized overnight as an in patient?</th>\n",
              "      <th>Injury - Was member treated in an emergency room?</th>\n",
              "      <th>Injury - What object or substance directly harmed the member?</th>\n",
              "      <th>Injury - What was the member doing just before the incident occurred?</th>\n",
              "      <th>Prop Dmg - Description of Damage</th>\n",
              "      <th>Prop Dmg - Estimated Cost</th>\n",
              "      <th>Prop Dmg - Member Name (Hidden)</th>\n",
              "      <th>Prop Dmg - Nature of Property Damage</th>\n",
              "      <th>Prop Dmg - Person(s) Involved</th>\n",
              "      <th>Vehicle - Vehicle/Equipment Number</th>\n",
              "      <th>Vehicle - Chargeable</th>\n",
              "      <th>Vehicle - Citation Issued</th>\n",
              "      <th>Vehicle - City</th>\n",
              "      <th>Vehicle - Collision Type</th>\n",
              "      <th>Vehicle - Collision Type (Secondary)</th>\n",
              "      <th>Vehicle - Date Hired (Hidden)</th>\n",
              "      <th>Vehicle - Description Of Damage</th>\n",
              "      <th>Vehicle - DOT Incident</th>\n",
              "      <th>Vehicle - Driver Condition</th>\n",
              "      <th>Vehicle - Driver's Name</th>\n",
              "      <th>Vehicle - Light Conditions</th>\n",
              "      <th>Vehicle - Number of Fatalities</th>\n",
              "      <th>Vehicle - Number of Injuries</th>\n",
              "      <th>Vehicle - Surface Type</th>\n",
              "      <th>Vehicle - Vehicle No.</th>\n",
              "      <th>Vehicle - Weather Condition</th>\n",
              "      <th>Vehicle - Were any vehicles towed as a result of this incident?</th>\n",
              "      <th>Vehicle - Were hazardous materials released, other than fuel spilled from the fuel tanks of motor vehicles involved in the accident?</th>\n",
              "      <th>Work Order #</th>\n",
              "    </tr>\n",
              "  </thead>\n",
              "  <tbody>\n",
              "    <tr>\n",
              "      <th>0</th>\n",
              "      <td>8645</td>\n",
              "      <td>Ada Service Center</td>\n",
              "      <td>2019-01-03 01:00:00</td>\n",
              "      <td>This is a First Aid incident.  While doing a 3...</td>\n",
              "      <td>Level 2</td>\n",
              "      <td>NaN</td>\n",
              "      <td>False</td>\n",
              "      <td>Member Injury</td>\n",
              "      <td>NaN</td>\n",
              "      <td>NaN</td>\n",
              "      <td>NaN</td>\n",
              "      <td>NaT</td>\n",
              "      <td>Power Delivery</td>\n",
              "      <td>Lyle Just</td>\n",
              "      <td>2019-01-11 10:59:10.747</td>\n",
              "      <td>2019-01-03 07:40:00.287</td>\n",
              "      <td>2019-01-03 07:39:57.070</td>\n",
              "      <td>2019-01-03 07:56:24.187</td>\n",
              "      <td>2019-01-17 01:00:00</td>\n",
              "      <td>2019-01-03 07:29:00</td>\n",
              "      <td>2019-01-10 12:15:48.357</td>\n",
              "      <td>NaT</td>\n",
              "      <td>2019-01-07 12:45:12.340</td>\n",
              "      <td>11055 CR 3579 Ada</td>\n",
              "      <td>NaN</td>\n",
              "      <td>NaN</td>\n",
              "      <td>Lindle Coleman</td>\n",
              "      <td>this action item will be implemented in all of...</td>\n",
              "      <td>T&amp;D Ops</td>\n",
              "      <td>NaN</td>\n",
              "      <td>Level 2</td>\n",
              "      <td>Member Injury</td>\n",
              "      <td>NaN</td>\n",
              "      <td>False</td>\n",
              "      <td>True</td>\n",
              "      <td>False</td>\n",
              "      <td>NaN</td>\n",
              "      <td>False</td>\n",
              "      <td>False</td>\n",
              "      <td>Lyle Just</td>\n",
              "      <td>...</td>\n",
              "      <td>Asset Mgmt Engineer</td>\n",
              "      <td>Abdomen</td>\n",
              "      <td>NaN</td>\n",
              "      <td>Left</td>\n",
              "      <td>0.0</td>\n",
              "      <td>Lyle Just</td>\n",
              "      <td>0.0</td>\n",
              "      <td>NaN</td>\n",
              "      <td>1/3/2019 1:00:00 AM</td>\n",
              "      <td>NaN</td>\n",
              "      <td>0.0</td>\n",
              "      <td>NaN</td>\n",
              "      <td>NaN</td>\n",
              "      <td>land scape timber</td>\n",
              "      <td>NaN</td>\n",
              "      <td>NaN</td>\n",
              "      <td>NaN</td>\n",
              "      <td>NaN</td>\n",
              "      <td>NaN</td>\n",
              "      <td>NaN</td>\n",
              "      <td>NaN</td>\n",
              "      <td>NaN</td>\n",
              "      <td>NaN</td>\n",
              "      <td>NaN</td>\n",
              "      <td>NaN</td>\n",
              "      <td>NaN</td>\n",
              "      <td>NaT</td>\n",
              "      <td>NaN</td>\n",
              "      <td>NaN</td>\n",
              "      <td>NaN</td>\n",
              "      <td>NaN</td>\n",
              "      <td>NaN</td>\n",
              "      <td>NaN</td>\n",
              "      <td>NaN</td>\n",
              "      <td>NaN</td>\n",
              "      <td>NaN</td>\n",
              "      <td>NaN</td>\n",
              "      <td>NaN</td>\n",
              "      <td>NaN</td>\n",
              "      <td>NaN</td>\n",
              "    </tr>\n",
              "    <tr>\n",
              "      <th>1</th>\n",
              "      <td>8646</td>\n",
              "      <td>South District Service Center</td>\n",
              "      <td>2019-01-03 15:00:00</td>\n",
              "      <td>Member was running extendo stick and felt a po...</td>\n",
              "      <td>Level 1</td>\n",
              "      <td>NaN</td>\n",
              "      <td>False</td>\n",
              "      <td>Member Injury</td>\n",
              "      <td>NaN</td>\n",
              "      <td>NaN</td>\n",
              "      <td>NaN</td>\n",
              "      <td>NaT</td>\n",
              "      <td>Power Delivery</td>\n",
              "      <td>Joshua Fisk</td>\n",
              "      <td>2019-01-03 18:43:47.227</td>\n",
              "      <td>2019-01-03 18:31:32.137</td>\n",
              "      <td>2019-01-03 18:31:30.273</td>\n",
              "      <td>2019-01-03 18:37:55.083</td>\n",
              "      <td>2019-01-17 15:00:00</td>\n",
              "      <td>2019-01-03 18:10:00</td>\n",
              "      <td>NaT</td>\n",
              "      <td>NaT</td>\n",
              "      <td>NaT</td>\n",
              "      <td>SE 29th and Anderson Rd</td>\n",
              "      <td>NaN</td>\n",
              "      <td>NaN</td>\n",
              "      <td>Brent Perdue</td>\n",
              "      <td>This incident was reported promptly.  I approve</td>\n",
              "      <td>T&amp;D Ops</td>\n",
              "      <td>NaN</td>\n",
              "      <td>Level 1</td>\n",
              "      <td>Member Injury</td>\n",
              "      <td>NaN</td>\n",
              "      <td>False</td>\n",
              "      <td>True</td>\n",
              "      <td>False</td>\n",
              "      <td>NaN</td>\n",
              "      <td>False</td>\n",
              "      <td>False</td>\n",
              "      <td>NaN</td>\n",
              "      <td>...</td>\n",
              "      <td>Service Technician</td>\n",
              "      <td>Shoulder</td>\n",
              "      <td>NaN</td>\n",
              "      <td>Right</td>\n",
              "      <td>0.0</td>\n",
              "      <td>Joshua Fisk</td>\n",
              "      <td>0.0</td>\n",
              "      <td>NaN</td>\n",
              "      <td>1/3/2019 7:00:00 AM</td>\n",
              "      <td>NaN</td>\n",
              "      <td>0.0</td>\n",
              "      <td>NaN</td>\n",
              "      <td>NaN</td>\n",
              "      <td>Shoulder popped while running extendo stick</td>\n",
              "      <td>NaN</td>\n",
              "      <td>NaN</td>\n",
              "      <td>NaN</td>\n",
              "      <td>NaN</td>\n",
              "      <td>NaN</td>\n",
              "      <td>NaN</td>\n",
              "      <td>NaN</td>\n",
              "      <td>NaN</td>\n",
              "      <td>NaN</td>\n",
              "      <td>NaN</td>\n",
              "      <td>NaN</td>\n",
              "      <td>NaN</td>\n",
              "      <td>NaT</td>\n",
              "      <td>NaN</td>\n",
              "      <td>NaN</td>\n",
              "      <td>NaN</td>\n",
              "      <td>NaN</td>\n",
              "      <td>NaN</td>\n",
              "      <td>NaN</td>\n",
              "      <td>NaN</td>\n",
              "      <td>NaN</td>\n",
              "      <td>NaN</td>\n",
              "      <td>NaN</td>\n",
              "      <td>NaN</td>\n",
              "      <td>NaN</td>\n",
              "      <td>NaN</td>\n",
              "    </tr>\n",
              "    <tr>\n",
              "      <th>2</th>\n",
              "      <td>8647</td>\n",
              "      <td>Sooner Power Plant</td>\n",
              "      <td>2019-01-03 17:00:00</td>\n",
              "      <td>Contract members were working on sump in recla...</td>\n",
              "      <td>Level 1</td>\n",
              "      <td>NaN</td>\n",
              "      <td>True</td>\n",
              "      <td>Contractor</td>\n",
              "      <td>NaN</td>\n",
              "      <td>NaN</td>\n",
              "      <td>NaN</td>\n",
              "      <td>NaT</td>\n",
              "      <td>Power Supply</td>\n",
              "      <td>Michael Dowell</td>\n",
              "      <td>2019-01-30 09:31:06.757</td>\n",
              "      <td>2019-01-04 10:38:06.717</td>\n",
              "      <td>2019-01-04 10:38:06.293</td>\n",
              "      <td>2019-01-19 19:11:58.477</td>\n",
              "      <td>2019-01-17 17:00:00</td>\n",
              "      <td>2019-01-04 09:57:00</td>\n",
              "      <td>2019-01-21 14:17:18.427</td>\n",
              "      <td>NaT</td>\n",
              "      <td>NaT</td>\n",
              "      <td>Sooner PP Fuel Supply Reclaim Sump</td>\n",
              "      <td>NaN</td>\n",
              "      <td>NaN</td>\n",
              "      <td>Brady Sowell</td>\n",
              "      <td>approved</td>\n",
              "      <td>Power Supply</td>\n",
              "      <td>NaN</td>\n",
              "      <td>Level 1</td>\n",
              "      <td>Contractor</td>\n",
              "      <td>NaN</td>\n",
              "      <td>True</td>\n",
              "      <td>False</td>\n",
              "      <td>False</td>\n",
              "      <td>NaN</td>\n",
              "      <td>False</td>\n",
              "      <td>False</td>\n",
              "      <td>Michael Dowell</td>\n",
              "      <td>...</td>\n",
              "      <td>NaN</td>\n",
              "      <td>NaN</td>\n",
              "      <td>NaN</td>\n",
              "      <td>NaN</td>\n",
              "      <td>NaN</td>\n",
              "      <td>NaN</td>\n",
              "      <td>NaN</td>\n",
              "      <td>NaN</td>\n",
              "      <td>NaN</td>\n",
              "      <td>NaN</td>\n",
              "      <td>NaN</td>\n",
              "      <td>NaN</td>\n",
              "      <td>NaN</td>\n",
              "      <td>NaN</td>\n",
              "      <td>NaN</td>\n",
              "      <td>NaN</td>\n",
              "      <td>NaN</td>\n",
              "      <td>NaN</td>\n",
              "      <td>NaN</td>\n",
              "      <td>NaN</td>\n",
              "      <td>NaN</td>\n",
              "      <td>NaN</td>\n",
              "      <td>NaN</td>\n",
              "      <td>NaN</td>\n",
              "      <td>NaN</td>\n",
              "      <td>NaN</td>\n",
              "      <td>NaT</td>\n",
              "      <td>NaN</td>\n",
              "      <td>NaN</td>\n",
              "      <td>NaN</td>\n",
              "      <td>NaN</td>\n",
              "      <td>NaN</td>\n",
              "      <td>NaN</td>\n",
              "      <td>NaN</td>\n",
              "      <td>NaN</td>\n",
              "      <td>NaN</td>\n",
              "      <td>NaN</td>\n",
              "      <td>NaN</td>\n",
              "      <td>NaN</td>\n",
              "      <td>9576008</td>\n",
              "    </tr>\n",
              "    <tr>\n",
              "      <th>3</th>\n",
              "      <td>8648</td>\n",
              "      <td>Metro Service Center</td>\n",
              "      <td>2019-01-04 12:30:00</td>\n",
              "      <td>Contract Tree Worker tripped and/or slipped wh...</td>\n",
              "      <td>Level 2</td>\n",
              "      <td>NaN</td>\n",
              "      <td>False</td>\n",
              "      <td>Contractor</td>\n",
              "      <td>NaN</td>\n",
              "      <td>NaN</td>\n",
              "      <td>NaN</td>\n",
              "      <td>NaT</td>\n",
              "      <td>OG&amp;E Corp Services</td>\n",
              "      <td>NaN</td>\n",
              "      <td>2019-02-07 16:38:06.647</td>\n",
              "      <td>2019-01-04 13:32:00.493</td>\n",
              "      <td>2019-01-04 13:31:56.793</td>\n",
              "      <td>2019-01-31 18:29:09.150</td>\n",
              "      <td>2019-01-18 12:30:00</td>\n",
              "      <td>2019-01-04 13:23:00</td>\n",
              "      <td>2019-02-06 10:11:56.433</td>\n",
              "      <td>NaT</td>\n",
              "      <td>2019-02-04 16:45:30.590</td>\n",
              "      <td>Residence 4100 S. Shatwell Rd, OKC</td>\n",
              "      <td>NaN</td>\n",
              "      <td>NaN</td>\n",
              "      <td>William Young</td>\n",
              "      <td>Reviewed contractor CA Alert and PowerPoint.  ...</td>\n",
              "      <td>T&amp;D Ops</td>\n",
              "      <td>NaN</td>\n",
              "      <td>Level 2</td>\n",
              "      <td>Contractor</td>\n",
              "      <td>NaN</td>\n",
              "      <td>True</td>\n",
              "      <td>False</td>\n",
              "      <td>False</td>\n",
              "      <td>NaN</td>\n",
              "      <td>False</td>\n",
              "      <td>False</td>\n",
              "      <td>NaN</td>\n",
              "      <td>...</td>\n",
              "      <td>NaN</td>\n",
              "      <td>NaN</td>\n",
              "      <td>NaN</td>\n",
              "      <td>NaN</td>\n",
              "      <td>NaN</td>\n",
              "      <td>NaN</td>\n",
              "      <td>NaN</td>\n",
              "      <td>NaN</td>\n",
              "      <td>NaN</td>\n",
              "      <td>NaN</td>\n",
              "      <td>NaN</td>\n",
              "      <td>NaN</td>\n",
              "      <td>NaN</td>\n",
              "      <td>NaN</td>\n",
              "      <td>NaN</td>\n",
              "      <td>NaN</td>\n",
              "      <td>NaN</td>\n",
              "      <td>NaN</td>\n",
              "      <td>NaN</td>\n",
              "      <td>NaN</td>\n",
              "      <td>NaN</td>\n",
              "      <td>NaN</td>\n",
              "      <td>NaN</td>\n",
              "      <td>NaN</td>\n",
              "      <td>NaN</td>\n",
              "      <td>NaN</td>\n",
              "      <td>NaT</td>\n",
              "      <td>NaN</td>\n",
              "      <td>NaN</td>\n",
              "      <td>NaN</td>\n",
              "      <td>NaN</td>\n",
              "      <td>NaN</td>\n",
              "      <td>NaN</td>\n",
              "      <td>NaN</td>\n",
              "      <td>NaN</td>\n",
              "      <td>NaN</td>\n",
              "      <td>NaN</td>\n",
              "      <td>NaN</td>\n",
              "      <td>NaN</td>\n",
              "      <td>none</td>\n",
              "    </tr>\n",
              "    <tr>\n",
              "      <th>4</th>\n",
              "      <td>8648</td>\n",
              "      <td>Metro Service Center</td>\n",
              "      <td>2019-01-04 12:30:00</td>\n",
              "      <td>Contract Tree Worker tripped and/or slipped wh...</td>\n",
              "      <td>Level 2</td>\n",
              "      <td>NaN</td>\n",
              "      <td>False</td>\n",
              "      <td>Contractor</td>\n",
              "      <td>NaN</td>\n",
              "      <td>NaN</td>\n",
              "      <td>NaN</td>\n",
              "      <td>NaT</td>\n",
              "      <td>OG&amp;E Corp Services</td>\n",
              "      <td>NaN</td>\n",
              "      <td>2019-02-07 16:38:06.647</td>\n",
              "      <td>2019-01-04 13:32:00.493</td>\n",
              "      <td>2019-01-04 13:31:56.793</td>\n",
              "      <td>2019-01-31 18:29:09.150</td>\n",
              "      <td>2019-01-18 12:30:00</td>\n",
              "      <td>2019-01-04 13:23:00</td>\n",
              "      <td>2019-02-06 10:11:56.433</td>\n",
              "      <td>NaT</td>\n",
              "      <td>2019-02-04 16:45:30.590</td>\n",
              "      <td>Residence 4100 S. Shatwell Rd, OKC</td>\n",
              "      <td>NaN</td>\n",
              "      <td>NaN</td>\n",
              "      <td>William Young</td>\n",
              "      <td>Reviewed contractor CA Alert and PowerPoint.  ...</td>\n",
              "      <td>T&amp;D Ops</td>\n",
              "      <td>NaN</td>\n",
              "      <td>Level 2</td>\n",
              "      <td>Contractor</td>\n",
              "      <td>NaN</td>\n",
              "      <td>True</td>\n",
              "      <td>False</td>\n",
              "      <td>False</td>\n",
              "      <td>NaN</td>\n",
              "      <td>False</td>\n",
              "      <td>False</td>\n",
              "      <td>NaN</td>\n",
              "      <td>...</td>\n",
              "      <td>NaN</td>\n",
              "      <td>NaN</td>\n",
              "      <td>NaN</td>\n",
              "      <td>NaN</td>\n",
              "      <td>NaN</td>\n",
              "      <td>NaN</td>\n",
              "      <td>NaN</td>\n",
              "      <td>NaN</td>\n",
              "      <td>NaN</td>\n",
              "      <td>NaN</td>\n",
              "      <td>NaN</td>\n",
              "      <td>NaN</td>\n",
              "      <td>NaN</td>\n",
              "      <td>NaN</td>\n",
              "      <td>NaN</td>\n",
              "      <td>NaN</td>\n",
              "      <td>NaN</td>\n",
              "      <td>NaN</td>\n",
              "      <td>NaN</td>\n",
              "      <td>NaN</td>\n",
              "      <td>NaN</td>\n",
              "      <td>NaN</td>\n",
              "      <td>NaN</td>\n",
              "      <td>NaN</td>\n",
              "      <td>NaN</td>\n",
              "      <td>NaN</td>\n",
              "      <td>NaT</td>\n",
              "      <td>NaN</td>\n",
              "      <td>NaN</td>\n",
              "      <td>NaN</td>\n",
              "      <td>NaN</td>\n",
              "      <td>NaN</td>\n",
              "      <td>NaN</td>\n",
              "      <td>NaN</td>\n",
              "      <td>NaN</td>\n",
              "      <td>NaN</td>\n",
              "      <td>NaN</td>\n",
              "      <td>NaN</td>\n",
              "      <td>NaN</td>\n",
              "      <td>none</td>\n",
              "    </tr>\n",
              "  </tbody>\n",
              "</table>\n",
              "<p>5 rows × 171 columns</p>\n",
              "</div>"
            ],
            "text/plain": [
              "   Incident No.  ... Work Order #\n",
              "0          8645  ...          NaN\n",
              "1          8646  ...          NaN\n",
              "2          8647  ...      9576008\n",
              "3          8648  ...         none\n",
              "4          8648  ...         none\n",
              "\n",
              "[5 rows x 171 columns]"
            ]
          },
          "metadata": {
            "tags": []
          },
          "execution_count": 4
        }
      ]
    },
    {
      "cell_type": "code",
      "metadata": {
        "colab_type": "code",
        "id": "N3PxA_PMQZQl",
        "outputId": "509882f2-677b-4e9d-d7ae-4d5abf07b616",
        "colab": {
          "base_uri": "https://localhost:8080/",
          "height": 119
        }
      },
      "source": [
        "pastInc['Incident Description'].head()"
      ],
      "execution_count": 5,
      "outputs": [
        {
          "output_type": "execute_result",
          "data": {
            "text/plain": [
              "0    This is a First Aid incident.  While doing a 3...\n",
              "1    Member was running extendo stick and felt a po...\n",
              "2    Contract members were working on sump in recla...\n",
              "3    Contract Tree Worker tripped and/or slipped wh...\n",
              "4    Contract Tree Worker tripped and/or slipped wh...\n",
              "Name: Incident Description, dtype: object"
            ]
          },
          "metadata": {
            "tags": []
          },
          "execution_count": 5
        }
      ]
    },
    {
      "cell_type": "markdown",
      "metadata": {
        "id": "7MRgKrvqxjhU",
        "colab_type": "text"
      },
      "source": [
        "# Unique number of text fields count"
      ]
    },
    {
      "cell_type": "code",
      "metadata": {
        "colab_type": "code",
        "id": "QhY2_onGQZQn",
        "outputId": "0eee01b7-3ec5-459d-9670-12c1b27fe893",
        "colab": {
          "base_uri": "https://localhost:8080/",
          "height": 34
        }
      },
      "source": [
        "pastInc['Incident Description'].nunique()"
      ],
      "execution_count": 6,
      "outputs": [
        {
          "output_type": "execute_result",
          "data": {
            "text/plain": [
              "594"
            ]
          },
          "metadata": {
            "tags": []
          },
          "execution_count": 6
        }
      ]
    },
    {
      "cell_type": "markdown",
      "metadata": {
        "id": "2AvM2ZrQyDJW",
        "colab_type": "text"
      },
      "source": [
        "# Are there any empty fields with no data ?"
      ]
    },
    {
      "cell_type": "code",
      "metadata": {
        "colab_type": "code",
        "id": "xBD8bY6mQZQq",
        "outputId": "168bde97-e5e2-44a4-a4ee-88ebd7814d2f",
        "colab": {
          "base_uri": "https://localhost:8080/",
          "height": 34
        }
      },
      "source": [
        "pastInc['Incident Description'].isnull().sum()"
      ],
      "execution_count": 7,
      "outputs": [
        {
          "output_type": "execute_result",
          "data": {
            "text/plain": [
              "0"
            ]
          },
          "metadata": {
            "tags": []
          },
          "execution_count": 7
        }
      ]
    },
    {
      "cell_type": "markdown",
      "metadata": {
        "id": "vXrn0LV-xjhZ",
        "colab_type": "text"
      },
      "source": [
        "# Remove Duplicate Observations"
      ]
    },
    {
      "cell_type": "code",
      "metadata": {
        "colab_type": "code",
        "id": "AdeFL48HQZQt",
        "outputId": "2d802e46-8a7f-4aea-d256-779add5f99d8",
        "colab": {
          "base_uri": "https://localhost:8080/",
          "height": 34
        }
      },
      "source": [
        "from pandas import DataFrame\n",
        "pastInc_onlyInc = DataFrame(pastInc,columns = ['Incident Description'])\n",
        "onlyInc_DupRemoved = DataFrame.drop_duplicates(pastInc_onlyInc)\n",
        "onlyInc_DupRemoved.shape"
      ],
      "execution_count": 8,
      "outputs": [
        {
          "output_type": "execute_result",
          "data": {
            "text/plain": [
              "(594, 1)"
            ]
          },
          "metadata": {
            "tags": []
          },
          "execution_count": 8
        }
      ]
    },
    {
      "cell_type": "markdown",
      "metadata": {
        "colab_type": "text",
        "id": "VwnGU-yTQZQv"
      },
      "source": [
        "# Count number of words in each text"
      ]
    },
    {
      "cell_type": "code",
      "metadata": {
        "colab_type": "code",
        "id": "tjP7tZn4QZQw",
        "outputId": "2a82e255-7a83-4f05-fb79-44d4b5f80ced",
        "colab": {
          "base_uri": "https://localhost:8080/",
          "height": 306
        }
      },
      "source": [
        "onlyInc_DupRemoved['wordCount'] = onlyInc_DupRemoved['Incident Description'].apply(lambda x : len(str(x).split(' ')))\n",
        "onlyInc_DupRemoved.head()                                                                                  "
      ],
      "execution_count": 9,
      "outputs": [
        {
          "output_type": "stream",
          "text": [
            "/usr/local/lib/python3.6/dist-packages/ipykernel_launcher.py:1: SettingWithCopyWarning: \n",
            "A value is trying to be set on a copy of a slice from a DataFrame.\n",
            "Try using .loc[row_indexer,col_indexer] = value instead\n",
            "\n",
            "See the caveats in the documentation: https://pandas.pydata.org/pandas-docs/stable/user_guide/indexing.html#returning-a-view-versus-a-copy\n",
            "  \"\"\"Entry point for launching an IPython kernel.\n"
          ],
          "name": "stderr"
        },
        {
          "output_type": "execute_result",
          "data": {
            "text/html": [
              "<div>\n",
              "<style scoped>\n",
              "    .dataframe tbody tr th:only-of-type {\n",
              "        vertical-align: middle;\n",
              "    }\n",
              "\n",
              "    .dataframe tbody tr th {\n",
              "        vertical-align: top;\n",
              "    }\n",
              "\n",
              "    .dataframe thead th {\n",
              "        text-align: right;\n",
              "    }\n",
              "</style>\n",
              "<table border=\"1\" class=\"dataframe\">\n",
              "  <thead>\n",
              "    <tr style=\"text-align: right;\">\n",
              "      <th></th>\n",
              "      <th>Incident Description</th>\n",
              "      <th>wordCount</th>\n",
              "    </tr>\n",
              "  </thead>\n",
              "  <tbody>\n",
              "    <tr>\n",
              "      <th>0</th>\n",
              "      <td>This is a First Aid incident.  While doing a 3...</td>\n",
              "      <td>56</td>\n",
              "    </tr>\n",
              "    <tr>\n",
              "      <th>1</th>\n",
              "      <td>Member was running extendo stick and felt a po...</td>\n",
              "      <td>16</td>\n",
              "    </tr>\n",
              "    <tr>\n",
              "      <th>2</th>\n",
              "      <td>Contract members were working on sump in recla...</td>\n",
              "      <td>22</td>\n",
              "    </tr>\n",
              "    <tr>\n",
              "      <th>3</th>\n",
              "      <td>Contract Tree Worker tripped and/or slipped wh...</td>\n",
              "      <td>25</td>\n",
              "    </tr>\n",
              "    <tr>\n",
              "      <th>7</th>\n",
              "      <td>While inventorying grating material delivered ...</td>\n",
              "      <td>30</td>\n",
              "    </tr>\n",
              "  </tbody>\n",
              "</table>\n",
              "</div>"
            ],
            "text/plain": [
              "                                Incident Description  wordCount\n",
              "0  This is a First Aid incident.  While doing a 3...         56\n",
              "1  Member was running extendo stick and felt a po...         16\n",
              "2  Contract members were working on sump in recla...         22\n",
              "3  Contract Tree Worker tripped and/or slipped wh...         25\n",
              "7  While inventorying grating material delivered ...         30"
            ]
          },
          "metadata": {
            "tags": []
          },
          "execution_count": 9
        }
      ]
    },
    {
      "cell_type": "markdown",
      "metadata": {
        "colab_type": "text",
        "id": "mjDiKzjxQZQz"
      },
      "source": [
        "# Convert text to lower case and remove punctuation marks"
      ]
    },
    {
      "cell_type": "code",
      "metadata": {
        "colab_type": "code",
        "id": "p4gRCPIWQZQ0",
        "outputId": "cffc64e9-bb72-4005-c167-368d2f8404c1",
        "colab": {
          "base_uri": "https://localhost:8080/",
          "height": 221
        }
      },
      "source": [
        "import re\n",
        "onlyInc_DupRemoved['Incident Description'] = onlyInc_DupRemoved['Incident Description'].apply(lambda x: str(x).lower()).apply(lambda x: re.sub('[,\\.!?]', '', x))\n",
        "onlyInc_DupRemoved['Incident Description'].head()"
      ],
      "execution_count": 11,
      "outputs": [
        {
          "output_type": "stream",
          "text": [
            "/usr/local/lib/python3.6/dist-packages/ipykernel_launcher.py:2: SettingWithCopyWarning: \n",
            "A value is trying to be set on a copy of a slice from a DataFrame.\n",
            "Try using .loc[row_indexer,col_indexer] = value instead\n",
            "\n",
            "See the caveats in the documentation: https://pandas.pydata.org/pandas-docs/stable/user_guide/indexing.html#returning-a-view-versus-a-copy\n",
            "  \n"
          ],
          "name": "stderr"
        },
        {
          "output_type": "execute_result",
          "data": {
            "text/plain": [
              "0    this is a first aid incident  while doing a 36...\n",
              "1    member was running extendo stick and felt a po...\n",
              "2    contract members were working on sump in recla...\n",
              "3    contract tree worker tripped and/or slipped wh...\n",
              "7    while inventorying grating material delivered ...\n",
              "Name: Incident Description, dtype: object"
            ]
          },
          "metadata": {
            "tags": []
          },
          "execution_count": 11
        }
      ]
    },
    {
      "cell_type": "markdown",
      "metadata": {
        "colab_type": "text",
        "id": "wMbYKwPjQZQ2"
      },
      "source": [
        "# Remove stop words using nltk package"
      ]
    },
    {
      "cell_type": "code",
      "metadata": {
        "colab_type": "code",
        "id": "qiDBfDGwQZQ3",
        "outputId": "36686402-6a29-4e18-bd8a-22295b47ee60",
        "colab": {
          "base_uri": "https://localhost:8080/",
          "height": 68
        }
      },
      "source": [
        "import nltk\n",
        "nltk.download('stopwords')\n",
        "from nltk.corpus import stopwords\n",
        "stop = stopwords.words('english')\n",
        "stop[:10]"
      ],
      "execution_count": 12,
      "outputs": [
        {
          "output_type": "stream",
          "text": [
            "[nltk_data] Downloading package stopwords to /root/nltk_data...\n",
            "[nltk_data]   Unzipping corpora/stopwords.zip.\n"
          ],
          "name": "stdout"
        },
        {
          "output_type": "execute_result",
          "data": {
            "text/plain": [
              "['i', 'me', 'my', 'myself', 'we', 'our', 'ours', 'ourselves', 'you', \"you're\"]"
            ]
          },
          "metadata": {
            "tags": []
          },
          "execution_count": 12
        }
      ]
    },
    {
      "cell_type": "code",
      "metadata": {
        "colab_type": "code",
        "id": "7Asq4VqZQZQ5",
        "outputId": "f5646be5-02d8-4581-b412-2f9b82ff75ba",
        "colab": {
          "base_uri": "https://localhost:8080/",
          "height": 221
        }
      },
      "source": [
        "onlyInc_DupRemoved['Incident Description'] = onlyInc_DupRemoved['Incident Description'].apply(lambda x: \" \".join(x for x in str(x).split(' ') if x not in stop))\n",
        "onlyInc_DupRemoved['Incident Description'].head()"
      ],
      "execution_count": 13,
      "outputs": [
        {
          "output_type": "stream",
          "text": [
            "/usr/local/lib/python3.6/dist-packages/ipykernel_launcher.py:1: SettingWithCopyWarning: \n",
            "A value is trying to be set on a copy of a slice from a DataFrame.\n",
            "Try using .loc[row_indexer,col_indexer] = value instead\n",
            "\n",
            "See the caveats in the documentation: https://pandas.pydata.org/pandas-docs/stable/user_guide/indexing.html#returning-a-view-versus-a-copy\n",
            "  \"\"\"Entry point for launching an IPython kernel.\n"
          ],
          "name": "stderr"
        },
        {
          "output_type": "execute_result",
          "data": {
            "text/plain": [
              "0    first aid incident  360 leaving home go troubl...\n",
              "1    member running extendo stick felt pop right sh...\n",
              "2    contract members working sump reclaim area  co...\n",
              "3    contract tree worker tripped and/or slipped pu...\n",
              "7    inventorying grating material delivered capita...\n",
              "Name: Incident Description, dtype: object"
            ]
          },
          "metadata": {
            "tags": []
          },
          "execution_count": 13
        }
      ]
    },
    {
      "cell_type": "markdown",
      "metadata": {
        "colab_type": "text",
        "id": "Wb8q3mSpQZQ9"
      },
      "source": [
        "# Remove Numerics "
      ]
    },
    {
      "cell_type": "code",
      "metadata": {
        "colab_type": "code",
        "id": "ekTr5CoFQZQ9",
        "outputId": "1d10e813-678e-404d-968a-3ee96946257b",
        "colab": {
          "base_uri": "https://localhost:8080/",
          "height": 221
        }
      },
      "source": [
        "onlyInc_DupRemoved['Incident Description'] = onlyInc_DupRemoved['Incident Description'].apply(lambda x : ' '.join(x for x in str(x).split(' ') if not x.isdigit()))\n",
        "onlyInc_DupRemoved['Incident Description'].head()"
      ],
      "execution_count": 14,
      "outputs": [
        {
          "output_type": "stream",
          "text": [
            "/usr/local/lib/python3.6/dist-packages/ipykernel_launcher.py:1: SettingWithCopyWarning: \n",
            "A value is trying to be set on a copy of a slice from a DataFrame.\n",
            "Try using .loc[row_indexer,col_indexer] = value instead\n",
            "\n",
            "See the caveats in the documentation: https://pandas.pydata.org/pandas-docs/stable/user_guide/indexing.html#returning-a-view-versus-a-copy\n",
            "  \"\"\"Entry point for launching an IPython kernel.\n"
          ],
          "name": "stderr"
        },
        {
          "output_type": "execute_result",
          "data": {
            "text/plain": [
              "0    first aid incident  leaving home go trouble ca...\n",
              "1    member running extendo stick felt pop right sh...\n",
              "2    contract members working sump reclaim area  co...\n",
              "3    contract tree worker tripped and/or slipped pu...\n",
              "7    inventorying grating material delivered capita...\n",
              "Name: Incident Description, dtype: object"
            ]
          },
          "metadata": {
            "tags": []
          },
          "execution_count": 14
        }
      ]
    },
    {
      "cell_type": "markdown",
      "metadata": {
        "colab_type": "text",
        "id": "K3xJsBcYQZRB"
      },
      "source": [
        "# Correct Spellings using TextBlob package"
      ]
    },
    {
      "cell_type": "code",
      "metadata": {
        "colab_type": "code",
        "id": "2XehyP-JQZRB",
        "colab": {}
      },
      "source": [
        "from textblob import TextBlob"
      ],
      "execution_count": 0,
      "outputs": []
    },
    {
      "cell_type": "code",
      "metadata": {
        "colab_type": "code",
        "id": "WhDMAMQCQZRD",
        "outputId": "30523b5a-1b97-414d-dc9f-027ca5c486bb",
        "colab": {
          "base_uri": "https://localhost:8080/",
          "height": 119
        }
      },
      "source": [
        "onlyInc_DupRemoved['Incident Description'].apply(lambda x: str(TextBlob(x).correct()))\n",
        "onlyInc_DupRemoved['Incident Description'].head()"
      ],
      "execution_count": 16,
      "outputs": [
        {
          "output_type": "execute_result",
          "data": {
            "text/plain": [
              "0    first aid incident  leaving home go trouble ca...\n",
              "1    member running extendo stick felt pop right sh...\n",
              "2    contract members working sump reclaim area  co...\n",
              "3    contract tree worker tripped and/or slipped pu...\n",
              "7    inventorying grating material delivered capita...\n",
              "Name: Incident Description, dtype: object"
            ]
          },
          "metadata": {
            "tags": []
          },
          "execution_count": 16
        }
      ]
    },
    {
      "cell_type": "markdown",
      "metadata": {
        "colab_type": "text",
        "id": "Q8_hDwFjQZRG"
      },
      "source": [
        "# Lemmatization to root word (removal of suffices, like “ly”, “s”, etc)"
      ]
    },
    {
      "cell_type": "code",
      "metadata": {
        "colab_type": "code",
        "id": "aK-Pb_yiQZRG",
        "outputId": "948ec1ba-c776-46c4-99cc-c2c437f0254f",
        "colab": {
          "base_uri": "https://localhost:8080/",
          "height": 255
        }
      },
      "source": [
        "import nltk\n",
        "nltk.download('wordnet')\n",
        "from textblob import Word\n",
        "onlyInc_DupRemoved['Incident Description'] = onlyInc_DupRemoved['Incident Description'].apply(lambda x: \" \".join([Word(word).lemmatize() for word in x.split()]))\n",
        "onlyInc_DupRemoved['Incident Description'].head()"
      ],
      "execution_count": 17,
      "outputs": [
        {
          "output_type": "stream",
          "text": [
            "[nltk_data] Downloading package wordnet to /root/nltk_data...\n",
            "[nltk_data]   Unzipping corpora/wordnet.zip.\n"
          ],
          "name": "stdout"
        },
        {
          "output_type": "stream",
          "text": [
            "/usr/local/lib/python3.6/dist-packages/ipykernel_launcher.py:4: SettingWithCopyWarning: \n",
            "A value is trying to be set on a copy of a slice from a DataFrame.\n",
            "Try using .loc[row_indexer,col_indexer] = value instead\n",
            "\n",
            "See the caveats in the documentation: https://pandas.pydata.org/pandas-docs/stable/user_guide/indexing.html#returning-a-view-versus-a-copy\n",
            "  after removing the cwd from sys.path.\n"
          ],
          "name": "stderr"
        },
        {
          "output_type": "execute_result",
          "data": {
            "text/plain": [
              "0    first aid incident leaving home go trouble cal...\n",
              "1    member running extendo stick felt pop right sh...\n",
              "2    contract member working sump reclaim area cont...\n",
              "3    contract tree worker tripped and/or slipped pu...\n",
              "7    inventorying grating material delivered capita...\n",
              "Name: Incident Description, dtype: object"
            ]
          },
          "metadata": {
            "tags": []
          },
          "execution_count": 17
        }
      ]
    },
    {
      "cell_type": "markdown",
      "metadata": {
        "colab_type": "text",
        "id": "DMPimW85QZRI"
      },
      "source": [
        "# Most frequently Occured Words ? "
      ]
    },
    {
      "cell_type": "code",
      "metadata": {
        "colab_type": "code",
        "id": "TzlYb_6oQZRJ",
        "outputId": "eb6e7c60-b39c-4aaf-b48d-e381001c0ec8",
        "colab": {
          "base_uri": "https://localhost:8080/",
          "height": 544
        }
      },
      "source": [
        "freq = pd.Series(' '.join(onlyInc_DupRemoved['Incident Description']).split()).value_counts()[:30]\n",
        "freq"
      ],
      "execution_count": 18,
      "outputs": [
        {
          "output_type": "execute_result",
          "data": {
            "text/plain": [
              "member        395\n",
              "vehicle       160\n",
              "contractor    138\n",
              "truck         108\n",
              "injury         80\n",
              "line           73\n",
              "fell           70\n",
              "damage         65\n",
              "side           64\n",
              "fire           63\n",
              "driver         60\n",
              "area           56\n",
              "struck         55\n",
              "ground         52\n",
              "causing        52\n",
              "back           51\n",
              "crew           50\n",
              "public         49\n",
              "company        48\n",
              "door           48\n",
              "occurred       46\n",
              "work           46\n",
              "operator       45\n",
              "oge            44\n",
              "left           44\n",
              "right          44\n",
              "contact        43\n",
              "tree           43\n",
              "service        41\n",
              "hit            39\n",
              "dtype: int64"
            ]
          },
          "metadata": {
            "tags": []
          },
          "execution_count": 18
        }
      ]
    },
    {
      "cell_type": "markdown",
      "metadata": {
        "id": "kwdhLA321PT2",
        "colab_type": "text"
      },
      "source": [
        "# Remove words that don't add value to analysis. Example : 'Member', because it doesnt tell any information about injury itself"
      ]
    },
    {
      "cell_type": "code",
      "metadata": {
        "colab_type": "code",
        "id": "SsN6cg1XQZRN",
        "outputId": "0386bef7-948a-4c8a-e72a-406f45225f29",
        "colab": {
          "base_uri": "https://localhost:8080/",
          "height": 221
        }
      },
      "source": [
        "remove = ['member','injury','area','public','company','crew','right','left','contractor','causing','side','back','occurred','work']\n",
        "onlyInc_DupRemoved['Incident Description'] = onlyInc_DupRemoved['Incident Description'].apply(lambda x : ' '.join(x for x in str(x).split(' ') if x not in remove))\n",
        "onlyInc_DupRemoved['Incident Description'].head()\n"
      ],
      "execution_count": 19,
      "outputs": [
        {
          "output_type": "stream",
          "text": [
            "/usr/local/lib/python3.6/dist-packages/ipykernel_launcher.py:2: SettingWithCopyWarning: \n",
            "A value is trying to be set on a copy of a slice from a DataFrame.\n",
            "Try using .loc[row_indexer,col_indexer] = value instead\n",
            "\n",
            "See the caveats in the documentation: https://pandas.pydata.org/pandas-docs/stable/user_guide/indexing.html#returning-a-view-versus-a-copy\n",
            "  \n"
          ],
          "name": "stderr"
        },
        {
          "output_type": "execute_result",
          "data": {
            "text/plain": [
              "0    first aid incident leaving home go trouble cal...\n",
              "1    running extendo stick felt pop shoulder result...\n",
              "2    contract working sump reclaim contract filled ...\n",
              "3    contract tree worker tripped and/or slipped pu...\n",
              "7    inventorying grating material delivered capita...\n",
              "Name: Incident Description, dtype: object"
            ]
          },
          "metadata": {
            "tags": []
          },
          "execution_count": 19
        }
      ]
    },
    {
      "cell_type": "markdown",
      "metadata": {
        "colab_type": "text",
        "id": "rvVaKpLDQZRQ"
      },
      "source": [
        "# Visualize Top 10 High frequency words"
      ]
    },
    {
      "cell_type": "code",
      "metadata": {
        "colab_type": "code",
        "id": "v-ydpxweQZRR",
        "outputId": "441716ee-ecac-4590-fad2-f9f8f8f9cc13",
        "colab": {
          "base_uri": "https://localhost:8080/",
          "height": 648
        }
      },
      "source": [
        "# Load the library with the CountVectorizer method\n",
        "from sklearn.feature_extraction.text import CountVectorizer\n",
        "import numpy as np\n",
        "import matplotlib.pyplot as plt\n",
        "import seaborn as sns\n",
        "sns.set_style('whitegrid')\n",
        "%matplotlib inline\n",
        "# Helper function\n",
        "def plot_10_most_common_words(count_data, count_vectorizer):\n",
        "    import matplotlib.pyplot as plt\n",
        "    words = count_vectorizer.get_feature_names()\n",
        "    total_counts = np.zeros(len(words))\n",
        "    for t in count_data:\n",
        "        total_counts+=t.toarray()[0]\n",
        "    \n",
        "    count_dict = (zip(words, total_counts))\n",
        "    count_dict = sorted(count_dict, key=lambda x:x[1], reverse=True)[0:10]\n",
        "    words = [w[0] for w in count_dict]\n",
        "    counts = [w[1] for w in count_dict]\n",
        "    x_pos = np.arange(len(words)) \n",
        "    \n",
        "    plt.figure(2, figsize=(15, 15/1.6180))\n",
        "    plt.subplot(title='10 most common words')\n",
        "    sns.set_context(\"notebook\", font_scale=1.25, rc={\"lines.linewidth\": 2.5})\n",
        "    sns.barplot(x_pos, counts, palette='husl')\n",
        "    plt.xticks(x_pos, words, rotation=90) \n",
        "    plt.xlabel('words')\n",
        "    plt.ylabel('counts')\n",
        "    plt.show()\n",
        "# Initialise the count vectorizer with the English stop words\n",
        "count_vectorizer = CountVectorizer(stop_words='english')\n",
        "# Fit and transform the processed titles\n",
        "count_data = count_vectorizer.fit_transform(onlyInc_DupRemoved['Incident Description'])\n",
        "# Visualise the 10 most common words\n",
        "plot_10_most_common_words(count_data, count_vectorizer)"
      ],
      "execution_count": 0,
      "outputs": [
        {
          "output_type": "display_data",
          "data": {
            "image/png": "[encoded data removed]",
            "text/plain": [
              "<Figure size 1080x667.491 with 1 Axes>"
            ]
          },
          "metadata": {
            "tags": [],
            "needs_background": "light"
          }
        }
      ]
    },
    {
      "cell_type": "markdown",
      "metadata": {
        "colab_type": "text",
        "id": "t_quaO6lQZRT"
      },
      "source": [
        "# Other High frequency words - Top 30 shown here"
      ]
    },
    {
      "cell_type": "code",
      "metadata": {
        "colab_type": "code",
        "id": "BJavU-QPQZRT",
        "outputId": "812d1b2c-cded-4c48-8e62-a10271a36ed9",
        "colab": {
          "base_uri": "https://localhost:8080/",
          "height": 544
        }
      },
      "source": [
        "freq_updated = pd.Series(' '.join(onlyInc_DupRemoved['Incident Description']).split()).value_counts()[:30]\n",
        "freq_updated"
      ],
      "execution_count": 0,
      "outputs": [
        {
          "output_type": "execute_result",
          "data": {
            "text/plain": [
              "vehicle      160\n",
              "truck        108\n",
              "line          73\n",
              "fell          70\n",
              "damage        65\n",
              "fire          63\n",
              "driver        60\n",
              "struck        55\n",
              "ground        52\n",
              "door          48\n",
              "operator      45\n",
              "oge           44\n",
              "contact       43\n",
              "tree          43\n",
              "service       41\n",
              "hit           39\n",
              "pole          38\n",
              "rear          38\n",
              "water         37\n",
              "control       37\n",
              "found         36\n",
              "pump          36\n",
              "first         36\n",
              "valve         35\n",
              "foot          35\n",
              "light         35\n",
              "wire          35\n",
              "one           35\n",
              "open          34\n",
              "contacted     34\n",
              "dtype: int64"
            ]
          },
          "metadata": {
            "tags": []
          },
          "execution_count": 25
        }
      ]
    },
    {
      "cell_type": "markdown",
      "metadata": {
        "colab_type": "text",
        "id": "p3Xwzk5-QZRV"
      },
      "source": [
        "# Tokenization of documents"
      ]
    },
    {
      "cell_type": "code",
      "metadata": {
        "colab_type": "code",
        "id": "qSJBgpJHQZRV",
        "outputId": "b6b50bd3-6d29-42a2-b843-7c10898d6859",
        "colab": {
          "base_uri": "https://localhost:8080/",
          "height": 153
        }
      },
      "source": [
        "import nltk\n",
        "nltk.download('punkt')\n",
        "tokens = onlyInc_DupRemoved['Incident Description'].apply(lambda x : TextBlob(x).words)\n",
        "tokens.head()"
      ],
      "execution_count": 20,
      "outputs": [
        {
          "output_type": "stream",
          "text": [
            "[nltk_data] Downloading package punkt to /root/nltk_data...\n",
            "[nltk_data]   Unzipping tokenizers/punkt.zip.\n"
          ],
          "name": "stdout"
        },
        {
          "output_type": "execute_result",
          "data": {
            "text/plain": [
              "0    [first, aid, incident, leaving, home, go, trou...\n",
              "1    [running, extendo, stick, felt, pop, shoulder,...\n",
              "2    [contract, working, sump, reclaim, contract, f...\n",
              "3    [contract, tree, worker, tripped, and/or, slip...\n",
              "7    [inventorying, grating, material, delivered, c...\n",
              "Name: Incident Description, dtype: object"
            ]
          },
          "metadata": {
            "tags": []
          },
          "execution_count": 20
        }
      ]
    },
    {
      "cell_type": "markdown",
      "metadata": {
        "colab_type": "text",
        "id": "MWSlfhgIQZRX"
      },
      "source": [
        "# WORD CLOUD for the descriptions                                                                     (Visualizing text data in which the size of each word indicates its frequency or importance)¶"
      ]
    },
    {
      "cell_type": "code",
      "metadata": {
        "colab_type": "code",
        "id": "diTAFBc-QZRY",
        "colab": {}
      },
      "source": [
        "from wordcloud import WordCloud, STOPWORDS, ImageColorGenerator\n",
        "import matplotlib.pyplot as plt\n",
        "%matplotlib inline"
      ],
      "execution_count": 0,
      "outputs": []
    },
    {
      "cell_type": "code",
      "metadata": {
        "colab_type": "code",
        "id": "5xiKtIS9QZRa",
        "outputId": "ef822955-2a73-4521-fe49-de35c88f4c91",
        "colab": {
          "base_uri": "https://localhost:8080/",
          "height": 607
        }
      },
      "source": [
        "full_text = \" \".join(review for review in onlyInc_DupRemoved['Incident Description'])\n",
        "\n",
        "my_cloud = WordCloud(width = 800, height = 800, \n",
        "                background_color ='white', \n",
        "                min_font_size = 10).generate(full_text) \n",
        "  \n",
        "# plot the WordCloud image                        \n",
        "plt.figure(figsize = (8, 8), facecolor = None) \n",
        "plt.imshow(my_cloud) \n",
        "plt.axis(\"off\") \n",
        "plt.tight_layout(pad = 0) \n",
        "plt.show()"
      ],
      "execution_count": 0,
      "outputs": [
        {
          "output_type": "display_data",
          "data": {
            "image/png": "[encoded data removed]",
            "text/plain": [
              "<Figure size 576x576 with 1 Axes>"
            ]
          },
          "metadata": {
            "tags": [],
            "needs_background": "light"
          }
        }
      ]
    },
    {
      "cell_type": "code",
      "metadata": {
        "colab_type": "code",
        "id": "-oTAQWIVQZRe",
        "colab": {}
      },
      "source": [
        "# from sklearn.feature_extraction.text import TfidfVectorizer\n",
        "# tfidf = TfidfVectorizer(max_features=1000, lowercase=True, analyzer='word',\n",
        "#  stop_words= 'english',ngram_range=(1,1))\n",
        "# train_vect = tfidf.fit_transform(onlyInc_DupRemoved['Incident Description'][:10])\n",
        "\n",
        "# train_vect"
      ],
      "execution_count": 0,
      "outputs": []
    },
    {
      "cell_type": "code",
      "metadata": {
        "colab_type": "code",
        "id": "4jIxeiinQZRh",
        "colab": {}
      },
      "source": [
        "# print(train_vect.__str__())"
      ],
      "execution_count": 0,
      "outputs": []
    },
    {
      "cell_type": "code",
      "metadata": {
        "colab_type": "code",
        "id": "JqjBuyZUTl9P",
        "colab": {}
      },
      "source": [
        "# Create Corpus\n",
        "# texts = tokens\n",
        "\n",
        "# # Term Document Frequency\n",
        "# corpus = [id2word.doc2bow(text) for text in texts]\n",
        "\n",
        "# # View\n",
        "# print(corpus[:1])"
      ],
      "execution_count": 0,
      "outputs": []
    },
    {
      "cell_type": "code",
      "metadata": {
        "colab_type": "code",
        "id": "k7my85dcXaRx",
        "colab": {}
      },
      "source": [
        "# # Human readable format of corpus (term-frequency)\n",
        "# [[(id2word[id], freq) for id, freq in cp] for cp in corpus[:1]]"
      ],
      "execution_count": 0,
      "outputs": []
    },
    {
      "cell_type": "code",
      "metadata": {
        "colab_type": "code",
        "id": "7c8tVTE6XeJZ",
        "colab": {}
      },
      "source": [
        "# import gensim\n",
        "# # Build LDA model\n",
        "# lda_model = gensim.models.ldamodel.LdaModel(corpus=corpus,\n",
        "#                                            id2word=id2word,\n",
        "#                                            num_topics=5, \n",
        "#                                            random_state=100,\n",
        "#                                            update_every=1,\n",
        "#                                            chunksize=100,\n",
        "#                                            passes=10,\n",
        "#                                            alpha='auto',\n",
        "#                                            per_word_topics=True)"
      ],
      "execution_count": 0,
      "outputs": []
    },
    {
      "cell_type": "code",
      "metadata": {
        "colab_type": "code",
        "id": "wmSfDnWLXtrj",
        "colab": {}
      },
      "source": [
        "# # Print the Keyword in the 10 topics\n",
        "# print(lda_model.print_topics())\n",
        "# doc_lda = lda_model[corpus]"
      ],
      "execution_count": 0,
      "outputs": []
    },
    {
      "cell_type": "code",
      "metadata": {
        "colab_type": "code",
        "id": "JS5qqJD9YBNp",
        "colab": {}
      },
      "source": [
        "# from gensim.models import CoherenceModel\n",
        "# # Compute Perplexity\n",
        "# print('\\nPerplexity: ', lda_model.log_perplexity(corpus))  # a measure of how good the model is. lower the better.\n",
        "\n",
        "# # Compute Coherence Score\n",
        "# coherence_model_lda = CoherenceModel(model=lda_model, texts=tokens, dictionary=id2word, coherence='c_v')\n",
        "# coherence_lda = coherence_model_lda.get_coherence()\n",
        "# print('\\nCoherence Score: ', coherence_lda)"
      ],
      "execution_count": 0,
      "outputs": []
    },
    {
      "cell_type": "markdown",
      "metadata": {
        "colab_type": "text",
        "id": "W-QNNwvmQZRc"
      },
      "source": [
        "# Feature Extraction Techniques for Text Data\n",
        "\n",
        "# 1) Bag of words\n",
        "# 2) TF-IDF\n",
        "\n",
        "1) Bag of Words has been implemented for this usecase(More about it is followed)\n",
        "\n",
        "\n",
        "2) TF = (Number of times term T appears in the particular row) / (number of terms in that row)\n",
        "IDF = IDF = log(N/n), where, N is the total number of rows and n is the number of rows in which the word was present.\n",
        "TF*IDF is the multiplication of both. Higher this value, important is the word. "
      ]
    },
    {
      "cell_type": "markdown",
      "metadata": {
        "id": "TrMWbFp171KG",
        "colab_type": "text"
      },
      "source": [
        "# Install gensim package"
      ]
    },
    {
      "cell_type": "code",
      "metadata": {
        "id": "-3F6fQb57wGl",
        "colab_type": "code",
        "colab": {}
      },
      "source": [
        "#!pip install -U gensim"
      ],
      "execution_count": 0,
      "outputs": []
    },
    {
      "cell_type": "markdown",
      "metadata": {
        "id": "sgoNlkorxjib",
        "colab_type": "text"
      },
      "source": [
        "# Bag of Words approach for Feature Extraction"
      ]
    },
    {
      "cell_type": "code",
      "metadata": {
        "colab_type": "code",
        "id": "BorzrGjBj7u2",
        "outputId": "3b39bb29-200e-4404-ef7f-12d0ea3da951",
        "colab": {
          "base_uri": "https://localhost:8080/",
          "height": 187
        }
      },
      "source": [
        "import gensim\n",
        "dictionary = gensim.corpora.Dictionary(tokens)\n",
        "bow_corpus = [dictionary.doc2bow(doc) for doc in tokens]\n",
        "bow_corpus[7]"
      ],
      "execution_count": 24,
      "outputs": [
        {
          "output_type": "execute_result",
          "data": {
            "text/plain": [
              "[(3, 1),\n",
              " (103, 1),\n",
              " (104, 1),\n",
              " (105, 1),\n",
              " (106, 1),\n",
              " (107, 1),\n",
              " (108, 1),\n",
              " (109, 1),\n",
              " (110, 1),\n",
              " (111, 1)]"
            ]
          },
          "metadata": {
            "tags": []
          },
          "execution_count": 24
        }
      ]
    },
    {
      "cell_type": "code",
      "metadata": {
        "colab_type": "code",
        "id": "BxBooZnslnOI",
        "outputId": "c02f0871-a9a5-42a5-9b65-29fdcff3b93d",
        "colab": {
          "base_uri": "https://localhost:8080/",
          "height": 187
        }
      },
      "source": [
        "bow_doc_7 = bow_corpus[7]\n",
        "for i in range(len(bow_doc_7)):\n",
        "    print(\"Word {} (\\\"{}\\\") appears {} time.\".format(bow_doc_7[i][0], \n",
        "                                               dictionary[bow_doc_7[i][0]], \n",
        "bow_doc_7[i][1]))"
      ],
      "execution_count": 25,
      "outputs": [
        {
          "output_type": "stream",
          "text": [
            "Word 3 (\"fell\") appears 1 time.\n",
            "Word 103 (\"employee\") appears 1 time.\n",
            "Word 104 (\"interstate\") appears 1 time.\n",
            "Word 105 (\"onto\") appears 1 time.\n",
            "Word 106 (\"ramp\") appears 1 time.\n",
            "Word 107 (\"southbound\") appears 1 time.\n",
            "Word 108 (\"spilled\") appears 1 time.\n",
            "Word 109 (\"trailer\") appears 1 time.\n",
            "Word 110 (\"transformer\") appears 1 time.\n",
            "Word 111 (\"turning\") appears 1 time.\n"
          ],
          "name": "stdout"
        }
      ]
    },
    {
      "cell_type": "markdown",
      "metadata": {
        "id": "1Wxc_5tExjii",
        "colab_type": "text"
      },
      "source": [
        "# Topic Modeling - Latent Dirichlet allocation"
      ]
    },
    {
      "cell_type": "code",
      "metadata": {
        "colab_type": "code",
        "id": "TY5SHRKkn_ma",
        "colab": {}
      },
      "source": [
        "lda_model_mine = gensim.models.LdaMulticore(bow_corpus, num_topics=5, id2word=dictionary, passes=2, workers=2)"
      ],
      "execution_count": 0,
      "outputs": []
    },
    {
      "cell_type": "markdown",
      "metadata": {
        "id": "3ZfOdEy84Gch",
        "colab_type": "text"
      },
      "source": [
        "# What are the Topics created using LDA ?"
      ]
    },
    {
      "cell_type": "code",
      "metadata": {
        "colab_type": "code",
        "id": "U3fD9iojoK6W",
        "outputId": "185c8c5f-98b7-46dc-c09d-64b5c57820a5",
        "colab": {
          "base_uri": "https://localhost:8080/",
          "height": 187
        }
      },
      "source": [
        "for idx, topic in lda_model_mine.print_topics(-1):\n",
        "    print('Topic: {} \\nWords: {}'.format(idx, topic))"
      ],
      "execution_count": 27,
      "outputs": [
        {
          "output_type": "stream",
          "text": [
            "Topic: 0 \n",
            "Words: 0.010*\"vehicle\" + 0.008*\"truck\" + 0.008*\"driver\" + 0.007*\"fire\" + 0.007*\"fell\" + 0.007*\"line\" + 0.006*\"damage\" + 0.005*\"ground\" + 0.005*\"foot\" + 0.005*\"oge\"\n",
            "Topic: 1 \n",
            "Words: 0.009*\"line\" + 0.007*\"load\" + 0.006*\"phase\" + 0.006*\"cable\" + 0.006*\"hit\" + 0.005*\"circuit\" + 0.005*\"valve\" + 0.005*\"driver\" + 0.005*\"pump\" + 0.005*\"truck\"\n",
            "Topic: 2 \n",
            "Words: 0.019*\"truck\" + 0.011*\"tree\" + 0.010*\"vehicle\" + 0.006*\"door\" + 0.005*\"found\" + 0.005*\"line\" + 0.005*\"boom\" + 0.005*\"fire\" + 0.004*\"damaged\" + 0.004*\"water\"\n",
            "Topic: 3 \n",
            "Words: 0.032*\"vehicle\" + 0.012*\"struck\" + 0.010*\"damage\" + 0.006*\"fell\" + 0.006*\"light\" + 0.006*\"rear\" + 0.006*\"ground\" + 0.006*\"pipe\" + 0.006*\"gate\" + 0.006*\"driver\"\n",
            "Topic: 4 \n",
            "Words: 0.008*\"fire\" + 0.006*\"vehicle\" + 0.005*\"operator\" + 0.005*\"incident\" + 0.005*\"control\" + 0.005*\"performing\" + 0.004*\"service\" + 0.004*\"employee\" + 0.004*\"breaker\" + 0.004*\"pole\"\n"
          ],
          "name": "stdout"
        }
      ]
    },
    {
      "cell_type": "markdown",
      "metadata": {
        "id": "G2YFJ3cA4WEw",
        "colab_type": "text"
      },
      "source": [
        "# Evaluation Metrics of LDA Model\n",
        "# An ideal LDA model should have low perplexity and high coherence scores."
      ]
    },
    {
      "cell_type": "code",
      "metadata": {
        "colab_type": "code",
        "id": "qTNRYNDjpTcz",
        "outputId": "39acfd1d-5ef8-4ec7-e355-bac2ddb47c73",
        "colab": {
          "base_uri": "https://localhost:8080/",
          "height": 85
        }
      },
      "source": [
        "from gensim.models import CoherenceModel\n",
        "# Compute Perplexity\n",
        "print('\\nPerplexity: ', lda_model_mine.log_perplexity(corpus))  # a measure of how good the model is. lower the better.\n",
        "\n",
        "# Compute Coherence Score\n",
        "coherence_model_lda = CoherenceModel(model=lda_model_mine, texts=tokens, dictionary=id2word, coherence='c_v')\n",
        "coherence_lda = coherence_model_lda.get_coherence()\n",
        "print('\\nCoherence Score: ', coherence_lda)"
      ],
      "execution_count": 0,
      "outputs": [
        {
          "output_type": "stream",
          "text": [
            "\n",
            "Perplexity:  -7.790233528196843\n",
            "\n",
            "Coherence Score:  0.34364664060199374\n"
          ],
          "name": "stdout"
        }
      ]
    },
    {
      "cell_type": "markdown",
      "metadata": {
        "id": "05LAh6ms3iOl",
        "colab_type": "text"
      },
      "source": [
        "# Check the tokens of a random observation before LDA model"
      ]
    },
    {
      "cell_type": "code",
      "metadata": {
        "colab_type": "code",
        "id": "OJtN9ryJoVxg",
        "outputId": "5bbd9f56-5032-4a39-8bfd-d0ab904b675e",
        "colab": {
          "base_uri": "https://localhost:8080/",
          "height": 34
        }
      },
      "source": [
        "tokens[7]"
      ],
      "execution_count": 0,
      "outputs": [
        {
          "output_type": "execute_result",
          "data": {
            "text/plain": [
              "WordList(['inventorying', 'grating', 'material', 'delivered', 'capital', 'project', 'tripped', 'piece', 'grating', 'extending', 'pallet', 'inventoried', 'fell', 'ground'])"
            ]
          },
          "metadata": {
            "tags": []
          },
          "execution_count": 42
        }
      ]
    },
    {
      "cell_type": "markdown",
      "metadata": {
        "id": "INh8Cvjp3tLl",
        "colab_type": "text"
      },
      "source": [
        "# For the same observation, heck the coherency scores assigned for each topic created by LDA model. For this observation, it primarily belongs to Topic 1 as it has the highest score"
      ]
    },
    {
      "cell_type": "code",
      "metadata": {
        "colab_type": "code",
        "id": "KSKW-bmXjY45",
        "outputId": "19e3a50b-0a10-4753-c09d-f9f8344985e1",
        "colab": {
          "base_uri": "https://localhost:8080/",
          "height": 272
        }
      },
      "source": [
        "for index, score in sorted(lda_model_mine[bow_corpus[7]], key=lambda tup: -1*tup[1]):\n",
        "    print(\"\\nScore: {}\\t \\nTopic: {}\".format(score, lda_model_mine.print_topic(index, 5)))"
      ],
      "execution_count": 29,
      "outputs": [
        {
          "output_type": "stream",
          "text": [
            "\n",
            "Score: 0.6360756158828735\t \n",
            "Topic: 0.010*\"vehicle\" + 0.008*\"truck\" + 0.008*\"driver\" + 0.007*\"fire\" + 0.007*\"fell\"\n",
            "\n",
            "Score: 0.30819398164749146\t \n",
            "Topic: 0.019*\"truck\" + 0.011*\"tree\" + 0.010*\"vehicle\" + 0.006*\"door\" + 0.005*\"found\"\n",
            "\n",
            "Score: 0.01863205060362816\t \n",
            "Topic: 0.009*\"line\" + 0.007*\"load\" + 0.006*\"phase\" + 0.006*\"cable\" + 0.006*\"hit\"\n",
            "\n",
            "Score: 0.01856720820069313\t \n",
            "Topic: 0.008*\"fire\" + 0.006*\"vehicle\" + 0.005*\"operator\" + 0.005*\"incident\" + 0.005*\"control\"\n",
            "\n",
            "Score: 0.018531154841184616\t \n",
            "Topic: 0.032*\"vehicle\" + 0.012*\"struck\" + 0.010*\"damage\" + 0.006*\"fell\" + 0.006*\"light\"\n"
          ],
          "name": "stdout"
        }
      ]
    },
    {
      "cell_type": "markdown",
      "metadata": {
        "id": "A1G6HAaP6Abw",
        "colab_type": "text"
      },
      "source": [
        "# Visualize LDA model created, using pyLDAvis package"
      ]
    },
    {
      "cell_type": "code",
      "metadata": {
        "colab_type": "code",
        "id": "AC6LwC6mAGVx",
        "colab": {}
      },
      "source": [
        "#!pip install pyLDAvis"
      ],
      "execution_count": 0,
      "outputs": []
    },
    {
      "cell_type": "markdown",
      "metadata": {
        "colab_type": "text",
        "id": "RQXrL6iPfssY"
      },
      "source": [
        "Each bubble on the left-hand side plot represents a topic. The larger the bubble, the more prevalent is that topic.\n",
        "\n",
        "A good topic model will have fairly big, non-overlapping bubbles scattered throughout the chart instead of being clustered in one quadrant.\n",
        "\n",
        "A model with too many topics, will typically have many overlaps, small sized bubbles clustered in one region of the chart.\n",
        "\n",
        "If you move the cursor over one of the bubbles, the words and bars on the right-hand side will update. These words are the salient keywords that form the selected topic."
      ]
    },
    {
      "cell_type": "code",
      "metadata": {
        "colab_type": "code",
        "id": "HAiuexoOppqA",
        "outputId": "9daf9213-1ba7-46ea-a2aa-37f23345de47",
        "colab": {
          "base_uri": "https://localhost:8080/",
          "height": 861
        }
      },
      "source": [
        "import pyLDAvis\n",
        "import pyLDAvis.gensim \n",
        "# Visualize the topics\n",
        "pd.options.display.max_colwidth = 5000\n",
        "pyLDAvis.enable_notebook()\n",
        "vis = pyLDAvis.gensim.prepare(lda_model_mine, bow_corpus, dictionary)\n",
        "pyLDAvis.display(vis)"
      ],
      "execution_count": 70,
      "outputs": [
        {
          "output_type": "execute_result",
          "data": {
            "text/html": [
              "\n",
              "<link rel=\"stylesheet\" type=\"text/css\" href=\"https://cdn.rawgit.com/bmabey/pyLDAvis/files/ldavis.v1.0.0.css\">\n",
              "\n",
              "\n",
              "<div id=\"ldavis_el1381406631392162643452106022\"></div>\n",
              "<script type=\"text/javascript\">\n",
              "\n",
              "var ldavis_el1381406631392162643452106022_data = {\"mdsDat\": {\"x\": [-0.015452145474874852, -0.07676016505740506, -0.03624600980080625, 0.0928946140633465, 0.03556370626973964], \"y\": [0.006364098701135275, 0.010588241518808161, -0.061724293239381334, -0.05090485901456401, 0.0956768120340019], \"topics\": [1, 2, 3, 4, 5], \"cluster\": [1, 1, 1, 1, 1], \"Freq\": [21.293018341064453, 21.028274536132812, 20.380084991455078, 19.763967514038086, 17.534648895263672]}, \"tinfo\": {\"Term\": [\"vehicle\", \"tree\", \"truck\", \"struck\", \"phase\", \"fire\", \"load\", \"boom\", \"gate\", \"cable\", \"circuit\", \"pipe\", \"driver\", \"incident\", \"damage\", \"pole\", \"employee\", \"limb\", \"switching\", \"forklift\", \"light\", \"tire\", \"foreman\", \"rear\", \"door\", \"inch\", \"arm\", \"lane\", \"lower\", \"ladder\", \"forman\", \"bundle\", \"valley\", \"tryon\", \"excavation\", \"flatbed\", \"accelerated\", \"69kv\", \"lube\", \"drilled\", \"discharge\", \"eave\", \"preparation\", \"pace\", \"look\", \"shattered\", \"skid-steer\", \"hauler\", \"backer\", \"inlet\", \"rod\", \"chip\", \"saver\", \"paper\", \"chipper\", \"jam\", \"bearing\", \"flaming\", \"avoided\", \"slow\", \"platform\", \"flange\", \"received\", \"scada\", \"train\", \"glove\", \"bollard\", \"system\", \"route\", \"3rd\", \"brace\", \"party\", \"path\", \"driver\", \"traffic\", \"fire\", \"foot\", \"insulation\", \"came\", \"oil\", \"trailer\", \"stick\", \"knee\", \"bucket\", \"fell\", \"line\", \"truck\", \"oge\", \"ground\", \"turbine\", \"vehicle\", \"bolt\", \"damage\", \"caused\", \"end\", \"operator\", \"contact\", \"approximately\", \"minor\", \"small\", \"removing\", \"hit\", \"first\", \"grating\", \"front\", \"door\", \"switching\", \"aid\", \"pump\", \"terrain\", \"away\", \"trimmer\", \"technician\", \"boom\", \"piv\", \"dump\", \"limb\", \"trolley\", \"chute\", \"intercooler\", \"retaining\", \"dual\", \"3\", \"i35\", \"cracked\", \"merging\", \"live\", \"stripping\", \"mowing\", \"h\", \"aware\", \"drop\", \"april\", \"mixer\", \"pas\", \"bottle\", \"ahead\", \"rough\", \"tree\", \"brush\", \"tire\", \"zone\", \"og\", \"e\", \"engine\", \"ladder\", \"truck\", \"forklift\", \"foreman\", \"lower\", \"wright\", \"wall\", \"chemical\", \"smoke\", \"road\", \"unloading\", \"scaffold\", \"fence\", \"found\", \"coal\", \"damaged\", \"door\", \"piece\", \"wheel\", \"stop\", \"vehicle\", \"water\", \"control\", \"fire\", \"line\", \"contact\", \"made\", \"noticed\", \"bucket\", \"damage\", \"struck\", \"service\", \"wire\", \"fell\", \"utv\", \"ballard\", \"draper\", \"threading\", \"clamp\", \"four\", \"se\", \"towed\", \"bulletin\", \"bone\", \"lodged\", \"v\", \"lifting\", \"chain\", \"core\", \"eastbound\", \"re-closer\", \"flashlight\", \"stung\", \"wasp\", \"vendor\", \"incorrectly\", \"nurse\", \"wish\", \"inch\", \"link\", \"northbound\", \"intersection\", \"contractor\", \"stood\", \"reader\", \"lot\", \"pipe\", \"gate\", \"struck\", \"private\", \"vehicle\", \"turn\", \"light\", \"lane\", \"leaving\", \"damage\", \"rear\", \"passenger\", \"highway\", \"shoulder\", \"pole\", \"grating\", \"reel\", \"car\", \"door\", \"ground\", \"oge\", \"first\", \"front\", \"close\", \"fell\", \"driver\", \"overhead\", \"aid\", \"red\", \"operator\", \"working\", \"fan\", \"stop\", \"service\", \"one\", \"truck\", \"fault\", \"conex\", \"walkway\", \"tread\", \"black\", \"gear\", \"2\", \"became\", \"breezeway\", \"phase\", \"training\", \"dumping\", \"crate\", \"throwing\", \"pick-up\", \"matting\", \"trash\", \"raise\", \"stress\", \"carport\", \"coil\", \"shaded\", \"threshold\", \"thin\", \"midway\", \"18\", \"\\u201d\", \"c-clamp\", \"hoist\", \"advised\", \"load\", \"plate\", \"station\", \"seal\", \"circuit\", \"security\", \"strap\", \"tubing\", \"pressure\", \"cable\", \"plant\", \"lock\", \"conductor\", \"barricaded\", \"tag\", \"band\", \"order\", \"basket\", \"another\", \"hit\", \"line\", \"new\", \"valve\", \"tool\", \"pump\", \"employee\", \"lift\", \"switch\", \"broke\", \"housing\", \"due\", \"driver\", \"one\", \"switching\", \"reported\", \"fell\", \"water\", \"truck\", \"ground\", \"service\", \"damage\", \"contact\", \"open\", \"pole\", \"noticed\", \"switchgear\", \"cavity\", \"changing\", \"pm3\", \"forehead\", \"compressor\", \"bjs\", \"branch\", \"analyzer\", \"chamber\", \"range\", \"plier\", \"connection\", \"hr\", \"psi\", \"disconnect\", \"plank\", \"week\", \"drivable\", \"restriction\", \"keeping\", \"contracted\", \"5\", \"temporary\", \"run\", \"establishing\", \"swelling\", \"pm\", \"sensation\", \"homeowner\", \"scraper\", \"damper\", \"incident\", \"arm\", \"fuel\", \"returned\", \"twisted\", \"performed\", \"box\", \"dead\", \"two\", \"performing\", \"fire\", \"cooler\", \"mark\", \"employee\", \"descending\", \"cut\", \"control\", \"clinic\", \"bottom\", \"running\", \"breaker\", \"operator\", \"switching\", \"removing\", \"loto\", \"reported\", \"hand\", \"discomfort\", \"hose\", \"used\", \"service\", \"felt\", \"pole\", \"first\", \"gas\", \"cable\", \"vehicle\", \"wire\", \"unit\", \"fall\", \"aid\", \"fell\", \"contact\", \"tree\"], \"Freq\": [133.0, 36.0, 90.0, 46.0, 18.0, 50.0, 20.0, 14.0, 21.0, 26.0, 18.0, 21.0, 49.0, 18.0, 54.0, 31.0, 22.0, 11.0, 22.0, 14.0, 29.0, 14.0, 12.0, 31.0, 39.0, 11.0, 12.0, 14.0, 16.0, 12.0, 4.6771769523620605, 3.9630520343780518, 3.251431703567505, 3.2400295734405518, 3.8775761127471924, 3.2132201194763184, 2.5290417671203613, 3.1019561290740967, 3.059180974960327, 2.4116523265838623, 3.0102479457855225, 1.738648772239685, 1.7385954856872559, 1.738621711730957, 1.7385910749435425, 1.7385549545288086, 1.7385143041610718, 1.738498568534851, 1.738450527191162, 1.738378882408142, 1.7383869886398315, 1.7382047176361084, 1.7378727197647095, 1.7378863096237183, 1.7378510236740112, 1.737749695777893, 1.736136794090271, 1.7152928113937378, 1.7119790315628052, 2.2671892642974854, 4.519050598144531, 3.9241905212402344, 4.359119892120361, 3.338855266571045, 3.3216075897216797, 3.3198609352111816, 3.3199071884155273, 8.600503921508789, 2.2370102405548096, 2.2338075637817383, 2.650301218032837, 2.198836088180542, 2.19451904296875, 19.15845489501953, 5.401008129119873, 17.938785552978516, 11.619086265563965, 6.981804370880127, 8.294831275939941, 6.918347358703613, 9.957247734069824, 5.815248966217041, 6.12514066696167, 10.405623435974121, 17.366498947143555, 17.27617645263672, 19.9443359375, 11.36827564239502, 12.557351112365723, 6.5699615478515625, 23.65339469909668, 5.986843585968018, 13.483077049255371, 7.899023056030273, 6.267974853515625, 10.064159393310547, 9.508784294128418, 7.737657070159912, 7.018161773681641, 7.361653804779053, 6.667118549346924, 7.932997703552246, 7.480215549468994, 6.6579108238220215, 6.703027725219727, 6.97738790512085, 6.510928630828857, 6.54568338394165, 6.566559791564941, 3.4010889530181885, 3.9694981575012207, 4.561634540557861, 3.897423267364502, 11.614566802978516, 2.590696096420288, 5.116527080535889, 8.50098991394043, 2.408222198486328, 2.406383752822876, 1.7812812328338623, 1.78118896484375, 1.7811933755874634, 1.7810394763946533, 1.7809441089630127, 1.7807981967926025, 1.7808408737182617, 1.7801845073699951, 1.780216932296753, 1.779312014579773, 1.7689908742904663, 1.7533924579620361, 1.7397313117980957, 1.7345551252365112, 2.299112319946289, 1.7224791049957275, 1.7194418907165527, 1.7146440744400024, 3.400979518890381, 25.359119415283203, 3.972611427307129, 9.670713424682617, 3.345707654953003, 5.377665042877197, 5.350602149963379, 4.2935566902160645, 7.4878740310668945, 44.98184585571289, 8.813040733337402, 7.724556922912598, 9.39073657989502, 3.672384262084961, 5.291438102722168, 3.9529733657836914, 5.845256328582764, 8.610361099243164, 4.2966227531433105, 7.255636692047119, 6.039233684539795, 12.284915924072266, 6.813938140869141, 9.969576835632324, 13.975004196166992, 7.204218864440918, 6.244333744049072, 8.285295486450195, 23.390857696533203, 9.95734691619873, 9.263376235961914, 11.61133861541748, 12.140838623046875, 8.82938289642334, 7.592806816101074, 7.837857723236084, 7.8455095291137695, 9.273016929626465, 8.633424758911133, 8.02116584777832, 7.422832489013672, 7.8828864097595215, 2.6716866493225098, 2.671506404876709, 3.298097848892212, 3.290147304534912, 2.627565383911133, 5.073780536651611, 1.8366376161575317, 1.8364709615707397, 1.8363475799560547, 1.836232304573059, 1.8296648263931274, 1.8252848386764526, 6.05216121673584, 4.227657318115234, 1.8111960887908936, 1.8069521188735962, 1.8040850162506104, 1.7998933792114258, 1.7920870780944824, 1.789725661277771, 1.761866807937622, 1.7513375282287598, 1.7302134037017822, 1.7278486490249634, 8.062803268432617, 1.7188000679016113, 2.2717556953430176, 4.429476737976074, 1.6592758893966675, 1.641823410987854, 3.8272175788879395, 5.937979221343994, 13.563788414001465, 13.562142372131348, 27.994428634643555, 5.414644718170166, 72.3575210571289, 8.617735862731934, 14.235398292541504, 7.733685493469238, 5.921590805053711, 22.163721084594727, 14.212479591369629, 7.477555274963379, 4.301909923553467, 4.582252502441406, 12.698583602905273, 9.056135177612305, 2.672489881515503, 5.534898281097412, 13.277337074279785, 13.93503189086914, 12.040635108947754, 10.678049087524414, 9.340431213378906, 6.747429370880127, 14.609623908996582, 13.33651351928711, 7.555665969848633, 8.140551567077637, 6.968492031097412, 9.5465726852417, 7.882568359375, 6.944650173187256, 7.164019584655762, 8.17248249053955, 7.711694717407227, 8.975953102111816, 3.359955310821533, 2.562228202819824, 2.561173677444458, 2.560835361480713, 2.5383498668670654, 2.523548126220703, 2.5117766857147217, 3.732222557067871, 2.461790084838867, 14.11818790435791, 2.454353094100952, 2.4475975036621094, 1.7616560459136963, 1.7615890502929688, 1.7613584995269775, 1.7613377571105957, 1.7612605094909668, 1.7612025737762451, 1.7610965967178345, 1.7609204053878784, 1.7608526945114136, 1.7608355283737183, 1.7608146667480469, 1.7606943845748901, 1.7602994441986084, 1.7519999742507935, 1.7471020221710205, 1.7469050884246826, 1.745258092880249, 1.743522047996521, 14.59611701965332, 3.9918956756591797, 6.225225448608398, 2.880265951156616, 12.236285209655762, 6.293166160583496, 5.767195224761963, 4.745844841003418, 4.571272373199463, 13.6399507522583, 9.59981918334961, 6.338871955871582, 4.638895034790039, 6.421778202056885, 4.634450912475586, 2.2161002159118652, 4.606454849243164, 3.8224406242370605, 5.171558856964111, 12.509926795959473, 19.13189125061035, 9.039042472839355, 11.35547924041748, 7.165628910064697, 11.019777297973633, 8.847375869750977, 7.77357816696167, 9.05552864074707, 8.00400161743164, 4.844658374786377, 6.697303295135498, 11.327991485595703, 8.431938171386719, 7.220092296600342, 7.089571475982666, 9.901168823242188, 7.763667106628418, 10.360018730163574, 8.059651374816895, 7.196977615356445, 7.973972320556641, 6.98595666885376, 6.647420406341553, 6.681303024291992, 6.422921180725098, 3.7916133403778076, 2.471684694290161, 2.470524311065674, 2.4487876892089844, 2.4127635955810547, 3.0059800148010254, 2.3842318058013916, 3.496764898300171, 1.6993855237960815, 1.6990761756896973, 1.6990578174591064, 1.6989109516143799, 1.6988716125488281, 1.6989015340805054, 1.698770523071289, 1.6985740661621094, 1.6984463930130005, 1.6984342336654663, 1.6978622674942017, 1.6958779096603394, 1.6945195198059082, 1.6782563924789429, 1.6571483612060547, 3.260430335998535, 1.6327130794525146, 1.6265392303466797, 1.6253244876861572, 1.6204254627227783, 1.6202443838119507, 1.5780105590820312, 3.149538040161133, 4.466629505157471, 10.376326560974121, 6.9897379875183105, 5.259488105773926, 7.681065082550049, 4.413519382476807, 4.397566795349121, 6.579629421234131, 3.180820941925049, 6.581262588500977, 9.102766990661621, 15.678295135498047, 3.78460431098938, 2.4627492427825928, 8.403312683105469, 3.1359832286834717, 7.88254451751709, 9.743419647216797, 2.4149997234344482, 6.500856876373291, 4.31795072555542, 8.100213050842285, 10.42985725402832, 7.45041036605835, 6.480371475219727, 7.528237819671631, 6.924786567687988, 6.709356307983398, 6.0973029136657715, 5.6224846839904785, 5.106545448303223, 8.543581008911133, 6.663726806640625, 7.9781646728515625, 7.8168745040893555, 6.063370704650879, 6.915168762207031, 12.009506225585938, 6.970869541168213, 6.571569919586182, 6.26206636428833, 6.338809967041016, 7.296421051025391, 6.709179401397705, 6.313467502593994], \"Total\": [133.0, 36.0, 90.0, 46.0, 18.0, 50.0, 20.0, 14.0, 21.0, 26.0, 18.0, 21.0, 49.0, 18.0, 54.0, 31.0, 22.0, 11.0, 22.0, 14.0, 29.0, 14.0, 12.0, 31.0, 39.0, 11.0, 12.0, 14.0, 16.0, 12.0, 5.543060302734375, 4.758443355560303, 3.9625844955444336, 3.9622461795806885, 4.749506950378418, 3.9672303199768066, 3.173579454421997, 3.9661269187927246, 3.964168071746826, 3.171471118927002, 3.976773500442505, 2.3829898834228516, 2.3829636573791504, 2.3830201625823975, 2.3829996585845947, 2.383009195327759, 2.3829615116119385, 2.3829596042633057, 2.382932186126709, 2.3830153942108154, 2.383042812347412, 2.382931709289551, 2.3829495906829834, 2.383016586303711, 2.3829805850982666, 2.3829751014709473, 2.3830347061157227, 2.383237838745117, 2.384422540664673, 3.167550563812256, 6.354174613952637, 5.5945892333984375, 6.333525657653809, 4.7872395515441895, 4.764954566955566, 4.773730754852295, 4.773887634277344, 14.303886413574219, 3.176121950149536, 3.1778459548950195, 3.9723048210144043, 3.1789984703063965, 3.1805622577667236, 49.98042297363281, 10.40946102142334, 50.649688720703125, 28.782957077026367, 15.172740936279297, 19.177555084228516, 15.068248748779297, 24.96346664428711, 11.903463363647461, 12.832356452941895, 27.09795570373535, 57.05659866333008, 59.26292419433594, 90.09854125976562, 36.363101959228516, 43.65664291381836, 14.986673355102539, 133.0285186767578, 12.807271957397461, 54.4412841796875, 21.634910583496094, 14.339093208312988, 36.75910186767578, 35.09440994262695, 24.877037048339844, 20.0161075592041, 23.35207748413086, 18.16080665588379, 32.18156814575195, 30.512741088867188, 20.250633239746094, 25.945125579833984, 39.80402755737305, 22.097877502441406, 24.04933738708496, 29.463462829589844, 4.041721343994141, 4.8563737869262695, 5.648172855377197, 4.845284461975098, 14.479175567626953, 3.2316112518310547, 6.462765216827393, 11.232807159423828, 3.2295799255371094, 3.2271313667297363, 2.4217493534088135, 2.4216792583465576, 2.4217371940612793, 2.421679973602295, 2.4217159748077393, 2.421619415283203, 2.421722650527954, 2.4216439723968506, 2.4217114448547363, 2.4216034412384033, 2.4210920333862305, 2.421476364135742, 2.420703172683716, 2.419689416885376, 3.2245702743530273, 2.418980836868286, 2.4202232360839844, 2.4200572967529297, 4.831756114959717, 36.117958068847656, 5.683859348297119, 14.581197738647461, 4.872200965881348, 8.093603134155273, 8.0943603515625, 6.476704120635986, 12.006900787353516, 90.09854125976562, 14.51248836517334, 12.779404640197754, 16.140151977539062, 5.645417213439941, 8.891222953796387, 6.4115376472473145, 10.406364440917969, 16.89437484741211, 7.23114013671875, 14.38122844696045, 11.347953796386719, 29.726734161376953, 13.674431800842285, 23.4497127532959, 39.80402755737305, 16.03345489501953, 12.863868713378906, 20.32152557373047, 133.0285186767578, 30.645145416259766, 30.20940399169922, 50.649688720703125, 59.26292419433594, 35.09440994262695, 24.13032341003418, 26.49201202392578, 27.09795570373535, 54.4412841796875, 46.702022552490234, 35.30818557739258, 28.86684226989746, 57.05659866333008, 3.307499647140503, 3.307405471801758, 4.133989334106445, 4.130102634429932, 3.3056459426879883, 6.596668243408203, 2.472184658050537, 2.4722213745117188, 2.4721035957336426, 2.4721860885620117, 2.472022771835327, 2.4713714122772217, 8.225757598876953, 5.7488694190979, 2.471186399459839, 2.4699604511260986, 2.4708127975463867, 2.4701945781707764, 2.4700310230255127, 2.4697868824005127, 2.4683992862701416, 2.469297170639038, 2.4661130905151367, 2.4657561779022217, 11.509150505065918, 2.466318130493164, 3.2811083793640137, 6.554927349090576, 2.466273307800293, 2.464085578918457, 5.757441520690918, 9.019654273986816, 21.349838256835938, 21.37255859375, 46.702022552490234, 8.24753475189209, 133.0285186767578, 15.478537559509277, 29.15362548828125, 14.661787033081055, 10.61363697052002, 54.4412841796875, 31.631240844726562, 14.739896774291992, 7.3675384521484375, 8.14126968383789, 31.417863845825195, 20.250633239746094, 4.097857475280762, 11.313248634338379, 39.80402755737305, 43.65664291381836, 36.363101959228516, 30.512741088867188, 25.945125579833984, 15.456302642822266, 57.05659866333008, 49.98042297363281, 19.50706672668457, 24.04933738708496, 17.800704956054688, 36.75910186767578, 24.96515655517578, 17.80872917175293, 20.32152557373047, 35.30818557739258, 28.92241859436035, 90.09854125976562, 4.005796909332275, 3.204866886138916, 3.2048087120056152, 3.2047507762908936, 3.205115556716919, 3.2034358978271484, 3.2046959400177, 4.809503555297852, 3.201943874359131, 18.456602096557617, 3.2094521522521973, 3.20607852935791, 2.403879165649414, 2.4038522243499756, 2.403738260269165, 2.4038517475128174, 2.4038467407226562, 2.4038310050964355, 2.403872013092041, 2.4038045406341553, 2.403810739517212, 2.4038264751434326, 2.4038491249084473, 2.403885841369629, 2.4038925170898438, 2.403512716293335, 2.403310537338257, 2.4033074378967285, 2.403268814086914, 2.4036009311676025, 20.847381591796875, 5.581015586853027, 8.846399307250977, 4.009549617767334, 18.361177444458008, 9.645966529846191, 8.832173347473145, 7.273676872253418, 7.227947235107422, 26.259138107299805, 18.439334869384766, 11.240962982177734, 7.9939470291137695, 12.035640716552734, 8.02227783203125, 3.2001287937164307, 8.021397590637207, 6.4276885986328125, 9.669804573059082, 32.18156814575195, 59.26292419433594, 21.034133911132812, 29.599878311157227, 15.282559394836426, 29.463462829589844, 22.112876892089844, 18.60603141784668, 24.078121185302734, 21.73100471496582, 9.62858772277832, 17.59231948852539, 49.98042297363281, 28.92241859436035, 22.097877502441406, 21.524742126464844, 57.05659866333008, 30.645145416259766, 90.09854125976562, 43.65664291381836, 35.30818557739258, 54.4412841796875, 35.09440994262695, 28.008346557617188, 31.417863845825195, 26.49201202392578, 4.673525333404541, 3.1199278831481934, 3.1198790073394775, 3.1210436820983887, 3.1220932006835938, 3.899646759033203, 3.126964569091797, 4.683008670806885, 2.347245931625366, 2.347186326980591, 2.3471739292144775, 2.3471715450286865, 2.3471179008483887, 2.347209930419922, 2.3472180366516113, 2.347181797027588, 2.3471546173095703, 2.3472723960876465, 2.3472189903259277, 2.3473968505859375, 2.3472938537597656, 2.3488833904266357, 2.3503661155700684, 4.69277286529541, 2.3525073528289795, 2.350771903991699, 2.350592613220215, 2.349027156829834, 2.350942611694336, 2.3513965606689453, 4.703736782073975, 7.095044136047363, 18.13231086730957, 12.599384307861328, 9.477216720581055, 15.021814346313477, 7.8273115158081055, 7.837424278259277, 14.244388580322266, 5.495739936828613, 15.032247543334961, 23.777923583984375, 50.649688720703125, 7.055814743041992, 3.9140567779541016, 22.112876892089844, 5.518098831176758, 21.416440963745117, 30.20940399169922, 3.9368810653686523, 17.410472869873047, 9.493929862976074, 24.734752655029297, 36.75910186767578, 22.097877502441406, 18.16080665588379, 24.734703063964844, 21.524742126464844, 20.675350189208984, 17.483020782470703, 15.072290420532227, 12.677660942077637, 35.30818557739258, 21.581401824951172, 31.417863845825195, 30.512741088867188, 18.26084327697754, 26.259138107299805, 133.0285186767578, 28.86684226989746, 25.50971031188965, 22.341670989990234, 24.04933738708496, 57.05659866333008, 35.09440994262695, 36.117958068847656], \"Category\": [\"Default\", \"Default\", \"Default\", \"Default\", \"Default\", \"Default\", \"Default\", \"Default\", \"Default\", \"Default\", \"Default\", \"Default\", \"Default\", \"Default\", \"Default\", \"Default\", \"Default\", \"Default\", \"Default\", \"Default\", \"Default\", \"Default\", \"Default\", \"Default\", \"Default\", \"Default\", \"Default\", \"Default\", \"Default\", \"Default\", \"Topic1\", \"Topic1\", \"Topic1\", \"Topic1\", \"Topic1\", \"Topic1\", \"Topic1\", \"Topic1\", \"Topic1\", \"Topic1\", \"Topic1\", \"Topic1\", \"Topic1\", \"Topic1\", \"Topic1\", \"Topic1\", \"Topic1\", \"Topic1\", \"Topic1\", \"Topic1\", \"Topic1\", \"Topic1\", \"Topic1\", \"Topic1\", \"Topic1\", \"Topic1\", \"Topic1\", \"Topic1\", \"Topic1\", \"Topic1\", \"Topic1\", \"Topic1\", \"Topic1\", \"Topic1\", \"Topic1\", \"Topic1\", \"Topic1\", \"Topic1\", \"Topic1\", \"Topic1\", \"Topic1\", \"Topic1\", \"Topic1\", \"Topic1\", \"Topic1\", \"Topic1\", \"Topic1\", \"Topic1\", \"Topic1\", \"Topic1\", \"Topic1\", \"Topic1\", \"Topic1\", \"Topic1\", \"Topic1\", \"Topic1\", \"Topic1\", \"Topic1\", \"Topic1\", \"Topic1\", \"Topic1\", \"Topic1\", \"Topic1\", \"Topic1\", \"Topic1\", \"Topic1\", \"Topic1\", \"Topic1\", \"Topic1\", \"Topic1\", \"Topic1\", \"Topic1\", \"Topic1\", \"Topic1\", \"Topic1\", \"Topic1\", \"Topic1\", \"Topic1\", \"Topic1\", \"Topic2\", \"Topic2\", \"Topic2\", \"Topic2\", \"Topic2\", \"Topic2\", \"Topic2\", \"Topic2\", \"Topic2\", \"Topic2\", \"Topic2\", \"Topic2\", \"Topic2\", \"Topic2\", \"Topic2\", \"Topic2\", \"Topic2\", \"Topic2\", \"Topic2\", \"Topic2\", \"Topic2\", \"Topic2\", \"Topic2\", \"Topic2\", \"Topic2\", \"Topic2\", \"Topic2\", \"Topic2\", \"Topic2\", \"Topic2\", \"Topic2\", \"Topic2\", \"Topic2\", \"Topic2\", \"Topic2\", \"Topic2\", \"Topic2\", \"Topic2\", \"Topic2\", \"Topic2\", \"Topic2\", \"Topic2\", \"Topic2\", \"Topic2\", \"Topic2\", \"Topic2\", \"Topic2\", \"Topic2\", \"Topic2\", \"Topic2\", \"Topic2\", \"Topic2\", \"Topic2\", \"Topic2\", \"Topic2\", \"Topic2\", \"Topic2\", \"Topic2\", \"Topic2\", \"Topic2\", \"Topic2\", \"Topic2\", \"Topic2\", \"Topic2\", \"Topic2\", \"Topic2\", \"Topic2\", \"Topic2\", \"Topic2\", \"Topic2\", \"Topic3\", \"Topic3\", \"Topic3\", \"Topic3\", \"Topic3\", \"Topic3\", \"Topic3\", \"Topic3\", \"Topic3\", \"Topic3\", \"Topic3\", \"Topic3\", \"Topic3\", \"Topic3\", \"Topic3\", \"Topic3\", \"Topic3\", \"Topic3\", \"Topic3\", \"Topic3\", \"Topic3\", \"Topic3\", \"Topic3\", \"Topic3\", \"Topic3\", \"Topic3\", \"Topic3\", \"Topic3\", \"Topic3\", \"Topic3\", \"Topic3\", \"Topic3\", \"Topic3\", \"Topic3\", \"Topic3\", \"Topic3\", \"Topic3\", \"Topic3\", \"Topic3\", \"Topic3\", \"Topic3\", \"Topic3\", \"Topic3\", \"Topic3\", \"Topic3\", \"Topic3\", \"Topic3\", \"Topic3\", \"Topic3\", \"Topic3\", \"Topic3\", \"Topic3\", \"Topic3\", \"Topic3\", \"Topic3\", \"Topic3\", \"Topic3\", \"Topic3\", \"Topic3\", \"Topic3\", \"Topic3\", \"Topic3\", \"Topic3\", \"Topic3\", \"Topic3\", \"Topic3\", \"Topic3\", \"Topic3\", \"Topic4\", \"Topic4\", \"Topic4\", \"Topic4\", \"Topic4\", \"Topic4\", \"Topic4\", \"Topic4\", \"Topic4\", \"Topic4\", \"Topic4\", \"Topic4\", \"Topic4\", \"Topic4\", \"Topic4\", \"Topic4\", \"Topic4\", \"Topic4\", \"Topic4\", \"Topic4\", \"Topic4\", \"Topic4\", \"Topic4\", \"Topic4\", \"Topic4\", \"Topic4\", \"Topic4\", \"Topic4\", \"Topic4\", \"Topic4\", \"Topic4\", \"Topic4\", \"Topic4\", \"Topic4\", \"Topic4\", \"Topic4\", \"Topic4\", \"Topic4\", \"Topic4\", \"Topic4\", \"Topic4\", \"Topic4\", \"Topic4\", \"Topic4\", \"Topic4\", \"Topic4\", \"Topic4\", \"Topic4\", \"Topic4\", \"Topic4\", \"Topic4\", \"Topic4\", \"Topic4\", \"Topic4\", \"Topic4\", \"Topic4\", \"Topic4\", \"Topic4\", \"Topic4\", \"Topic4\", \"Topic4\", \"Topic4\", \"Topic4\", \"Topic4\", \"Topic4\", \"Topic4\", \"Topic4\", \"Topic4\", \"Topic4\", \"Topic4\", \"Topic4\", \"Topic4\", \"Topic4\", \"Topic4\", \"Topic4\", \"Topic5\", \"Topic5\", \"Topic5\", \"Topic5\", \"Topic5\", \"Topic5\", \"Topic5\", \"Topic5\", \"Topic5\", \"Topic5\", \"Topic5\", \"Topic5\", \"Topic5\", \"Topic5\", \"Topic5\", \"Topic5\", \"Topic5\", \"Topic5\", \"Topic5\", \"Topic5\", \"Topic5\", \"Topic5\", \"Topic5\", \"Topic5\", \"Topic5\", \"Topic5\", \"Topic5\", \"Topic5\", \"Topic5\", \"Topic5\", \"Topic5\", \"Topic5\", \"Topic5\", \"Topic5\", \"Topic5\", \"Topic5\", \"Topic5\", \"Topic5\", \"Topic5\", \"Topic5\", \"Topic5\", \"Topic5\", \"Topic5\", \"Topic5\", \"Topic5\", \"Topic5\", \"Topic5\", \"Topic5\", \"Topic5\", \"Topic5\", \"Topic5\", \"Topic5\", \"Topic5\", \"Topic5\", \"Topic5\", \"Topic5\", \"Topic5\", \"Topic5\", \"Topic5\", \"Topic5\", \"Topic5\", \"Topic5\", \"Topic5\", \"Topic5\", \"Topic5\", \"Topic5\", \"Topic5\", \"Topic5\", \"Topic5\", \"Topic5\", \"Topic5\", \"Topic5\", \"Topic5\", \"Topic5\", \"Topic5\", \"Topic5\"], \"logprob\": [30.0, 29.0, 28.0, 27.0, 26.0, 25.0, 24.0, 23.0, 22.0, 21.0, 20.0, 19.0, 18.0, 17.0, 16.0, 15.0, 14.0, 13.0, 12.0, 11.0, 10.0, 9.0, 8.0, 7.0, 6.0, 5.0, 4.0, 3.0, 2.0, 1.0, -6.239299774169922, -6.404900074005127, -6.60290002822876, -6.606400012969971, -6.426700115203857, -6.614699840545654, -6.854100227355957, -6.649899959564209, -6.66379976272583, -6.901599884033203, -6.679900169372559, -7.228799819946289, -7.228899955749512, -7.228899955749512, -7.228899955749512, -7.228899955749512, -7.228899955749512, -7.228899955749512, -7.229000091552734, -7.229000091552734, -7.229000091552734, -7.229100227355957, -7.229300022125244, -7.229300022125244, -7.229300022125244, -7.229400157928467, -7.230299949645996, -7.242400169372559, -7.24429988861084, -6.963399887084961, -6.27370023727417, -6.41480016708374, -6.309700012207031, -6.576300144195557, -6.581500053405762, -6.581999778747559, -6.581999778747559, -5.630099773406982, -6.976799964904785, -6.9781999588012695, -6.807300090789795, -6.99399995803833, -6.995999813079834, -4.82919979095459, -6.095399856567383, -4.894999980926514, -5.3292999267578125, -5.838600158691406, -5.666299819946289, -5.847799777984619, -5.483699798583984, -6.021500110626221, -5.969600200653076, -5.439599990844727, -4.9274001121521, -4.932600021362305, -4.789000034332275, -5.351099967956543, -5.2515997886657715, -5.899400234222412, -4.6184000968933105, -5.992400169372559, -5.180500030517578, -5.715199947357178, -5.946499824523926, -5.4730000495910645, -5.529699802398682, -5.735899925231934, -5.833499908447266, -5.785699844360352, -5.884799957275391, -5.710899829864502, -5.769700050354004, -5.886099815368652, -5.87939977645874, -5.839300155639648, -5.9085001945495605, -5.90310001373291, -5.900000095367432, -6.545300006866455, -6.3907999992370605, -6.251800060272217, -6.40910005569458, -5.317200183868408, -6.817500114440918, -6.13700008392334, -5.629300117492676, -6.890600204467773, -6.891300201416016, -7.1921000480651855, -7.192200183868408, -7.192200183868408, -7.192200183868408, -7.192299842834473, -7.192399978637695, -7.192399978637695, -7.192699909210205, -7.192699909210205, -7.19320011138916, -7.198999881744385, -7.207900047302246, -7.215700149536133, -7.218699932098389, -6.9369001388549805, -7.2256999015808105, -7.227399826049805, -7.230199813842773, -6.545400142669678, -4.536300182342529, -6.389999866485596, -5.50029993057251, -6.561800003051758, -6.087200164794922, -6.092199802398682, -6.312300205230713, -5.756199836730957, -3.963200092315674, -5.593200206756592, -5.724999904632568, -5.529699802398682, -6.468599796295166, -6.103400230407715, -6.394999980926514, -6.003799915313721, -5.616499900817871, -6.311600208282471, -5.787700176239014, -5.971199989318848, -5.261099815368652, -5.850500106811523, -5.469900131225586, -5.132199764251709, -5.7947998046875, -5.93779993057251, -5.65500020980835, -4.617099761962891, -5.471099853515625, -5.543399810791016, -5.317500114440918, -5.272900104522705, -5.591400146484375, -5.742199897766113, -5.7104997634887695, -5.709499835968018, -5.542300224304199, -5.613800048828125, -5.687399864196777, -5.764900207519531, -5.704699993133545, -6.75540018081665, -6.755499839782715, -6.5447998046875, -6.5472002029418945, -6.77209997177124, -6.113999843597412, -7.130199909210205, -7.130300045013428, -7.13040018081665, -7.13040018081665, -7.133999824523926, -7.13640022277832, -5.937699794769287, -6.296500205993652, -7.144100189208984, -7.146500110626221, -7.148099899291992, -7.150400161743164, -7.154799938201904, -7.156099796295166, -7.171800136566162, -7.177800178527832, -7.189899921417236, -7.191299915313721, -5.650899887084961, -7.196499824523926, -6.917600154876709, -6.249899864196777, -7.231800079345703, -7.242300033569336, -6.395999908447266, -5.9567999839782715, -5.13070011138916, -5.130899906158447, -4.406099796295166, -6.048999786376953, -3.4565000534057617, -5.5843000411987305, -5.082399845123291, -5.692500114440918, -5.959499835968018, -4.639699935913086, -5.084000110626221, -5.726200103759766, -6.279099941253662, -6.21589994430542, -5.196599960327148, -5.5346999168396, -6.755099773406982, -6.027100086212158, -5.152100086212158, -5.103700160980225, -5.249800205230713, -5.369900226593018, -5.503799915313721, -5.828999996185303, -5.05649995803833, -5.147600173950195, -5.715799808502197, -5.641300201416016, -5.7967000007629395, -5.48199987411499, -5.673500061035156, -5.80019998550415, -5.769100189208984, -5.637400150299072, -5.695400238037109, -5.543600082397461, -6.495500087738037, -6.766600131988525, -6.767000198364258, -6.767099857330322, -6.775899887084961, -6.781799793243408, -6.786399841308594, -6.390399932861328, -6.80649995803833, -5.059999942779541, -6.809599876403809, -6.812300205230713, -7.141200065612793, -7.141200065612793, -7.14139986038208, -7.14139986038208, -7.14139986038208, -7.14139986038208, -7.141499996185303, -7.141600131988525, -7.141600131988525, -7.141600131988525, -7.14169979095459, -7.14169979095459, -7.142000198364258, -7.146699905395508, -7.149499893188477, -7.149600028991699, -7.1504998207092285, -7.151500225067139, -5.026700019836426, -6.323200225830078, -5.878799915313721, -6.649600028991699, -5.203000068664551, -5.868000030517578, -5.9552001953125, -6.150199890136719, -6.187600135803223, -5.094399929046631, -5.445700168609619, -5.8607001304626465, -6.172999858856201, -5.847700119018555, -6.173900127410889, -6.9116997718811035, -6.179999828338623, -6.366499900817871, -6.064300060272217, -5.1809000968933105, -4.756100177764893, -5.505899906158447, -5.277699947357178, -5.738100051879883, -5.307700157165527, -5.527299880981445, -5.656700134277344, -5.5040998458862305, -5.627500057220459, -6.1296000480651855, -5.805699825286865, -5.280200004577637, -5.575399875640869, -5.730599880218506, -5.748799800872803, -5.41480016708374, -5.6579999923706055, -5.369500160217285, -5.62060022354126, -5.733799934387207, -5.63129997253418, -5.763500213623047, -5.813199996948242, -5.80810022354126, -5.847599983215332, -6.255000114440918, -6.6828999519348145, -6.683300018310547, -6.692200183868408, -6.706999778747559, -6.487199783325195, -6.718900203704834, -6.335899829864502, -7.057499885559082, -7.057700157165527, -7.057700157165527, -7.057799816131592, -7.057799816131592, -7.057799816131592, -7.057799816131592, -7.058000087738037, -7.058000087738037, -7.058000087738037, -7.0584001541137695, -7.059599876403809, -7.060400009155273, -7.070000171661377, -7.082699775695801, -6.405900001525879, -7.097499847412109, -7.10129976272583, -7.1020002365112305, -7.105100154876709, -7.105199813842773, -7.1315999031066895, -6.440499782562256, -6.091100215911865, -5.248199939727783, -5.6433000564575195, -5.927700042724609, -5.548999786376953, -6.103099822998047, -6.1066999435424805, -5.703800201416016, -6.430600166320801, -5.703499794006348, -5.379199981689453, -4.8354997634887695, -6.256800174713135, -6.686500072479248, -5.459099769592285, -6.444799900054932, -5.523099899291992, -5.311200141906738, -6.706099987030029, -5.715799808502197, -6.125, -5.4959001541137695, -5.243100166320801, -5.579500198364258, -5.718999862670898, -5.5690999031066895, -5.652599811553955, -5.684299945831299, -5.779900074005127, -5.861000061035156, -5.957200050354004, -5.442599773406982, -5.691100120544434, -5.511000156402588, -5.531499862670898, -5.7855000495910645, -5.6539998054504395, -5.102099895477295, -5.645999908447266, -5.704999923706055, -5.753200054168701, -5.741099834442139, -5.600399971008301, -5.684299945831299, -5.745100021362305], \"loglift\": [30.0, 29.0, 28.0, 27.0, 26.0, 25.0, 24.0, 23.0, 22.0, 21.0, 20.0, 19.0, 18.0, 17.0, 16.0, 15.0, 14.0, 13.0, 12.0, 11.0, 10.0, 9.0, 8.0, 7.0, 6.0, 5.0, 4.0, 3.0, 2.0, 1.0, 1.3768999576568604, 1.3638999462127686, 1.3489999771118164, 1.3456000089645386, 1.343999981880188, 1.3359999656677246, 1.3198000192642212, 1.3009999990463257, 1.287600040435791, 1.2728999853134155, 1.2683000564575195, 1.2315000295639038, 1.2315000295639038, 1.2315000295639038, 1.2315000295639038, 1.2315000295639038, 1.2315000295639038, 1.2315000295639038, 1.2315000295639038, 1.2314000129699707, 1.2314000129699707, 1.2312999963760376, 1.2310999631881714, 1.2310999631881714, 1.2310999631881714, 1.2309999465942383, 1.2301000356674194, 1.217900037765503, 1.215499997138977, 1.212399959564209, 1.2059999704360962, 1.192199945449829, 1.173200011253357, 1.1864999532699585, 1.1859999895095825, 1.1835999488830566, 1.1835999488830566, 1.038100004196167, 1.1963000297546387, 1.1943000555038452, 1.1420999765396118, 1.1782000064849854, 1.1756999492645264, 0.5878999829292297, 0.8906999826431274, 0.5088000297546387, 0.6396999955177307, 0.7706000208854675, 0.7087000012397766, 0.7684000134468079, 0.6276999711990356, 0.8303999900817871, 0.807200014591217, 0.5896999835968018, 0.3573000133037567, 0.3140999972820282, 0.03880000114440918, 0.3840999901294708, 0.30070000886917114, 0.722100019454956, -0.18029999732971191, 0.786300003528595, 0.15109999477863312, 0.5392000079154968, 0.7192999720573425, 0.2513999938964844, 0.2409999966621399, 0.3788999915122986, 0.49880000948905945, 0.39239999651908875, 0.544700026512146, 0.14640000462532043, 0.14090000092983246, 0.4343999922275543, 0.19339999556541443, -0.19449999928474426, 0.3248000144958496, 0.24549999833106995, 0.04560000076889992, 1.3867000341415405, 1.3575999736785889, 1.3457000255584717, 1.341599941253662, 1.3388999700546265, 1.3381999731063843, 1.325700044631958, 1.2805999517440796, 1.2657999992370605, 1.2657999992370605, 1.2520999908447266, 1.2520999908447266, 1.2520999908447266, 1.2519999742507935, 1.2519999742507935, 1.2518999576568604, 1.2518999576568604, 1.2516000270843506, 1.2516000270843506, 1.251099944114685, 1.2454999685287476, 1.2365000247955322, 1.2289999723434448, 1.2264000177383423, 1.2209999561309814, 1.2196999788284302, 1.2173999547958374, 1.2146999835968018, 1.2081999778747559, 1.2057000398635864, 1.2010999917984009, 1.1486999988555908, 1.18340003490448, 1.1505000591278076, 1.145300030708313, 1.1482000350952148, 1.0871000289916992, 0.8647000193595886, 1.0605000257492065, 1.055899977684021, 1.017699956893921, 1.1292999982833862, 1.0403000116348267, 1.075700044631958, 0.9825000166893005, 0.8852999806404114, 1.038699984550476, 0.8751999735832214, 0.9284999966621399, 0.675599992275238, 0.8626999855041504, 0.7039999961853027, 0.5126000046730042, 0.7592999935150146, 0.8366000056266785, 0.6621000170707703, -0.17890000343322754, 0.4350999891757965, 0.37720000743865967, 0.08640000224113464, -0.026100000366568565, 0.179299995303154, 0.40299999713897705, 0.34139999747276306, 0.3197999894618988, -0.21070000529289246, -0.12880000472068787, 0.07729999721050262, 0.2011999934911728, -0.41999998688697815, 1.3770999908447266, 1.3770999908447266, 1.3646999597549438, 1.3631999492645264, 1.3609999418258667, 1.3280999660491943, 1.2934000492095947, 1.2933000326156616, 1.2933000326156616, 1.2932000160217285, 1.2897000312805176, 1.287600040435791, 1.2838000059127808, 1.2833000421524048, 1.2798999547958374, 1.2781000137329102, 1.2761000394821167, 1.2740000486373901, 1.2697999477386475, 1.2684999704360962, 1.2533999681472778, 1.2470999956130981, 1.236199975013733, 1.2350000143051147, 1.2346999645233154, 1.2295000553131104, 1.2230000495910645, 1.198699951171875, 1.1943000555038452, 1.1845999956130981, 1.1822999715805054, 1.1726000308990479, 1.1369999647140503, 1.1358000040054321, 1.0787999629974365, 1.169800043106079, 0.9817000031471252, 1.0049999952316284, 0.8737999796867371, 0.9509999752044678, 1.007099986076355, 0.6919000148773193, 0.7906000018119812, 0.9120000004768372, 1.0526000261306763, 1.0159000158309937, 0.6847000122070312, 0.7858999967575073, 1.1632000207901, 0.8756999969482422, 0.4927000105381012, 0.4487000107765198, 0.4853000044822693, 0.5407000184059143, 0.5690000057220459, 0.7617999911308289, 0.2282000035047531, 0.2694999873638153, 0.6420999765396118, 0.5073999762535095, 0.6528000235557556, 0.24240000545978546, 0.43779999017715454, 0.6488999724388123, 0.5479999780654907, 0.12729999423027039, 0.2687000036239624, -0.7156999707221985, 1.4455000162124634, 1.3975000381469727, 1.3970999717712402, 1.3969999551773071, 1.388100028038025, 1.3827999830245972, 1.3776999711990356, 1.3676999807357788, 1.3583999872207642, 1.3533999919891357, 1.3530999422073364, 1.3514000177383423, 1.3105000257492065, 1.3105000257492065, 1.3104000091552734, 1.3102999925613403, 1.3102999925613403, 1.3101999759674072, 1.3101999759674072, 1.3100999593734741, 1.3100999593734741, 1.309999942779541, 1.309999942779541, 1.3099000453948975, 1.3097000122070312, 1.3050999641418457, 1.30239999294281, 1.302299976348877, 1.3013999462127686, 1.3001999855041504, 1.264799952507019, 1.2862000465393066, 1.2698999643325806, 1.2905000448226929, 1.215499997138977, 1.194200038909912, 1.195099949836731, 1.1943000555038452, 1.163100004196167, 0.9663000106811523, 0.9685999751091003, 1.0484000444412231, 1.0771000385284424, 0.9930999875068665, 1.07260000705719, 1.2539000511169434, 1.0666999816894531, 1.1016000509262085, 0.9955000281333923, 0.6764000058174133, 0.49070000648498535, 0.7767000198364258, 0.6632000207901001, 0.8639000058174133, 0.6378999948501587, 0.705299973487854, 0.7486000061035156, 0.6434000134468079, 0.6225000023841858, 0.9344000220298767, 0.6556000113487244, 0.13699999451637268, 0.388700008392334, 0.5026999711990356, 0.510699987411499, -0.13009999692440033, 0.2483000010251999, -0.5415999889373779, -0.0681999996304512, 0.030899999663233757, -0.2996000051498413, 0.007199999876320362, 0.18299999833106995, 0.07320000231266022, 0.20430000126361847, 1.5319000482559204, 1.5081000328063965, 1.507599949836731, 1.4983999729156494, 1.483299970626831, 1.4807000160217285, 1.4697999954223633, 1.4488999843597412, 1.4179999828338623, 1.4178999662399292, 1.4178999662399292, 1.417799949645996, 1.417799949645996, 1.4177000522613525, 1.4177000522613525, 1.4176000356674194, 1.4175000190734863, 1.4174000024795532, 1.417099952697754, 1.4158999919891357, 1.4150999784469604, 1.4048000574111938, 1.3914999961853027, 1.3767999410629272, 1.3758000135421753, 1.3726999759674072, 1.371999979019165, 1.3696999549865723, 1.3688000440597534, 1.3421000242233276, 1.339900016784668, 1.2782000303268433, 1.182800054550171, 1.1518000364303589, 1.1520999670028687, 1.070199966430664, 1.1679999828338623, 1.163100004196167, 0.9685999751091003, 1.194200038909912, 0.9150000214576721, 0.7807999849319458, 0.5683000087738037, 1.1181000471115112, 1.2776999473571777, 0.7735000252723694, 1.1758999824523926, 0.7415000200271606, 0.6093999743461609, 1.2523000240325928, 0.7559000253677368, 0.9531000256538391, 0.6247000098228455, 0.4812999963760376, 0.6538000106811523, 0.7105000019073486, 0.5514000058174133, 0.6068999767303467, 0.6155999898910522, 0.6876000165939331, 0.7548999786376953, 0.8317000269889832, 0.3221000134944916, 0.5658000111579895, 0.3702999949455261, 0.3790999948978424, 0.6384999752044678, 0.4066999852657318, -0.6639000177383423, 0.3199999928474426, 0.3847000002861023, 0.4690000116825104, 0.4075999855995178, -0.3156999945640564, 0.08640000224113464, -0.003100000089034438]}, \"token.table\": {\"Topic\": [4, 4, 2, 1, 5, 1, 1, 4, 2, 1, 2, 3, 4, 5, 5, 1, 2, 3, 4, 1, 2, 3, 4, 5, 2, 1, 2, 3, 5, 1, 2, 2, 1, 3, 4, 1, 2, 3, 4, 5, 1, 3, 4, 1, 2, 4, 5, 4, 1, 2, 1, 3, 4, 5, 3, 1, 2, 5, 2, 1, 2, 3, 4, 5, 1, 2, 3, 4, 5, 1, 4, 4, 5, 1, 2, 3, 4, 5, 4, 1, 2, 3, 4, 5, 2, 3, 1, 2, 3, 4, 5, 3, 1, 4, 1, 3, 4, 5, 1, 2, 3, 4, 5, 1, 2, 3, 5, 4, 1, 2, 3, 4, 5, 5, 3, 5, 5, 5, 1, 2, 5, 1, 1, 2, 1, 3, 4, 5, 3, 2, 5, 1, 2, 3, 4, 5, 1, 2, 3, 4, 5, 4, 5, 2, 4, 5, 4, 5, 1, 2, 3, 4, 5, 5, 3, 1, 2, 3, 4, 5, 1, 4, 5, 3, 2, 4, 1, 2, 3, 4, 5, 1, 2, 3, 4, 5, 1, 2, 3, 4, 5, 2, 3, 5, 1, 2, 5, 2, 3, 4, 5, 1, 1, 2, 3, 5, 5, 1, 2, 3, 4, 5, 3, 1, 5, 1, 2, 3, 4, 5, 2, 2, 1, 2, 3, 4, 5, 2, 4, 4, 2, 3, 4, 3, 1, 1, 2, 4, 5, 1, 2, 3, 4, 5, 2, 3, 5, 1, 1, 2, 3, 4, 5, 1, 2, 3, 4, 5, 4, 1, 2, 3, 4, 5, 1, 2, 3, 4, 5, 1, 2, 3, 4, 1, 2, 3, 4, 5, 1, 2, 3, 4, 5, 1, 1, 3, 3, 1, 1, 2, 3, 4, 5, 5, 2, 3, 5, 1, 2, 4, 1, 1, 2, 3, 4, 5, 3, 4, 1, 2, 3, 4, 5, 2, 3, 4, 5, 1, 2, 3, 4, 5, 1, 2, 3, 4, 4, 1, 2, 1, 2, 3, 4, 5, 1, 2, 3, 4, 5, 2, 1, 2, 3, 4, 5, 1, 2, 3, 5, 1, 2, 3, 4, 5, 4, 5, 1, 2, 3, 4, 5, 1, 3, 4, 5, 5, 2, 2, 3, 4, 5, 1, 3, 4, 5, 3, 1, 1, 2, 4, 5, 2, 1, 3, 5, 1, 5, 1, 3, 4, 5, 1, 2, 5, 1, 2, 3, 5, 1, 3, 4, 1, 2, 3, 4, 5, 3, 4, 5, 1, 2, 3, 4, 5, 2, 5, 1, 2, 3, 4, 5, 3, 2, 1, 2, 3, 4, 5, 1, 2, 3, 4, 3, 1, 1, 2, 3, 4, 5, 1, 2, 3, 4, 5, 2, 3, 4, 5, 1, 1, 2, 3, 4, 5, 1, 5, 4, 2, 4, 1, 2, 3, 4, 5, 2, 2, 1, 2, 3, 4, 5, 3, 1, 2, 3, 4, 5, 3, 2, 3, 4, 1, 2, 3, 4, 5, 1, 2, 3, 4, 5, 1, 2, 3, 4, 5, 1, 2, 3, 4, 5, 1, 2, 3, 4, 5, 1, 3, 4, 1, 2, 3, 4, 5, 1, 1, 1, 2, 1, 2, 3, 4, 1, 1, 4, 5, 1, 2, 3, 4, 5, 2, 3, 4, 5, 4, 1, 2, 3, 4, 5, 1, 2, 3, 5, 2, 5, 1, 2, 3, 4, 5, 4, 5, 1, 4, 5, 5, 5, 1, 3, 4, 5, 1, 3, 4, 5, 2, 3, 5, 1, 2, 3, 4, 5, 4, 5, 3, 3, 4, 1, 2, 3, 4, 5, 1, 2, 5, 1, 2, 3, 4, 5, 1, 3, 1, 2, 3, 4, 5, 1, 2, 3, 4, 5, 5, 2, 1, 2, 3, 4, 5, 1, 2, 3, 4, 5, 1, 1, 2, 1, 5, 1, 2, 3, 4, 5, 1, 1, 3, 1, 2, 4, 5, 4, 5, 3, 2, 4, 1, 2, 3, 4, 5, 1, 2, 3, 4, 5, 4, 1, 1, 2, 3, 5, 1, 1, 1, 2, 3, 4, 5, 1, 2, 4, 5, 1, 3, 4, 1, 3, 5, 3, 1, 2, 3, 4, 5, 1, 3, 4, 4, 2, 1, 2, 3, 4, 5, 3, 5, 1, 2, 3, 4, 5, 5, 1, 3, 4, 5, 1, 2, 3, 4, 5, 1, 2, 4, 2, 4, 5, 2, 4, 3, 4, 4, 1, 2, 3, 4, 1, 2, 3, 4, 5, 3, 1, 2, 3, 4, 5, 1, 2, 3, 4, 5, 1, 4, 4, 4, 4, 1, 2, 3, 4, 5, 1, 2, 2, 1, 2, 3, 4, 5, 1, 3, 4, 1, 3, 4, 5, 1, 2, 3, 4, 5, 1, 2, 5, 1, 2, 3, 4, 5, 1, 2, 3, 4, 5, 1, 2, 1, 2, 3, 4, 5, 3, 3, 1, 1, 2, 3, 4, 5, 1, 2, 3, 4, 5, 3, 4, 2, 3, 4, 3, 1, 2, 3, 4, 5, 5, 1, 2, 3, 4, 1, 2, 3, 4, 5, 3, 1, 2, 3, 4, 5, 1, 2, 3, 5, 2, 3, 4], \"Freq\": [0.8321154117584229, 0.9361262321472168, 0.8258729577064514, 0.629357099533081, 0.8509312868118286, 0.7564054727554321, 0.945304811000824, 0.8320848941802979, 0.8264266848564148, 0.29106831550598145, 0.04158118739724159, 0.33264949917793274, 0.12474355846643448, 0.24948711693286896, 0.8520624041557312, 0.10341470688581467, 0.20682941377162933, 0.10341470688581467, 0.5170735120773315, 0.3215816915035248, 0.1607908457517624, 0.24118627607822418, 0.1607908457517624, 0.12059313803911209, 0.8265523314476013, 0.158737912774086, 0.158737912774086, 0.079368956387043, 0.5555827021598816, 0.838777482509613, 0.8259423971176147, 0.8236598372459412, 0.839302122592926, 0.9070553779602051, 0.6249748468399048, 0.08308655768632889, 0.08308655768632889, 0.16617311537265778, 0.4985193610191345, 0.16617311537265778, 0.1555769145488739, 0.1555769145488739, 0.6223076581954956, 0.8392660021781921, 0.20792166888713837, 0.8316866755485535, 0.6395978927612305, 0.9360036849975586, 0.6284186244010925, 0.2094728797674179, 0.4684838354587555, 0.23424191772937775, 0.15616127848625183, 0.15616127848625183, 0.8090006113052368, 0.06906470656394958, 0.828776478767395, 0.13812941312789917, 0.8263700604438782, 0.17231008410453796, 0.11487338691949844, 0.05743669345974922, 0.2871834635734558, 0.40205684304237366, 0.07020308077335358, 0.21060925722122192, 0.07020308077335358, 0.14040616154670715, 0.49142158031463623, 0.7552290558815002, 0.25174301862716675, 0.21353793144226074, 0.6406137943267822, 0.20214472711086273, 0.20214472711086273, 0.20214472711086273, 0.040428947657346725, 0.3234315812587738, 0.6246205568313599, 0.18406879901885986, 0.09203439950942993, 0.23008599877357483, 0.3681375980377197, 0.09203439950942993, 0.7037471532821655, 0.17593678832054138, 0.36903151869773865, 0.29522523283958435, 0.07380630820989609, 0.07380630820989609, 0.18451575934886932, 0.8090276122093201, 0.8406110405921936, 0.8321865200996399, 0.1142459437251091, 0.1142459437251091, 0.5331477522850037, 0.26657387614250183, 0.41715431213378906, 0.1564328670501709, 0.1564328670501709, 0.10428857803344727, 0.10428857803344727, 0.17678387463092804, 0.08839193731546402, 0.5303516387939453, 0.26517581939697266, 0.8320143818855286, 0.369772732257843, 0.1848863661289215, 0.1848863661289215, 0.1848863661289215, 0.09244318306446075, 0.6410404443740845, 0.6957889795303345, 0.17394724488258362, 0.8520840406417847, 0.6410505175590515, 0.1559688299894333, 0.6238753199577332, 0.1559688299894333, 0.8393023014068604, 0.8392850756645203, 0.6197454333305359, 0.1089254766702652, 0.0544627383351326, 0.6535528302192688, 0.1089254766702652, 0.9075382351875305, 0.2540081739425659, 0.5080163478851318, 0.12939704954624176, 0.12939704954624176, 0.45288968086242676, 0.2587940990924835, 0.06469852477312088, 0.1462583690881729, 0.511904239654541, 0.07312918454408646, 0.1462583690881729, 0.07312918454408646, 0.8320122361183167, 0.7693004608154297, 0.25018930435180664, 0.6254732608795166, 0.12509465217590332, 0.9360763430595398, 0.852108895778656, 0.28494566679000854, 0.2564511001110077, 0.08548370003700256, 0.19946196675300598, 0.19946196675300598, 0.8514683842658997, 0.810940146446228, 0.19861364364624023, 0.29792046546936035, 0.09930682182312012, 0.06620454788208008, 0.3310227394104004, 0.28345414996147156, 0.14172707498073578, 0.5669082999229431, 0.8093278408050537, 0.8258935809135437, 0.8319885730743408, 0.1400793045759201, 0.2801586091518402, 0.0466930978000164, 0.0933861956000328, 0.3735447824001312, 0.238789364695549, 0.16531571745872498, 0.4041050970554352, 0.14694730937480927, 0.036736827343702316, 0.1279333382844925, 0.42644447088241577, 0.255866676568985, 0.0852888897061348, 0.1279333382844925, 0.14094345271587372, 0.14094345271587372, 0.5637738108634949, 0.1819591224193573, 0.1819591224193573, 0.5458773374557495, 0.1812218427658081, 0.1812218427658081, 0.1812218427658081, 0.5436655282974243, 0.7543804049491882, 0.28599175810813904, 0.17159506678581238, 0.17159506678581238, 0.34319013357162476, 0.8520857095718384, 0.17586159706115723, 0.35172319412231445, 0.3266001045703888, 0.10049234330654144, 0.02512308582663536, 0.7256912589073181, 0.630622148513794, 0.8520721793174744, 0.38014885783195496, 0.10003916919231415, 0.260101854801178, 0.22008617222309113, 0.02000783383846283, 0.8262062072753906, 0.8258534669876099, 0.17052896320819855, 0.1136859729886055, 0.17052896320819855, 0.39790090918540955, 0.17052896320819855, 0.7736626267433167, 0.15473252534866333, 0.6238150596618652, 0.6177140474319458, 0.12354280799627304, 0.12354280799627304, 0.8097295761108398, 0.8392817974090576, 0.1356675624847412, 0.04522252082824707, 0.40700268745422363, 0.36178016662597656, 0.4184364974498749, 0.13947883248329163, 0.13947883248329163, 0.13947883248329163, 0.20921824872493744, 0.6175980567932129, 0.15439951419830322, 0.8507843613624573, 0.8421927094459534, 0.2685564458370209, 0.2685564458370209, 0.17903763055801392, 0.04475940763950348, 0.2685564458370209, 0.33691343665122986, 0.11230447888374329, 0.3930656611919403, 0.11230447888374329, 0.05615223944187164, 0.7489146590232849, 0.29794976115226746, 0.14021165668964386, 0.2628968358039856, 0.17526456713676453, 0.12268519401550293, 0.09267238527536392, 0.2316809594631195, 0.18534477055072784, 0.18534477055072784, 0.32435333728790283, 0.08812161535024643, 0.5287296772003174, 0.17624323070049286, 0.17624323070049286, 0.3553822338581085, 0.236921489238739, 0.03948691487312317, 0.07897382974624634, 0.31589531898498535, 0.22941236197948456, 0.06554638594388962, 0.3605051338672638, 0.06554638594388962, 0.26218554377555847, 0.8391944766044617, 0.7149765491485596, 0.1787441372871399, 0.8096528053283691, 0.756195068359375, 0.41691339015960693, 0.10422834753990173, 0.20845669507980347, 0.13897113502025604, 0.17371390759944916, 0.6405958533287048, 0.6260072588920593, 0.07825090736150742, 0.31300362944602966, 0.06890617311000824, 0.6201555132865906, 0.27562469244003296, 0.9020287990570068, 0.16819876432418823, 0.4036770462989807, 0.1345590054988861, 0.16819876432418823, 0.1345590054988861, 0.7579584121704102, 0.15159167349338531, 0.26980018615722656, 0.26980018615722656, 0.3468859791755676, 0.07708577066659927, 0.03854288533329964, 0.1055162101984024, 0.1055162101984024, 0.2110324203968048, 0.5275810360908508, 0.2190479338169098, 0.3285719156265259, 0.05476198345422745, 0.05476198345422745, 0.3285719156265259, 0.04678896814584732, 0.04678896814584732, 0.6550455689430237, 0.2339448481798172, 0.9364944696426392, 0.6284393072128296, 0.20947976410388947, 0.3456681966781616, 0.04938117042183876, 0.44443055987358093, 0.04938117042183876, 0.09876234084367752, 0.29777827858924866, 0.16034215688705444, 0.3206843137741089, 0.18324817717075348, 0.04581204429268837, 0.8260735273361206, 0.2418338656425476, 0.2418338656425476, 0.14510032534599304, 0.04836677387356758, 0.33856743574142456, 0.8392924666404724, 0.2714610993862152, 0.5429221987724304, 0.1357305496931076, 0.24858950078487396, 0.12429475039243698, 0.18644212186336517, 0.40395793318748474, 0.06214737519621849, 0.8321998715400696, 0.850558340549469, 0.1326938271522522, 0.0663469135761261, 0.1326938271522522, 0.2653876543045044, 0.398081511259079, 0.10385739058256149, 0.20771478116512299, 0.5192869305610657, 0.20771478116512299, 0.852075457572937, 0.8258606791496277, 0.08688738942146301, 0.6950991153717041, 0.08688738942146301, 0.08688738942146301, 0.16545049846172333, 0.16545049846172333, 0.11030033975839615, 0.5515016913414001, 0.8099470734596252, 0.8392727971076965, 0.46135368943214417, 0.3954460322856903, 0.06590767204761505, 0.06590767204761505, 0.8258492946624756, 0.15255698561668396, 0.6102279424667358, 0.15255698561668396, 0.8392869830131531, 0.8520449995994568, 0.4675680696964264, 0.31171202659606934, 0.07792800664901733, 0.15585601329803467, 0.16657087206840515, 0.5829980969429016, 0.16657087206840515, 0.3410225510597229, 0.06820450723171234, 0.5456360578536987, 0.06820450723171234, 0.2826552391052246, 0.5653104782104492, 0.094218410551548, 0.10749202221632004, 0.16123804450035095, 0.2687300741672516, 0.42996808886528015, 0.05374601110816002, 0.7294160723686218, 0.12156935036182404, 0.12156935036182404, 0.13720420002937317, 0.06860210001468658, 0.4802147150039673, 0.06860210001468658, 0.20580630004405975, 0.8012244701385498, 0.17804987728595734, 0.2868572473526001, 0.20248748362064362, 0.10124374181032181, 0.32060515880584717, 0.08436977863311768, 0.8109253644943237, 0.8258852362632751, 0.04796765372157097, 0.09593530744314194, 0.04796765372157097, 0.7195148468017578, 0.04796765372157097, 0.17792069911956787, 0.17792069911956787, 0.08896034955978394, 0.5337620973587036, 0.8090540170669556, 0.8392783403396606, 0.11086899787187576, 0.11086899787187576, 0.665213942527771, 0.11086899787187576, 0.11086899787187576, 0.20214514434337616, 0.20214514434337616, 0.20214514434337616, 0.12128708511590958, 0.32343223690986633, 0.5576155781745911, 0.18587185442447662, 0.061957284808158875, 0.12391456961631775, 0.7567791938781738, 0.20720815658569336, 0.3315330743789673, 0.20720815658569336, 0.16576653718948364, 0.12432489544153214, 0.25548940896987915, 0.5109788179397583, 0.8319980502128601, 0.8258584141731262, 0.8319839239120483, 0.3497183322906494, 0.09991952776908875, 0.24979881942272186, 0.09991952776908875, 0.1998390555381775, 0.6202377080917358, 0.825899064540863, 0.09508354216814041, 0.09508354216814041, 0.33279240131378174, 0.42787593603134155, 0.09508354216814041, 0.6095501184463501, 0.11324167996644974, 0.30197781324386597, 0.15098890662193298, 0.22648335993289948, 0.18873614072799683, 0.8109928369522095, 0.6177718043327332, 0.12355436384677887, 0.12355436384677887, 0.30250445008277893, 0.19250282645225525, 0.33000484108924866, 0.08250121027231216, 0.08250121027231216, 0.46455299854278564, 0.06636471301317215, 0.1327294260263443, 0.06636471301317215, 0.2654588520526886, 0.13830101490020752, 0.10372576862573624, 0.27660202980041504, 0.27660202980041504, 0.20745153725147247, 0.21422185003757477, 0.17851822078227997, 0.17851822078227997, 0.24992549419403076, 0.21422185003757477, 0.2720414698123932, 0.08161243796348572, 0.2720414698123932, 0.08161243796348572, 0.2720414698123932, 0.24933311343193054, 0.12466655671596527, 0.6233327984809875, 0.2050538957118988, 0.2050538957118988, 0.4101077914237976, 0.1537904143333435, 0.0512634739279747, 0.8392711281776428, 0.8392723798751831, 0.6291289329528809, 0.8267945051193237, 0.13568615913391113, 0.27137231826782227, 0.47490155696868896, 0.06784307956695557, 0.6288196444511414, 0.2551858723163605, 0.12759293615818024, 0.510371744632721, 0.16822326183319092, 0.16822326183319092, 0.08411163091659546, 0.16822326183319092, 0.37850233912467957, 0.05418115481734276, 0.10836230963468552, 0.758536159992218, 0.05418115481734276, 0.8320373296737671, 0.12473917752504349, 0.4365871250629425, 0.12473917752504349, 0.18710877001285553, 0.18710877001285553, 0.1405162811279297, 0.18735505640506744, 0.6557426452636719, 0.04683876410126686, 0.9283294677734375, 0.8520955443382263, 0.10846377909183502, 0.21692755818367004, 0.05423188954591751, 0.5423189401626587, 0.10846377909183502, 0.7167154550552368, 0.1791788637638092, 0.7868842482566833, 0.15737685561180115, 0.8520894050598145, 0.851416289806366, 0.6408112645149231, 0.12731610238552094, 0.41377732157707214, 0.22280317544937134, 0.25463220477104187, 0.8392910361289978, 0.13835187256336212, 0.6917593479156494, 0.13835187256336212, 0.24249669909477234, 0.606241762638092, 0.852072536945343, 0.23758238554000854, 0.10182102769613266, 0.10182102769613266, 0.3733437657356262, 0.20364205539226532, 0.8320052623748779, 0.8520885109901428, 0.8094502091407776, 0.6947530508041382, 0.17368826270103455, 0.1580715775489807, 0.1896858811378479, 0.44260039925575256, 0.03161431476473808, 0.1580715775489807, 0.6315597891807556, 0.1578899472951889, 0.1578899472951889, 0.11235509812831879, 0.05617754906415939, 0.39324286580085754, 0.28088775277137756, 0.11235509812831879, 0.2440299540758133, 0.7320898771286011, 0.3854454457759857, 0.0550636351108551, 0.0550636351108551, 0.1651909053325653, 0.3303818106651306, 0.0929163247346878, 0.0464581623673439, 0.1858326494693756, 0.3252071440219879, 0.3252071440219879, 0.8520076274871826, 0.8258731961250305, 0.06656985729932785, 0.06656985729932785, 0.1331397145986557, 0.19970956444740295, 0.5325588583946228, 0.23676519095897675, 0.5327216982841492, 0.059191297739744186, 0.11838259547948837, 0.059191297739744186, 0.8392631411552429, 0.20696409046649933, 0.6208922863006592, 0.6296987533569336, 0.8501567244529724, 0.1053304597735405, 0.210660919547081, 0.1053304597735405, 0.1053304597735405, 0.421321839094162, 0.8392959833145142, 0.6266659498214722, 0.20888864994049072, 0.06953509151935577, 0.4867456257343292, 0.20860525965690613, 0.20860525965690613, 0.21259692311286926, 0.6377907991409302, 0.8090010285377502, 0.24940456449985504, 0.7482137084007263, 0.10367027670145035, 0.10367027670145035, 0.10367027670145035, 0.6220216751098633, 0.85072261095047, 0.08496613055467606, 0.22657635807991028, 0.22657635807991028, 0.1982543170452118, 0.25489839911460876, 0.8320068120956421, 0.8392750024795532, 0.12283096462488174, 0.12283096462488174, 0.6141548156738281, 0.2456619292497635, 0.8392917513847351, 0.6314027309417725, 0.2997592091560364, 0.2569364607334137, 0.21411371231079102, 0.12846823036670685, 0.08564548194408417, 0.19219008088111877, 0.5765702128410339, 0.09609504044055939, 0.09609504044055939, 0.11304034292697906, 0.11304034292697906, 0.678242027759552, 0.5040549635887146, 0.16801832616329193, 0.2520274817943573, 0.81166011095047, 0.14762671291828156, 0.3936712443828583, 0.3444623351097107, 0.049208905547857285, 0.049208905547857285, 0.22644482553005219, 0.11322241276502609, 0.6793345212936401, 0.8319910764694214, 0.8258622288703918, 0.08564939349889755, 0.19271114468574524, 0.5995457768440247, 0.042824696749448776, 0.08564939349889755, 0.809706449508667, 0.8508492708206177, 0.2491888850927353, 0.041531480848789215, 0.2491888850927353, 0.37378332018852234, 0.12459444254636765, 0.8558849692344666, 0.3167724907398224, 0.0452532134950161, 0.3167724907398224, 0.3167724907398224, 0.6291996240615845, 0.06991107016801834, 0.06991107016801834, 0.13982214033603668, 0.06991107016801834, 0.12465287744998932, 0.24930575489997864, 0.6232643723487854, 0.8255449533462524, 0.2130936235189438, 0.6392809152603149, 0.7422580122947693, 0.8319862484931946, 0.7263742089271545, 0.8319989442825317, 0.8319978713989258, 0.0685814693570137, 0.6858147382736206, 0.1371629387140274, 0.1371629387140274, 0.13086813688278198, 0.06543406844139099, 0.19630220532417297, 0.45803844928741455, 0.13086813688278198, 0.8089890480041504, 0.48033225536346436, 0.09606645256280899, 0.19213290512561798, 0.09606645256280899, 0.09606645256280899, 0.4005853831768036, 0.12017561495304108, 0.2804097831249237, 0.2002926915884018, 0.04005853831768036, 0.6295967698097229, 0.20986558496952057, 0.6231592893600464, 0.8319997787475586, 0.936110258102417, 0.05537411570549011, 0.6921764612197876, 0.027687057852745056, 0.027687057852745056, 0.16612234711647034, 0.17704840004444122, 0.8852420449256897, 0.6192755699157715, 0.22197917103767395, 0.4994531571865082, 0.09989062696695328, 0.11098958551883698, 0.06659375131130219, 0.7571462988853455, 0.2749640941619873, 0.6874102354049683, 0.46708163619041443, 0.0667259469628334, 0.2001778483390808, 0.3336297571659088, 0.06460558623075485, 0.1292111724615097, 0.5814502835273743, 0.1292111724615097, 0.19381676614284515, 0.3832733631134033, 0.12775778770446777, 0.5110311508178711, 0.19957095384597778, 0.13304729759693146, 0.13304729759693146, 0.13304729759693146, 0.4656655490398407, 0.19600379467010498, 0.2352045476436615, 0.11760227382183075, 0.19600379467010498, 0.274405300617218, 0.2765815556049347, 0.5531631112098694, 0.15775780379772186, 0.2366367131471634, 0.07887890189886093, 0.07887890189886093, 0.39439451694488525, 0.9070295691490173, 0.8092672824859619, 0.7570816278457642, 0.2364874631166458, 0.0675678476691246, 0.1689196079969406, 0.371623158454895, 0.1689196079969406, 0.1804124414920807, 0.17289525270462036, 0.5412373542785645, 0.015034370124340057, 0.09020622074604034, 0.81024169921875, 0.9360933303833008, 0.5623523592948914, 0.11247047036886215, 0.2249409407377243, 0.8097864985466003, 0.16315798461437225, 0.3263159692287445, 0.19578957557678223, 0.2610527575016022, 0.06526318937540054, 0.8520528078079224, 0.3109484612941742, 0.4664226770401001, 0.07773711532354355, 0.07773711532354355, 0.17320910096168518, 0.24249275028705597, 0.24249275028705597, 0.10392546653747559, 0.24249275028705597, 0.8111101984977722, 0.08011165261268616, 0.2002791315317154, 0.32044661045074463, 0.16022330522537231, 0.24033495783805847, 0.17713482677936554, 0.7085393071174622, 0.17713482677936554, 0.17713482677936554, 0.6157381534576416, 0.20524604618549347, 0.8321854472160339], \"Term\": [\"18\", \"2\", \"3\", \"3rd\", \"5\", \"69kv\", \"accelerated\", \"advised\", \"ahead\", \"aid\", \"aid\", \"aid\", \"aid\", \"aid\", \"analyzer\", \"another\", \"another\", \"another\", \"another\", \"approximately\", \"approximately\", \"approximately\", \"approximately\", \"approximately\", \"april\", \"arm\", \"arm\", \"arm\", \"arm\", \"avoided\", \"aware\", \"away\", \"backer\", \"ballard\", \"band\", \"barricaded\", \"barricaded\", \"barricaded\", \"barricaded\", \"barricaded\", \"basket\", \"basket\", \"basket\", \"bearing\", \"became\", \"became\", \"bjs\", \"black\", \"bollard\", \"bollard\", \"bolt\", \"bolt\", \"bolt\", \"bolt\", \"bone\", \"boom\", \"boom\", \"boom\", \"bottle\", \"bottom\", \"bottom\", \"bottom\", \"bottom\", \"bottom\", \"box\", \"box\", \"box\", \"box\", \"box\", \"brace\", \"brace\", \"branch\", \"branch\", \"breaker\", \"breaker\", \"breaker\", \"breaker\", \"breaker\", \"breezeway\", \"broke\", \"broke\", \"broke\", \"broke\", \"broke\", \"brush\", \"brush\", \"bucket\", \"bucket\", \"bucket\", \"bucket\", \"bucket\", \"bulletin\", \"bundle\", \"c-clamp\", \"cable\", \"cable\", \"cable\", \"cable\", \"came\", \"came\", \"came\", \"came\", \"came\", \"car\", \"car\", \"car\", \"car\", \"carport\", \"caused\", \"caused\", \"caused\", \"caused\", \"caused\", \"cavity\", \"chain\", \"chain\", \"chamber\", \"changing\", \"chemical\", \"chemical\", \"chemical\", \"chip\", \"chipper\", \"chute\", \"circuit\", \"circuit\", \"circuit\", \"circuit\", \"clamp\", \"clinic\", \"clinic\", \"close\", \"close\", \"close\", \"close\", \"close\", \"coal\", \"coal\", \"coal\", \"coal\", \"coal\", \"coil\", \"compressor\", \"conductor\", \"conductor\", \"conductor\", \"conex\", \"connection\", \"contact\", \"contact\", \"contact\", \"contact\", \"contact\", \"contracted\", \"contractor\", \"control\", \"control\", \"control\", \"control\", \"control\", \"cooler\", \"cooler\", \"cooler\", \"core\", \"cracked\", \"crate\", \"cut\", \"cut\", \"cut\", \"cut\", \"cut\", \"damage\", \"damage\", \"damage\", \"damage\", \"damage\", \"damaged\", \"damaged\", \"damaged\", \"damaged\", \"damaged\", \"damper\", \"damper\", \"damper\", \"dead\", \"dead\", \"dead\", \"descending\", \"descending\", \"descending\", \"descending\", \"discharge\", \"discomfort\", \"discomfort\", \"discomfort\", \"discomfort\", \"disconnect\", \"door\", \"door\", \"door\", \"door\", \"door\", \"draper\", \"drilled\", \"drivable\", \"driver\", \"driver\", \"driver\", \"driver\", \"driver\", \"drop\", \"dual\", \"due\", \"due\", \"due\", \"due\", \"due\", \"dump\", \"dump\", \"dumping\", \"e\", \"e\", \"e\", \"eastbound\", \"eave\", \"employee\", \"employee\", \"employee\", \"employee\", \"end\", \"end\", \"end\", \"end\", \"end\", \"engine\", \"engine\", \"establishing\", \"excavation\", \"fall\", \"fall\", \"fall\", \"fall\", \"fall\", \"fan\", \"fan\", \"fan\", \"fan\", \"fan\", \"fault\", \"fell\", \"fell\", \"fell\", \"fell\", \"fell\", \"felt\", \"felt\", \"felt\", \"felt\", \"felt\", \"fence\", \"fence\", \"fence\", \"fence\", \"fire\", \"fire\", \"fire\", \"fire\", \"fire\", \"first\", \"first\", \"first\", \"first\", \"first\", \"flaming\", \"flange\", \"flange\", \"flashlight\", \"flatbed\", \"foot\", \"foot\", \"foot\", \"foot\", \"foot\", \"forehead\", \"foreman\", \"foreman\", \"foreman\", \"forklift\", \"forklift\", \"forklift\", \"forman\", \"found\", \"found\", \"found\", \"found\", \"found\", \"four\", \"four\", \"front\", \"front\", \"front\", \"front\", \"front\", \"fuel\", \"fuel\", \"fuel\", \"fuel\", \"gas\", \"gas\", \"gas\", \"gas\", \"gas\", \"gate\", \"gate\", \"gate\", \"gate\", \"gear\", \"glove\", \"glove\", \"grating\", \"grating\", \"grating\", \"grating\", \"grating\", \"ground\", \"ground\", \"ground\", \"ground\", \"ground\", \"h\", \"hand\", \"hand\", \"hand\", \"hand\", \"hand\", \"hauler\", \"highway\", \"highway\", \"highway\", \"hit\", \"hit\", \"hit\", \"hit\", \"hit\", \"hoist\", \"homeowner\", \"hose\", \"hose\", \"hose\", \"hose\", \"hose\", \"housing\", \"housing\", \"housing\", \"housing\", \"hr\", \"i35\", \"inch\", \"inch\", \"inch\", \"inch\", \"incident\", \"incident\", \"incident\", \"incident\", \"incorrectly\", \"inlet\", \"insulation\", \"insulation\", \"insulation\", \"insulation\", \"intercooler\", \"intersection\", \"intersection\", \"intersection\", \"jam\", \"keeping\", \"knee\", \"knee\", \"knee\", \"knee\", \"ladder\", \"ladder\", \"ladder\", \"lane\", \"lane\", \"lane\", \"lane\", \"leaving\", \"leaving\", \"leaving\", \"lift\", \"lift\", \"lift\", \"lift\", \"lift\", \"lifting\", \"lifting\", \"lifting\", \"light\", \"light\", \"light\", \"light\", \"light\", \"limb\", \"limb\", \"line\", \"line\", \"line\", \"line\", \"line\", \"link\", \"live\", \"load\", \"load\", \"load\", \"load\", \"load\", \"lock\", \"lock\", \"lock\", \"lock\", \"lodged\", \"look\", \"lot\", \"lot\", \"lot\", \"lot\", \"lot\", \"loto\", \"loto\", \"loto\", \"loto\", \"loto\", \"lower\", \"lower\", \"lower\", \"lower\", \"lube\", \"made\", \"made\", \"made\", \"made\", \"made\", \"mark\", \"mark\", \"matting\", \"merging\", \"midway\", \"minor\", \"minor\", \"minor\", \"minor\", \"minor\", \"mixer\", \"mowing\", \"new\", \"new\", \"new\", \"new\", \"new\", \"northbound\", \"noticed\", \"noticed\", \"noticed\", \"noticed\", \"noticed\", \"nurse\", \"og\", \"og\", \"og\", \"oge\", \"oge\", \"oge\", \"oge\", \"oge\", \"oil\", \"oil\", \"oil\", \"oil\", \"oil\", \"one\", \"one\", \"one\", \"one\", \"one\", \"open\", \"open\", \"open\", \"open\", \"open\", \"operator\", \"operator\", \"operator\", \"operator\", \"operator\", \"order\", \"order\", \"order\", \"overhead\", \"overhead\", \"overhead\", \"overhead\", \"overhead\", \"pace\", \"paper\", \"party\", \"pas\", \"passenger\", \"passenger\", \"passenger\", \"passenger\", \"path\", \"performed\", \"performed\", \"performed\", \"performing\", \"performing\", \"performing\", \"performing\", \"performing\", \"phase\", \"phase\", \"phase\", \"phase\", \"pick-up\", \"piece\", \"piece\", \"piece\", \"piece\", \"piece\", \"pipe\", \"pipe\", \"pipe\", \"pipe\", \"piv\", \"plank\", \"plant\", \"plant\", \"plant\", \"plant\", \"plant\", \"plate\", \"plate\", \"platform\", \"platform\", \"plier\", \"pm\", \"pm3\", \"pole\", \"pole\", \"pole\", \"pole\", \"preparation\", \"pressure\", \"pressure\", \"pressure\", \"private\", \"private\", \"psi\", \"pump\", \"pump\", \"pump\", \"pump\", \"pump\", \"raise\", \"range\", \"re-closer\", \"reader\", \"reader\", \"rear\", \"rear\", \"rear\", \"rear\", \"rear\", \"received\", \"received\", \"received\", \"red\", \"red\", \"red\", \"red\", \"red\", \"reel\", \"reel\", \"removing\", \"removing\", \"removing\", \"removing\", \"removing\", \"reported\", \"reported\", \"reported\", \"reported\", \"reported\", \"restriction\", \"retaining\", \"returned\", \"returned\", \"returned\", \"returned\", \"returned\", \"road\", \"road\", \"road\", \"road\", \"road\", \"rod\", \"rough\", \"rough\", \"route\", \"run\", \"running\", \"running\", \"running\", \"running\", \"running\", \"saver\", \"scada\", \"scada\", \"scaffold\", \"scaffold\", \"scaffold\", \"scaffold\", \"scraper\", \"scraper\", \"se\", \"seal\", \"seal\", \"security\", \"security\", \"security\", \"security\", \"sensation\", \"service\", \"service\", \"service\", \"service\", \"service\", \"shaded\", \"shattered\", \"shoulder\", \"shoulder\", \"shoulder\", \"shoulder\", \"skid-steer\", \"slow\", \"small\", \"small\", \"small\", \"small\", \"small\", \"smoke\", \"smoke\", \"smoke\", \"smoke\", \"station\", \"station\", \"station\", \"stick\", \"stick\", \"stick\", \"stood\", \"stop\", \"stop\", \"stop\", \"stop\", \"stop\", \"strap\", \"strap\", \"strap\", \"stress\", \"stripping\", \"struck\", \"struck\", \"struck\", \"struck\", \"struck\", \"stung\", \"swelling\", \"switch\", \"switch\", \"switch\", \"switch\", \"switch\", \"switchgear\", \"switching\", \"switching\", \"switching\", \"switching\", \"system\", \"system\", \"system\", \"system\", \"system\", \"tag\", \"tag\", \"tag\", \"technician\", \"temporary\", \"temporary\", \"terrain\", \"thin\", \"threading\", \"threshold\", \"throwing\", \"tire\", \"tire\", \"tire\", \"tire\", \"tool\", \"tool\", \"tool\", \"tool\", \"tool\", \"towed\", \"traffic\", \"traffic\", \"traffic\", \"traffic\", \"traffic\", \"trailer\", \"trailer\", \"trailer\", \"trailer\", \"trailer\", \"train\", \"train\", \"training\", \"trash\", \"tread\", \"tree\", \"tree\", \"tree\", \"tree\", \"tree\", \"trimmer\", \"trimmer\", \"trolley\", \"truck\", \"truck\", \"truck\", \"truck\", \"truck\", \"tryon\", \"tubing\", \"tubing\", \"turbine\", \"turbine\", \"turbine\", \"turbine\", \"turn\", \"turn\", \"turn\", \"turn\", \"turn\", \"twisted\", \"twisted\", \"twisted\", \"two\", \"two\", \"two\", \"two\", \"two\", \"unit\", \"unit\", \"unit\", \"unit\", \"unit\", \"unloading\", \"unloading\", \"used\", \"used\", \"used\", \"used\", \"used\", \"utv\", \"v\", \"valley\", \"valve\", \"valve\", \"valve\", \"valve\", \"valve\", \"vehicle\", \"vehicle\", \"vehicle\", \"vehicle\", \"vehicle\", \"vendor\", \"walkway\", \"wall\", \"wall\", \"wall\", \"wasp\", \"water\", \"water\", \"water\", \"water\", \"water\", \"week\", \"wheel\", \"wheel\", \"wheel\", \"wheel\", \"wire\", \"wire\", \"wire\", \"wire\", \"wire\", \"wish\", \"working\", \"working\", \"working\", \"working\", \"working\", \"wright\", \"wright\", \"wright\", \"wright\", \"zone\", \"zone\", \"\\u201d\"]}, \"R\": 30, \"lambda.step\": 0.01, \"plot.opts\": {\"xlab\": \"PC1\", \"ylab\": \"PC2\"}, \"topic.order\": [1, 3, 4, 2, 5]};\n",
              "\n",
              "function LDAvis_load_lib(url, callback){\n",
              "  var s = document.createElement('script');\n",
              "  s.src = url;\n",
              "  s.async = true;\n",
              "  s.onreadystatechange = s.onload = callback;\n",
              "  s.onerror = function(){console.warn(\"failed to load library \" + url);};\n",
              "  document.getElementsByTagName(\"head\")[0].appendChild(s);\n",
              "}\n",
              "\n",
              "if(typeof(LDAvis) !== \"undefined\"){\n",
              "   // already loaded: just create the visualization\n",
              "   !function(LDAvis){\n",
              "       new LDAvis(\"#\" + \"ldavis_el1381406631392162643452106022\", ldavis_el1381406631392162643452106022_data);\n",
              "   }(LDAvis);\n",
              "}else if(typeof define === \"function\" && define.amd){\n",
              "   // require.js is available: use it to load d3/LDAvis\n",
              "   require.config({paths: {d3: \"https://cdnjs.cloudflare.com/ajax/libs/d3/3.5.5/d3.min\"}});\n",
              "   require([\"d3\"], function(d3){\n",
              "      window.d3 = d3;\n",
              "      LDAvis_load_lib(\"https://cdn.rawgit.com/bmabey/pyLDAvis/files/ldavis.v1.0.0.js\", function(){\n",
              "        new LDAvis(\"#\" + \"ldavis_el1381406631392162643452106022\", ldavis_el1381406631392162643452106022_data);\n",
              "      });\n",
              "    });\n",
              "}else{\n",
              "    // require.js not available: dynamically load d3 & LDAvis\n",
              "    LDAvis_load_lib(\"https://cdnjs.cloudflare.com/ajax/libs/d3/3.5.5/d3.min.js\", function(){\n",
              "         LDAvis_load_lib(\"https://cdn.rawgit.com/bmabey/pyLDAvis/files/ldavis.v1.0.0.js\", function(){\n",
              "                 new LDAvis(\"#\" + \"ldavis_el1381406631392162643452106022\", ldavis_el1381406631392162643452106022_data);\n",
              "            })\n",
              "         });\n",
              "}\n",
              "</script>"
            ],
            "text/plain": [
              "<IPython.core.display.HTML object>"
            ]
          },
          "metadata": {
            "tags": []
          },
          "execution_count": 70
        }
      ]
    },
    {
      "cell_type": "code",
      "metadata": {
        "id": "TzoV4ddZH-PE",
        "colab_type": "code",
        "colab": {}
      },
      "source": [
        "pyLDAvis.save_html(vis,'vis.html')"
      ],
      "execution_count": 0,
      "outputs": []
    },
    {
      "cell_type": "markdown",
      "metadata": {
        "id": "MWTgua--9OWY",
        "colab_type": "text"
      },
      "source": [
        "# Apply this model on test data set (Hazards or potential safety incidents recorded by Safety team) to see which hazard has highest similarity to a past occurred safety incident. Action can be taken to avoid the recurrence."
      ]
    },
    {
      "cell_type": "code",
      "metadata": {
        "colab_type": "code",
        "id": "u-INvlaPBweB",
        "outputId": "6e4633e2-77a5-4a5f-81c7-690eb6278c73",
        "colab": {
          "base_uri": "https://localhost:8080/",
          "height": 717
        }
      },
      "source": [
        "#os.chdir(r'C:\\\\Users\\\\govindsg\\\\Google Drive\\\\Spring 2020 OGE\\\\OGE\\\\Lacerations text analytics\\\\2nd phase\\\\')\n",
        "inc = pd.read_excel('/content/Potential_Incidents.xlsx',skiprows=2,skipfooter=3)\n",
        "inc.head()"
      ],
      "execution_count": 38,
      "outputs": [
        {
          "output_type": "execute_result",
          "data": {
            "text/html": [
              "<div>\n",
              "<style scoped>\n",
              "    .dataframe tbody tr th:only-of-type {\n",
              "        vertical-align: middle;\n",
              "    }\n",
              "\n",
              "    .dataframe tbody tr th {\n",
              "        vertical-align: top;\n",
              "    }\n",
              "\n",
              "    .dataframe thead th {\n",
              "        text-align: right;\n",
              "    }\n",
              "</style>\n",
              "<table border=\"1\" class=\"dataframe\">\n",
              "  <thead>\n",
              "    <tr style=\"text-align: right;\">\n",
              "      <th></th>\n",
              "      <th>Record No.</th>\n",
              "      <th>Date Created</th>\n",
              "      <th>Created By</th>\n",
              "      <th>Date Of Observation</th>\n",
              "      <th>Business Unit</th>\n",
              "      <th>Location</th>\n",
              "      <th>Department</th>\n",
              "      <th>Member Observation</th>\n",
              "      <th>Contractors</th>\n",
              "      <th>Contractor Company Name</th>\n",
              "      <th>Plant Contact/Project Manager</th>\n",
              "      <th>Description of Work</th>\n",
              "      <th>SWP/Tailboard Completed?</th>\n",
              "      <th>Adequate Planning/Preparation</th>\n",
              "      <th>Chemical Use</th>\n",
              "      <th>Corrective Action</th>\n",
              "      <th>Engaged in Task</th>\n",
              "      <th>Fall from Heights</th>\n",
              "      <th>Following Policies/Procedures</th>\n",
              "      <th>Housekeeping</th>\n",
              "      <th>Identifying Hazards</th>\n",
              "      <th>Line of Fire</th>\n",
              "      <th>Manual Lifting</th>\n",
              "      <th>Proper Tool for the Job</th>\n",
              "      <th>Proper Operation</th>\n",
              "      <th>Proper PPE</th>\n",
              "      <th>Comments (PPE)</th>\n",
              "      <th>Risks adequately mitigated</th>\n",
              "      <th>Self/Team induced productivity pressures</th>\n",
              "      <th>Slips Trips and Falls</th>\n",
              "      <th>Struck Against/By</th>\n",
              "      <th>Tool Condition</th>\n",
              "      <th>Explain At Risk Items marked above</th>\n",
              "      <th>Did you have a conversation with the member(s) observed?</th>\n",
              "      <th>Observer</th>\n",
              "      <th>Second Observer</th>\n",
              "      <th>Safety Professional</th>\n",
              "      <th>Mobile?</th>\n",
              "    </tr>\n",
              "  </thead>\n",
              "  <tbody>\n",
              "    <tr>\n",
              "      <th>0</th>\n",
              "      <td>1144</td>\n",
              "      <td>2020-01-09</td>\n",
              "      <td>Tanner Brady</td>\n",
              "      <td>2020-01-09 10:13:10</td>\n",
              "      <td>Power Supply</td>\n",
              "      <td>McClain Power Plant</td>\n",
              "      <td>NaN</td>\n",
              "      <td>0.0</td>\n",
              "      <td>1.0</td>\n",
              "      <td>Northwest Crane</td>\n",
              "      <td>NaN</td>\n",
              "      <td>Lifting pump and moving over to staging area.</td>\n",
              "      <td>1.0</td>\n",
              "      <td>Safe</td>\n",
              "      <td>NaN</td>\n",
              "      <td>0.0</td>\n",
              "      <td>Safe</td>\n",
              "      <td>NaN</td>\n",
              "      <td>Safe</td>\n",
              "      <td>Safe</td>\n",
              "      <td>Safe</td>\n",
              "      <td>Safe</td>\n",
              "      <td>Safe</td>\n",
              "      <td>Safe</td>\n",
              "      <td>Safe</td>\n",
              "      <td>1.0</td>\n",
              "      <td>NaN</td>\n",
              "      <td>Safe</td>\n",
              "      <td>NaN</td>\n",
              "      <td>Safe</td>\n",
              "      <td>Safe</td>\n",
              "      <td>Safe</td>\n",
              "      <td>NaN</td>\n",
              "      <td>1.0</td>\n",
              "      <td>Tanner Brady</td>\n",
              "      <td>NaN</td>\n",
              "      <td>NaN</td>\n",
              "      <td>True</td>\n",
              "    </tr>\n",
              "    <tr>\n",
              "      <th>1</th>\n",
              "      <td>1159</td>\n",
              "      <td>2020-01-13</td>\n",
              "      <td>Guillermo Sarmiento</td>\n",
              "      <td>2020-01-12 10:45:00</td>\n",
              "      <td>Power Supply</td>\n",
              "      <td>Horseshoe Lake Power Plant</td>\n",
              "      <td>Other</td>\n",
              "      <td>0.0</td>\n",
              "      <td>0.0</td>\n",
              "      <td>NaN</td>\n",
              "      <td>NaN</td>\n",
              "      <td>360 on vehicle</td>\n",
              "      <td>0.0</td>\n",
              "      <td>Safe</td>\n",
              "      <td>NaN</td>\n",
              "      <td>1.0</td>\n",
              "      <td>Safe</td>\n",
              "      <td>NaN</td>\n",
              "      <td>Safe</td>\n",
              "      <td>NaN</td>\n",
              "      <td>Safe</td>\n",
              "      <td>Safe</td>\n",
              "      <td>NaN</td>\n",
              "      <td>NaN</td>\n",
              "      <td>At Risk</td>\n",
              "      <td>1.0</td>\n",
              "      <td>NaN</td>\n",
              "      <td>Safe</td>\n",
              "      <td>NaN</td>\n",
              "      <td>NaN</td>\n",
              "      <td>NaN</td>\n",
              "      <td>NaN</td>\n",
              "      <td>While performing 360 inspection on vehicle, fr...</td>\n",
              "      <td>1.0</td>\n",
              "      <td>Guillermo Sarmiento</td>\n",
              "      <td>NaN</td>\n",
              "      <td>Guillermo Sarmiento</td>\n",
              "      <td>True</td>\n",
              "    </tr>\n",
              "    <tr>\n",
              "      <th>2</th>\n",
              "      <td>1160</td>\n",
              "      <td>2020-01-13</td>\n",
              "      <td>Brent Perdue</td>\n",
              "      <td>2020-01-13 10:30:00</td>\n",
              "      <td>Power Delivery</td>\n",
              "      <td>Metro Service Center</td>\n",
              "      <td>PD Operations Services</td>\n",
              "      <td>1.0</td>\n",
              "      <td>0.0</td>\n",
              "      <td>NaN</td>\n",
              "      <td>NaN</td>\n",
              "      <td>Trouble shooting a capacitor stations communic...</td>\n",
              "      <td>0.0</td>\n",
              "      <td>Safe</td>\n",
              "      <td>Safe</td>\n",
              "      <td>1.0</td>\n",
              "      <td>Safe</td>\n",
              "      <td>Safe</td>\n",
              "      <td>Safe</td>\n",
              "      <td>Safe</td>\n",
              "      <td>Safe</td>\n",
              "      <td>Safe</td>\n",
              "      <td>Safe</td>\n",
              "      <td>Safe</td>\n",
              "      <td>Safe</td>\n",
              "      <td>0.0</td>\n",
              "      <td>Member has to wear reading glasses outside of ...</td>\n",
              "      <td>Safe</td>\n",
              "      <td>Safe</td>\n",
              "      <td>Safe</td>\n",
              "      <td>Safe</td>\n",
              "      <td>Safe</td>\n",
              "      <td>NaN</td>\n",
              "      <td>1.0</td>\n",
              "      <td>Brent Perdue</td>\n",
              "      <td>NaN</td>\n",
              "      <td>Brent Perdue</td>\n",
              "      <td>False</td>\n",
              "    </tr>\n",
              "    <tr>\n",
              "      <th>3</th>\n",
              "      <td>1162</td>\n",
              "      <td>2020-01-14</td>\n",
              "      <td>Guillermo Sarmiento</td>\n",
              "      <td>2020-01-14 10:43:31</td>\n",
              "      <td>Power Supply</td>\n",
              "      <td>Frontier Power Plant</td>\n",
              "      <td>Other</td>\n",
              "      <td>0.0</td>\n",
              "      <td>0.0</td>\n",
              "      <td>NaN</td>\n",
              "      <td>NaN</td>\n",
              "      <td>Site walk of plant</td>\n",
              "      <td>0.0</td>\n",
              "      <td>Safe</td>\n",
              "      <td>Safe</td>\n",
              "      <td>1.0</td>\n",
              "      <td>Safe</td>\n",
              "      <td>Safe</td>\n",
              "      <td>Safe</td>\n",
              "      <td>Safe</td>\n",
              "      <td>At Risk</td>\n",
              "      <td>Safe</td>\n",
              "      <td>Safe</td>\n",
              "      <td>At Risk</td>\n",
              "      <td>NaN</td>\n",
              "      <td>1.0</td>\n",
              "      <td>NaN</td>\n",
              "      <td>Safe</td>\n",
              "      <td>Safe</td>\n",
              "      <td>Safe</td>\n",
              "      <td>Safe</td>\n",
              "      <td>At Risk</td>\n",
              "      <td>Replace old rope with new rope.  Or replace w ...</td>\n",
              "      <td>1.0</td>\n",
              "      <td>Guillermo Sarmiento</td>\n",
              "      <td>Tanner Brady</td>\n",
              "      <td>Tanner Brady</td>\n",
              "      <td>True</td>\n",
              "    </tr>\n",
              "    <tr>\n",
              "      <th>4</th>\n",
              "      <td>1172</td>\n",
              "      <td>2020-01-14</td>\n",
              "      <td>Cody Magby</td>\n",
              "      <td>2020-01-14 15:43:10</td>\n",
              "      <td>Power Delivery</td>\n",
              "      <td>South District Service Center</td>\n",
              "      <td>Construction Services</td>\n",
              "      <td>1.0</td>\n",
              "      <td>0.0</td>\n",
              "      <td>NaN</td>\n",
              "      <td>NaN</td>\n",
              "      <td>7 pole extension with 3 pot banks</td>\n",
              "      <td>1.0</td>\n",
              "      <td>Safe</td>\n",
              "      <td>NaN</td>\n",
              "      <td>0.0</td>\n",
              "      <td>Safe</td>\n",
              "      <td>Safe</td>\n",
              "      <td>Safe</td>\n",
              "      <td>Safe</td>\n",
              "      <td>Safe</td>\n",
              "      <td>Safe</td>\n",
              "      <td>Safe</td>\n",
              "      <td>Safe</td>\n",
              "      <td>Safe</td>\n",
              "      <td>1.0</td>\n",
              "      <td>ppe looked great, reflective vest in use.</td>\n",
              "      <td>Safe</td>\n",
              "      <td>Safe</td>\n",
              "      <td>Safe</td>\n",
              "      <td>Safe</td>\n",
              "      <td>Safe</td>\n",
              "      <td>NaN</td>\n",
              "      <td>1.0</td>\n",
              "      <td>Cody Magby</td>\n",
              "      <td>Gary Parks</td>\n",
              "      <td>Cody Magby</td>\n",
              "      <td>True</td>\n",
              "    </tr>\n",
              "  </tbody>\n",
              "</table>\n",
              "</div>"
            ],
            "text/plain": [
              "   Record No. Date Created  ...  Safety Professional Mobile?\n",
              "0        1144   2020-01-09  ...                  NaN    True\n",
              "1        1159   2020-01-13  ...  Guillermo Sarmiento    True\n",
              "2        1160   2020-01-13  ...         Brent Perdue   False\n",
              "3        1162   2020-01-14  ...         Tanner Brady    True\n",
              "4        1172   2020-01-14  ...           Cody Magby    True\n",
              "\n",
              "[5 rows x 38 columns]"
            ]
          },
          "metadata": {
            "tags": []
          },
          "execution_count": 38
        }
      ]
    },
    {
      "cell_type": "markdown",
      "metadata": {
        "id": "CCw0SksA-jal",
        "colab_type": "text"
      },
      "source": [
        "#Cleaning Text data just like the training dataset mentioned earlier -\n",
        "#Removing Punctuation, stop words, irrelevant words, numerics, correcting spellings, stemming to root words"
      ]
    },
    {
      "cell_type": "code",
      "metadata": {
        "colab_type": "code",
        "id": "nnN1AsiRDY-P",
        "colab": {}
      },
      "source": [
        "inc['Description of Work'] = inc['Description of Work'].apply(lambda x : x.lower()).replace('[^\\w\\s]','')"
      ],
      "execution_count": 0,
      "outputs": []
    },
    {
      "cell_type": "code",
      "metadata": {
        "colab_type": "code",
        "id": "bCyXbDNiDpDF",
        "colab": {}
      },
      "source": [
        "from nltk.corpus import stopwords\n",
        "stop = stopwords.words('english')"
      ],
      "execution_count": 0,
      "outputs": []
    },
    {
      "cell_type": "code",
      "metadata": {
        "colab_type": "code",
        "id": "qb2aKR6kDstF",
        "colab": {}
      },
      "source": [
        "inc['Description of Work'] = inc['Description of Work'].apply(lambda x : \" \".join(x for x in str(x).split(' ') if x not in stop))"
      ],
      "execution_count": 0,
      "outputs": []
    },
    {
      "cell_type": "code",
      "metadata": {
        "colab_type": "code",
        "id": "jq849ImhD2vw",
        "colab": {}
      },
      "source": [
        "remove = ['ug','member','pts.','kva','three','equipment']\n",
        "inc['Description of Work'] = inc['Description of Work'].apply(lambda x : ' '.join(x for x in str(x).split(' ') if not x.isdigit()))\n",
        "inc['Description of Work'] = inc['Description of Work'].apply(lambda x : ' '.join(x for x in str(x).split(' ') if x not in remove))"
      ],
      "execution_count": 0,
      "outputs": []
    },
    {
      "cell_type": "code",
      "metadata": {
        "colab_type": "code",
        "id": "_KeYfDLSEGKp",
        "colab": {}
      },
      "source": [
        "from textblob import TextBlob"
      ],
      "execution_count": 0,
      "outputs": []
    },
    {
      "cell_type": "code",
      "metadata": {
        "colab_type": "code",
        "id": "2carYWhREIAg",
        "colab": {}
      },
      "source": [
        "inc['Description of Work'].apply(lambda x: str(TextBlob(x).correct()))"
      ],
      "execution_count": 0,
      "outputs": []
    },
    {
      "cell_type": "code",
      "metadata": {
        "colab_type": "code",
        "id": "2ek60yELFDDd",
        "outputId": "807489bc-75f2-470f-ddac-6aabffdec363",
        "colab": {
          "base_uri": "https://localhost:8080/",
          "height": 119
        }
      },
      "source": [
        "from textblob import Word\n",
        "inc['Description of Work'] = inc['Description of Work'].apply(lambda x: \" \".join([Word(word).lemmatize() for word in x.split()]))\n",
        "inc['Description of Work'].head()"
      ],
      "execution_count": 45,
      "outputs": [
        {
          "output_type": "execute_result",
          "data": {
            "text/plain": [
              "0                    lifting pump moving staging area.\n",
              "1                                              vehicle\n",
              "2    trouble shooting capacitor station communicati...\n",
              "3                                      site walk plant\n",
              "4                              pole extension pot bank\n",
              "Name: Description of Work, dtype: object"
            ]
          },
          "metadata": {
            "tags": []
          },
          "execution_count": 45
        }
      ]
    },
    {
      "cell_type": "markdown",
      "metadata": {
        "id": "FVtquQ9SEYAa",
        "colab_type": "text"
      },
      "source": [
        "# **Building N-grams** : An N-gram is an N-token sequence of words\n",
        "\n",
        "# Idea is to extract group of words together, like verb followed by a noun in this scenario. This could tell us what are the common situations in which a potential safety incident is being recorded. For example, a safety incident was recorded when installing a led lightbulb. We would not have known the context if we looked at only high frequency 'single' words. Example : 'Installing' would not help us much even if its a high frequency word with out the word that's followed i.e. light bulb.\n",
        "\n",
        "# Showing only top 10 records here in the interest of space"
      ]
    },
    {
      "cell_type": "code",
      "metadata": {
        "id": "wlCO2EBODNLF",
        "colab_type": "code",
        "colab": {
          "base_uri": "https://localhost:8080/",
          "height": 187
        },
        "outputId": "8969d05d-b875-475d-afcf-6483959a3e52"
      },
      "source": [
        "combined_text = inc['Description of Work'].str.cat(sep=' ')\n",
        "split_words = combined_text.split(' ')\n",
        "for word in split_words[:10]:\n",
        "    print(word)"
      ],
      "execution_count": 62,
      "outputs": [
        {
          "output_type": "stream",
          "text": [
            "lifting\n",
            "pump\n",
            "moving\n",
            "staging\n",
            "area.\n",
            "vehicle\n",
            "trouble\n",
            "shooting\n",
            "capacitor\n",
            "station\n"
          ],
          "name": "stdout"
        }
      ]
    },
    {
      "cell_type": "code",
      "metadata": {
        "id": "37HjZw61DXKt",
        "colab_type": "code",
        "colab": {}
      },
      "source": [
        "from nltk.collocations import BigramCollocationFinder\n",
        "from nltk.metrics import BigramAssocMeasures\n",
        "from nltk.corpus import webtext"
      ],
      "execution_count": 0,
      "outputs": []
    },
    {
      "cell_type": "code",
      "metadata": {
        "id": "NvRkDUdCDbka",
        "colab_type": "code",
        "colab": {}
      },
      "source": [
        "finder = BigramCollocationFinder.from_words(split_words)"
      ],
      "execution_count": 0,
      "outputs": []
    },
    {
      "cell_type": "markdown",
      "metadata": {
        "id": "uBweKvV8DfiA",
        "colab_type": "text"
      },
      "source": [
        "# Top 10 Bigrams sorted based on likelihood ratio"
      ]
    },
    {
      "cell_type": "code",
      "metadata": {
        "id": "vLWUW-kiDg9q",
        "colab_type": "code",
        "colab": {
          "base_uri": "https://localhost:8080/",
          "height": 187
        },
        "outputId": "76d34caa-fb7e-4a27-d76f-a2dfcb5c7992"
      },
      "source": [
        "finder.nbest(BigramAssocMeasures.likelihood_ratio,10)"
      ],
      "execution_count": 60,
      "outputs": [
        {
          "output_type": "execute_result",
          "data": {
            "text/plain": [
              "[('pot', 'bank'),\n",
              " ('single', 'phase'),\n",
              " ('road', 'widening'),\n",
              " ('trouble', 'shooting'),\n",
              " ('turbine', 'deck'),\n",
              " ('led', 'light'),\n",
              " ('dead', 'end'),\n",
              " ('slack', 'span'),\n",
              " ('control', 'room'),\n",
              " ('dust', 'collector')]"
            ]
          },
          "metadata": {
            "tags": []
          },
          "execution_count": 60
        }
      ]
    },
    {
      "cell_type": "markdown",
      "metadata": {
        "id": "LnubhMQJEBEf",
        "colab_type": "text"
      },
      "source": [
        "# Top 10 Trigrams sorted based on likelihood ratio"
      ]
    },
    {
      "cell_type": "code",
      "metadata": {
        "id": "Fgi0QDfXDrek",
        "colab_type": "code",
        "colab": {
          "base_uri": "https://localhost:8080/",
          "height": 187
        },
        "outputId": "710429b3-0674-4248-c008-1e048c2c6e1b"
      },
      "source": [
        "from nltk.collocations import TrigramCollocationFinder\n",
        "from nltk.metrics import TrigramAssocMeasures\n",
        "from nltk.corpus import webtext\n",
        "Tri_finder = TrigramCollocationFinder.from_words(split_words)\n",
        "Tri_finder.nbest(TrigramAssocMeasures.likelihood_ratio,10)"
      ],
      "execution_count": 61,
      "outputs": [
        {
          "output_type": "execute_result",
          "data": {
            "text/plain": [
              "[('pot', 'bank', 'de'),\n",
              " ('build', 'pot', 'bank'),\n",
              " ('building', 'pot', 'bank'),\n",
              " ('pot', 'bank', 'accepting'),\n",
              " ('pot', 'bank', 'eai'),\n",
              " ('pot', 'bank', 'inch'),\n",
              " ('replacing', 'pot', 'bank'),\n",
              " ('pole', 'pot', 'bank'),\n",
              " ('pot', 'bank', 'service'),\n",
              " ('pot', 'bank', 'transporting')]"
            ]
          },
          "metadata": {
            "tags": []
          },
          "execution_count": 61
        }
      ]
    },
    {
      "cell_type": "markdown",
      "metadata": {
        "id": "rnLEVIgB-u7Q",
        "colab_type": "text"
      },
      "source": [
        "# Convert to Tokens"
      ]
    },
    {
      "cell_type": "code",
      "metadata": {
        "colab_type": "code",
        "id": "PWtc5L8PGXAQ",
        "outputId": "17be8e8c-aadf-4fb0-d3b3-48e61f1c1786",
        "colab": {
          "base_uri": "https://localhost:8080/",
          "height": 119
        }
      },
      "source": [
        "tokens_testdata = inc['Description of Work'] .apply(lambda x : TextBlob(x).words)\n",
        "tokens_testdata.head()"
      ],
      "execution_count": 46,
      "outputs": [
        {
          "output_type": "execute_result",
          "data": {
            "text/plain": [
              "0               [lifting, pump, moving, staging, area]\n",
              "1                                            [vehicle]\n",
              "2    [trouble, shooting, capacitor, station, commun...\n",
              "3                                  [site, walk, plant]\n",
              "4                         [pole, extension, pot, bank]\n",
              "Name: Description of Work, dtype: object"
            ]
          },
          "metadata": {
            "tags": []
          },
          "execution_count": 46
        }
      ]
    },
    {
      "cell_type": "markdown",
      "metadata": {
        "id": "pgNaSJLi-zkz",
        "colab_type": "text"
      },
      "source": [
        "#Bag of Words for test data"
      ]
    },
    {
      "cell_type": "code",
      "metadata": {
        "colab_type": "code",
        "id": "ViC8qXlVGjbJ",
        "outputId": "915cb455-7744-4654-c101-95352a16d7a2",
        "colab": {
          "base_uri": "https://localhost:8080/",
          "height": 34
        }
      },
      "source": [
        "dictionary_test = gensim.corpora.Dictionary(tokens_testdata)\n",
        "bow_corpus_test = [dictionary_test.doc2bow(doc) for doc in tokens_testdata]\n",
        "bow_corpus_test[0]"
      ],
      "execution_count": 47,
      "outputs": [
        {
          "output_type": "execute_result",
          "data": {
            "text/plain": [
              "[(0, 1), (1, 1), (2, 1), (3, 1), (4, 1)]"
            ]
          },
          "metadata": {
            "tags": []
          },
          "execution_count": 47
        }
      ]
    },
    {
      "cell_type": "markdown",
      "metadata": {
        "id": "8dAWdilBADQm",
        "colab_type": "text"
      },
      "source": [
        "# Apply LDA model created on first observation from test data set. Check for Topics create and respective coherency scores. "
      ]
    },
    {
      "cell_type": "code",
      "metadata": {
        "colab_type": "code",
        "id": "thZovBK-V8N1",
        "outputId": "6f615451-1c2d-4d4b-c37a-c7650c2b808c",
        "colab": {
          "base_uri": "https://localhost:8080/",
          "height": 102
        }
      },
      "source": [
        "bow_vector = dictionary.doc2bow(tokens_testdata[0])\n",
        "for index, score in sorted(lda_model_mine[bow_vector], key=lambda tup: -1*tup[1]):\n",
        "    print(\"Score: {}\\t Topic: {}\".format(score, lda_model_mine.print_topic(index, 5)))"
      ],
      "execution_count": 48,
      "outputs": [
        {
          "output_type": "stream",
          "text": [
            "Score: 0.5072685480117798\t Topic: 0.032*\"vehicle\" + 0.012*\"struck\" + 0.010*\"damage\" + 0.006*\"fell\" + 0.006*\"light\"\n",
            "Score: 0.371041864156723\t Topic: 0.009*\"line\" + 0.007*\"load\" + 0.006*\"phase\" + 0.006*\"cable\" + 0.006*\"hit\"\n",
            "Score: 0.040611542761325836\t Topic: 0.010*\"vehicle\" + 0.008*\"truck\" + 0.008*\"driver\" + 0.007*\"fire\" + 0.007*\"fell\"\n",
            "Score: 0.04056527465581894\t Topic: 0.019*\"truck\" + 0.011*\"tree\" + 0.010*\"vehicle\" + 0.006*\"door\" + 0.005*\"found\"\n",
            "Score: 0.04051275551319122\t Topic: 0.008*\"fire\" + 0.006*\"vehicle\" + 0.005*\"operator\" + 0.005*\"incident\" + 0.005*\"control\"\n"
          ],
          "name": "stdout"
        }
      ]
    },
    {
      "cell_type": "markdown",
      "metadata": {
        "id": "1QmZiPQLAcQr",
        "colab_type": "text"
      },
      "source": [
        "# Apply LDA model on all observations from Test data. For all observations, create a dictionary of actual observation number and respective coherency scores"
      ]
    },
    {
      "cell_type": "code",
      "metadata": {
        "colab_type": "code",
        "id": "NXzPPxjmG2Hn",
        "colab": {}
      },
      "source": [
        "bow_vector = dictionary.doc2bow(tokens_testdata[0])\n",
        "rownumberAndScore = {}\n",
        "for i in bow_corpus_test:\n",
        " for index, score in sorted(lda_model_mine[i], key=lambda tup: -1*tup[1]):\n",
        "    print(\"Score: {}\\t Topic: {}\".format(score, lda_model_mine.print_topic(index, 5)))\n",
        "    #print(\"rowNo: {}\\t Score: {}\".format(bow_corpus_test.index(i), score))\n",
        "    rownumberAndScore.update( {bow_corpus_test.index(i) : score} )"
      ],
      "execution_count": 0,
      "outputs": []
    },
    {
      "cell_type": "code",
      "metadata": {
        "colab_type": "code",
        "id": "M8twoTi6IMTo",
        "colab": {}
      },
      "source": [
        "rownumberAndScore"
      ],
      "execution_count": 0,
      "outputs": []
    },
    {
      "cell_type": "markdown",
      "metadata": {
        "id": "c7d9e4-cBI2h",
        "colab_type": "text"
      },
      "source": [
        "# Get the observation number with maximum coherency score. The idea is to fetch the observation from test data which has maximum similarity to the topics extracted from training data"
      ]
    },
    {
      "cell_type": "code",
      "metadata": {
        "colab_type": "code",
        "id": "wV-gx4A6W95_",
        "colab": {}
      },
      "source": [
        "max(rownumberAndScore, key=rownumberAndScore.get)"
      ],
      "execution_count": 0,
      "outputs": []
    },
    {
      "cell_type": "code",
      "metadata": {
        "colab_type": "code",
        "id": "SWHbslFbXP1Q",
        "colab": {}
      },
      "source": [
        "236/5   # Each observation has 5 rows (topics) in this dictionary. Hence dividing by 5 to get observation no from actual test data set"
      ],
      "execution_count": 0,
      "outputs": []
    },
    {
      "cell_type": "code",
      "metadata": {
        "colab_type": "code",
        "id": "hPLSmcvuXT2a",
        "outputId": "49a9ba8a-4b8f-4833-fdff-8051bc064a90",
        "colab": {
          "base_uri": "https://localhost:8080/",
          "height": 34
        }
      },
      "source": [
        "inc.iloc[47]['Description of Work']"
      ],
      "execution_count": 52,
      "outputs": [
        {
          "output_type": "execute_result",
          "data": {
            "text/plain": [
              "'contractor sucking manhole'"
            ]
          },
          "metadata": {
            "tags": []
          },
          "execution_count": 52
        }
      ]
    },
    {
      "cell_type": "markdown",
      "metadata": {
        "id": "HuNGl8GbBwfO",
        "colab_type": "text"
      },
      "source": [
        "# This analysis helps realize areas which are seeing more safety incidents, thereby calling action to take necessary precautions and avoid future accidents."
      ]
    }
  ]
}